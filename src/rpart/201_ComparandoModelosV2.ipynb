{
  "nbformat": 4,
  "nbformat_minor": 0,
  "metadata": {
    "colab": {
      "provenance": [],
      "include_colab_link": true
    },
    "kernelspec": {
      "name": "ir",
      "display_name": "R"
    },
    "language_info": {
      "name": "R"
    }
  },
  "cells": [
    {
      "cell_type": "markdown",
      "metadata": {
        "id": "view-in-github",
        "colab_type": "text"
      },
      "source": [
        "<a href=\"https://colab.research.google.com/github/mhowlin-web/dm2025b/blob/main/src/rpart/201_ComparandoModelosV2.ipynb\" target=\"_parent\"><img src=\"https://colab.research.google.com/assets/colab-badge.svg\" alt=\"Open In Colab\"/></a>"
      ]
    },
    {
      "cell_type": "markdown",
      "source": [
        "# Comparando Modelos"
      ],
      "metadata": {
        "id": "5DrvzQ9BsXmX"
      }
    },
    {
      "cell_type": "markdown",
      "source": [
        "Estamos en la  Clase 02\n",
        "<br> El objetivo de la materia es lograr la mejor predicción para nuestro probleama, para lo que se probarán pipelines con decenas de alternativas, será indispensable comparar varios modelos predictivos entre sí y decidir cual es el mejor\n",
        "<br> La tarea no es tan sencilla"
      ],
      "metadata": {
        "id": "Y2U9lu16sgta"
      }
    },
    {
      "cell_type": "markdown",
      "source": [
        "## Seteo del ambiente en Google Colab"
      ],
      "metadata": {
        "id": "kmLygy1TYPfg"
      }
    },
    {
      "cell_type": "markdown",
      "source": [
        "Esta parte se debe correr con el runtime en Python3\n",
        "<br>Ir al menu, Runtime -> Change Runtime Tipe -> Runtime type ->  **Python 3**"
      ],
      "metadata": {
        "id": "OikOm5K2YU3X"
      }
    },
    {
      "cell_type": "markdown",
      "source": [
        "Conectar la virtual machine donde esta corriendo Google Colab con el  Google Drive, para poder tener persistencia de archivos"
      ],
      "metadata": {
        "id": "4fmV5LyZdFyI"
      }
    },
    {
      "cell_type": "code",
      "source": [
        "# primero establecer el Runtime de Python 3\n",
        "from google.colab import drive\n",
        "drive.mount('/content/.drive')"
      ],
      "metadata": {
        "id": "ilEZ-bE2VybW",
        "colab": {
          "base_uri": "https://localhost:8080/"
        },
        "outputId": "29ccae7f-1fef-4650-a953-07042bccd076"
      },
      "execution_count": null,
      "outputs": [
        {
          "output_type": "stream",
          "name": "stdout",
          "text": [
            "Mounted at /content/.drive\n"
          ]
        }
      ]
    },
    {
      "cell_type": "markdown",
      "source": [
        "Para correr la siguiente celda es fundamental en Arranque en Frio haber copiado el archivo kaggle.json al Google Drive, en la carpeta indicada en el instructivo\n",
        "\n",
        "<br>los siguientes comando estan en shell script de Linux\n",
        "*   Crear las carpetas en el Google Drive\n",
        "*   \"instalar\" el archivo kaggle.json desde el Google Drive a la virtual machine para que pueda ser utilizado por la libreria  kaggle de Python\n",
        "*   Bajar el  **dataset_pequeno**  al  Google Drive  y tambien al disco local de la virtual machine que esta corriendo Google Colab\n",
        "\n"
      ],
      "metadata": {
        "id": "ilaKtqWldeWg"
      }
    },
    {
      "cell_type": "code",
      "source": [
        "%%shell\n",
        "\n",
        "mkdir -p \"/content/.drive/My Drive/dm\"\n",
        "mkdir -p \"/content/buckets\"\n",
        "ln -s \"/content/.drive/My Drive/dm\" /content/buckets/b1\n",
        "\n",
        "mkdir -p ~/.kaggle\n",
        "cp /content/buckets/b1/kaggle/kaggle.json  ~/.kaggle\n",
        "chmod 600 ~/.kaggle/kaggle.json\n",
        "\n",
        "\n",
        "mkdir -p /content/buckets/b1/exp\n",
        "mkdir -p /content/buckets/b1/datasets\n",
        "mkdir -p /content/datasets\n",
        "\n",
        "\n",
        "\n",
        "archivo_origen=\"https://storage.googleapis.com/open-courses/itba2025-8d0a/dataset_pequeno.csv\"\n",
        "archivo_destino=\"/content/datasets/dataset_pequeno.csv\"\n",
        "archivo_destino_bucket=\"/content/buckets/b1/datasets/dataset_pequeno.csv\"\n",
        "\n",
        "if ! test -f $archivo_destino_bucket; then\n",
        "  wget  $archivo_origen  -O $archivo_destino_bucket\n",
        "fi\n",
        "\n",
        "\n",
        "if ! test -f $archivo_destino; then\n",
        "  cp  $archivo_destino_bucket  $archivo_destino\n",
        "fi\n"
      ],
      "metadata": {
        "id": "W8dQFI5QYCFa",
        "colab": {
          "base_uri": "https://localhost:8080/"
        },
        "outputId": "0bd8a816-0489-4a65-85d0-902e242cb36b"
      },
      "execution_count": null,
      "outputs": [
        {
          "output_type": "stream",
          "name": "stdout",
          "text": [
            "--2025-08-22 21:57:18--  https://storage.googleapis.com/open-courses/itba2025-8d0a/dataset_pequeno.csv\n",
            "Resolving storage.googleapis.com (storage.googleapis.com)... 172.217.12.27, 172.217.15.251, 172.217.164.27, ...\n",
            "Connecting to storage.googleapis.com (storage.googleapis.com)|172.217.12.27|:443... connected.\n",
            "HTTP request sent, awaiting response... 200 OK\n",
            "Length: 168083585 (160M) [text/csv]\n",
            "Saving to: ‘/content/buckets/b1/datasets/dataset_pequeno.csv’\n",
            "\n",
            "/content/buckets/b1 100%[===================>] 160.30M  71.1MB/s    in 2.3s    \n",
            "\n",
            "2025-08-22 21:57:20 (71.1 MB/s) - ‘/content/buckets/b1/datasets/dataset_pequeno.csv’ saved [168083585/168083585]\n",
            "\n"
          ]
        },
        {
          "output_type": "execute_result",
          "data": {
            "text/plain": []
          },
          "metadata": {},
          "execution_count": 2
        }
      ]
    },
    {
      "cell_type": "markdown",
      "source": [
        "# 1  Particion Training/Testing\n",
        "## Clase 02  Experimento 1"
      ],
      "metadata": {
        "id": "iV32-NeesVp6"
      }
    },
    {
      "cell_type": "markdown",
      "source": [
        "## 1.1  Objetivos\n",
        "Dado que es el primer experimento de la asignatura, acercar a l@s estudiantes las mejores prácticas de operación del ambiente de Google Cloud, realizando una minuciosa demostración en vivo narrando todas las consideraciones pertinentes para evitar accidentes, daños a terceros y a equipos.\n",
        "Dar soporte en el acto a  l@s estudiantes que necesitan ayuda para terminar de configurar el ambiente Google Cloud .\n",
        "<br>Repaso del concepto de  partición de un dataset al azar, estratificada en la clase\n",
        "<br>Dado que es el primer script que se mostrará en vivo a l@s estudiantes,  realizar una visita guiada del  mismo, su estructura y detalles.\n",
        "<br>Repaso del algoritmo Arbol de Decisión sus hiperparámetros, y la implementación con la librería  rpart.  Funciones  rpart::rpart  y rpart::predict\n",
        "<br>Concepto de replicabilidad de los experimentos mediante las semillas de los generadores de secuencias de números pseudoaleatorios.\n",
        "<br>Finalmente, el principal objetivo de este experimento es lograr que l@s estudiantes dimensionen la enorme variabilidad del error de medición de la ganancia de un árbol de decisión al realizar una partición <training, testing>,  contener la sorpresa de los estudiantes, descartar a la simple particion <training, testing> como método,  y construir en conjunto una solucion natural al problema."
      ],
      "metadata": {
        "id": "84Pnj9gVwpXB"
      }
    },
    {
      "cell_type": "markdown",
      "source": [
        "## 1.2 Introduccion"
      ],
      "metadata": {
        "id": "L9Cn0WThw37Y"
      }
    },
    {
      "cell_type": "markdown",
      "source": [
        "![Particiohn Training/Testing](https://storage.googleapis.com/open-courses/austral2025-af91/labo1r/C2_E1_particion.jpg)"
      ],
      "metadata": {
        "id": "ZELZ0R4itUVG"
      }
    },
    {
      "cell_type": "markdown",
      "source": [
        "![Dos tipos de error](https://storage.googleapis.com/open-courses/austral2025-af91/labo1r/C2_E1_target.jpg)"
      ],
      "metadata": {
        "id": "Wtc1ho58xLk-"
      }
    },
    {
      "cell_type": "markdown",
      "source": [
        "## 1.3  Bibliografía\n",
        "\n",
        "Demšar, J. [Statistical comparisons of classifiers over multiple data sets](https://www.jmlr.org/papers/volume7/demsar06a/demsar06a.pdf) J. Mach. Learn. Res. 7, 1–30 (2006).   \n",
        "Starmer, J. [Machine Learning Fundamentals: Cross Validation](https://www.youtube.com/watch?v=fSytzGwwBVw)Machine Learning Fundamentals: Cross Validation, StatQuest with Josh Starmer youtube channel, (2018)\n",
        "Hastie, T.[The elements of statistical learning: data mining, inference, and prediction](https://hastie.su.domains/Papers/ESLII.pdf) , volume 2. Springer, 2009  ( Chapter 7 Model Assessment and Selection )"
      ],
      "metadata": {
        "id": "oRWtRV34xZRT"
      }
    },
    {
      "cell_type": "markdown",
      "source": [
        "## 1.4 Codigo"
      ],
      "metadata": {
        "id": "VcgTQ2-Pyb8q"
      }
    },
    {
      "cell_type": "markdown",
      "source": [
        "Esta parte se debe correr con el runtime en lenguaje **R** Ir al menu, Runtime -> Change Runtime Tipe -> Runtime type -> R"
      ],
      "metadata": {
        "id": "SBXPU-_tabMb"
      }
    },
    {
      "cell_type": "markdown",
      "source": [
        "limpio el ambiente de R"
      ],
      "metadata": {
        "id": "SE94XRhWsxkX"
      }
    },
    {
      "cell_type": "code",
      "source": [
        "# limpio la memoria\n",
        "rm(list=ls(all.names=TRUE)) # remove all objects\n",
        "gc(full=TRUE, verbose=FALSE) # garbage collection"
      ],
      "metadata": {
        "id": "oZG_4br6szlT",
        "colab": {
          "base_uri": "https://localhost:8080/",
          "height": 129
        },
        "outputId": "4565e201-8299-4845-91c7-65f8a5f80784"
      },
      "execution_count": null,
      "outputs": [
        {
          "output_type": "display_data",
          "data": {
            "text/html": [
              "<table class=\"dataframe\">\n",
              "<caption>A matrix: 2 × 6 of type dbl</caption>\n",
              "<thead>\n",
              "\t<tr><th></th><th scope=col>used</th><th scope=col>(Mb)</th><th scope=col>gc trigger</th><th scope=col>(Mb)</th><th scope=col>max used</th><th scope=col>(Mb)</th></tr>\n",
              "</thead>\n",
              "<tbody>\n",
              "\t<tr><th scope=row>Ncells</th><td> 656423</td><td>35.1</td><td>1454468</td><td>77.7</td><td>1362539</td><td>72.8</td></tr>\n",
              "\t<tr><th scope=row>Vcells</th><td>1219216</td><td> 9.4</td><td>8388608</td><td>64.0</td><td>1975128</td><td>15.1</td></tr>\n",
              "</tbody>\n",
              "</table>\n"
            ],
            "text/markdown": "\nA matrix: 2 × 6 of type dbl\n\n| <!--/--> | used | (Mb) | gc trigger | (Mb) | max used | (Mb) |\n|---|---|---|---|---|---|---|\n| Ncells |  656423 | 35.1 | 1454468 | 77.7 | 1362539 | 72.8 |\n| Vcells | 1219216 |  9.4 | 8388608 | 64.0 | 1975128 | 15.1 |\n\n",
            "text/latex": "A matrix: 2 × 6 of type dbl\n\\begin{tabular}{r|llllll}\n  & used & (Mb) & gc trigger & (Mb) & max used & (Mb)\\\\\n\\hline\n\tNcells &  656423 & 35.1 & 1454468 & 77.7 & 1362539 & 72.8\\\\\n\tVcells & 1219216 &  9.4 & 8388608 & 64.0 & 1975128 & 15.1\\\\\n\\end{tabular}\n",
            "text/plain": [
              "       used    (Mb) gc trigger (Mb) max used (Mb)\n",
              "Ncells  656423 35.1 1454468    77.7 1362539  72.8\n",
              "Vcells 1219216  9.4 8388608    64.0 1975128  15.1"
            ]
          },
          "metadata": {}
        }
      ]
    },
    {
      "cell_type": "code",
      "source": [
        "Sys.time()"
      ],
      "metadata": {
        "id": "pJ8SsVA5ssnf",
        "colab": {
          "base_uri": "https://localhost:8080/",
          "height": 34
        },
        "outputId": "0650c120-93ae-4f8d-fc1f-c39ed41650e3"
      },
      "execution_count": null,
      "outputs": [
        {
          "output_type": "display_data",
          "data": {
            "text/plain": [
              "[1] \"2025-08-22 22:02:28 UTC\""
            ]
          },
          "metadata": {}
        }
      ]
    },
    {
      "cell_type": "markdown",
      "source": [
        "* Instalacion de la libreria  rpart.plot  para dibujar el arbol\n",
        "* invocacion de las librerias  **data.table** y  **rpart**"
      ],
      "metadata": {
        "id": "3BrrQ47PeEb2"
      }
    },
    {
      "cell_type": "code",
      "source": [
        "# cargo las librerias que necesito\n",
        "require(\"data.table\")\n",
        "require(\"rpart\")\n"
      ],
      "metadata": {
        "id": "SxO-0Ql0khn6",
        "colab": {
          "base_uri": "https://localhost:8080/"
        },
        "outputId": "57a6ad45-4282-428f-8c68-9e847a2c1d18"
      },
      "execution_count": null,
      "outputs": [
        {
          "output_type": "stream",
          "name": "stderr",
          "text": [
            "Loading required package: data.table\n",
            "\n",
            "Loading required package: rpart\n",
            "\n"
          ]
        }
      ]
    },
    {
      "cell_type": "markdown",
      "source": [
        "###  Accion a Realizar\n",
        "PARAM$semilla  debe tener su primer semilla aleatoria"
      ],
      "metadata": {
        "id": "ZG9fCnZh3bWV"
      }
    },
    {
      "cell_type": "code",
      "source": [
        "PARAM <- list()\n",
        "PARAM$semilla <- 999979  # aqui debe ir su primer semilla\n",
        "PARAM$training_pct <- 70L  # entre  1L y 99L\n",
        "\n",
        "PARAM$rpart <- list (\n",
        "  \"cp\" = -1, # complejidad minima\n",
        "  \"minsplit\" = 170, # minima cantidad de regs en un nodo para hacer el split\n",
        "  \"minbucket\" = 70, # minima cantidad de regs en una hoja\n",
        "  \"maxdepth\" = 7 # profundidad máxima del arbol\n",
        ")\n"
      ],
      "metadata": {
        "id": "0nx5_OcE3Y9c"
      },
      "execution_count": null,
      "outputs": []
    },
    {
      "cell_type": "code",
      "source": [
        "# particionar agrega una columna llamada fold a un dataset\n",
        "#  que consiste en una particion estratificada segun agrupa\n",
        "\n",
        "# particionar( data=dataset, division=c(70,30),\n",
        "#  agrupa=clase_ternaria, seed=semilla)   crea una particion 70, 30\n",
        "\n",
        "particionar <- function(\n",
        "    data, division, agrupa = \"\",\n",
        "    campo = \"fold\", start = 1, seed = NA) {\n",
        "  if (!is.na(seed)) set.seed(seed)\n",
        "\n",
        "  bloque <- unlist(mapply(function(x, y) {\n",
        "    rep(y, x)\n",
        "  }, division, seq(from = start, length.out = length(division))))\n",
        "\n",
        "  data[, (campo) := sample(rep(bloque, ceiling(.N / length(bloque))))[1:.N],\n",
        "    by = agrupa\n",
        "  ]\n",
        "}\n"
      ],
      "metadata": {
        "id": "8HLE9Dx80gjH"
      },
      "execution_count": null,
      "outputs": []
    },
    {
      "cell_type": "code",
      "source": [
        "# carpeta de trabajo\n",
        "setwd(\"/content/buckets/b1/exp\")\n",
        "experimento <- \"exp201\"\n",
        "dir.create(experimento, showWarnings=FALSE)\n",
        "setwd( paste0(\"/content/buckets/b1/exp/\", experimento ))"
      ],
      "metadata": {
        "id": "sC4_nqcm0nUs"
      },
      "execution_count": null,
      "outputs": []
    },
    {
      "cell_type": "code",
      "source": [
        "# lectura del dataset\n",
        "dataset <- fread(\"/content/datasets/dataset_pequeno.csv\")\n",
        "\n",
        "# trabajo solo con los datos con clase, es decir 202107\n",
        "dataset <- dataset[clase_ternaria != \"\"]"
      ],
      "metadata": {
        "id": "6yIEsZOw07q8"
      },
      "execution_count": null,
      "outputs": []
    },
    {
      "cell_type": "code",
      "source": [
        "# particiono estratificadamente el dataset 70%, 30%\n",
        "particionar(dataset,\n",
        "  division = c(PARAM$training_pct, 100L -PARAM$training_pct),\n",
        "  agrupa = \"clase_ternaria\",\n",
        "  seed = PARAM$semilla # aqui se usa SU semilla\n",
        ")\n",
        "\n"
      ],
      "metadata": {
        "id": "FAO1Hhd52b5d"
      },
      "execution_count": null,
      "outputs": []
    },
    {
      "cell_type": "code",
      "source": [
        "# genero el modelo\n",
        "# quiero predecir clase_ternaria a partir del resto\n",
        "# fold==1  es training,  el 70% de los datos\n",
        "modelo <- rpart(\"clase_ternaria ~ .\",\n",
        "  data = dataset[fold == 1],  # fold==1  es training, el 70% de los datos\n",
        "  xval = 0,\n",
        "  control = PARAM$rpart # aqui van los parametros\n",
        ")\n"
      ],
      "metadata": {
        "id": "s3UnHSLP2gN6"
      },
      "execution_count": null,
      "outputs": []
    },
    {
      "cell_type": "code",
      "source": [
        "# aplico el modelo a los datos de testing\n",
        "prediccion <- predict(modelo, # el modelo que genere recien\n",
        "  dataset[fold == 2], # fold==2  es testing, el 30% de los datos\n",
        "  type = \"prob\"\n",
        ") # type= \"prob\"  es que devuelva la probabilidad\n"
      ],
      "metadata": {
        "id": "paQphV4A2jGz"
      },
      "execution_count": null,
      "outputs": []
    },
    {
      "cell_type": "code",
      "source": [
        "tb_prediccion <- as.data.table(list(\n",
        "  \"clase_ternaria\"=dataset[fold == 2, clase_ternaria],\n",
        "  \"prob\"=prediccion[, \"BAJA+2\"]\n",
        "))"
      ],
      "metadata": {
        "id": "fuLZ75pA29dT"
      },
      "execution_count": null,
      "outputs": []
    },
    {
      "cell_type": "code",
      "source": [
        "# calculo la ganancia de cada registro\n",
        "tb_prediccion[, ganancia := ifelse(clase_ternaria == \"BAJA+2\", 117000, -3000)]"
      ],
      "metadata": {
        "id": "LuG6ql_t3kOI"
      },
      "execution_count": null,
      "outputs": []
    },
    {
      "cell_type": "code",
      "source": [
        "# calculo la clase\n",
        "tb_prediccion[, Predicted := prob > (1/40) ]"
      ],
      "metadata": {
        "id": "xJ3WTMez3leO"
      },
      "execution_count": null,
      "outputs": []
    },
    {
      "cell_type": "code",
      "source": [
        "ganancia_test <-  tb_prediccion[ Predicted==TRUE,  sum(ganancia)]"
      ],
      "metadata": {
        "id": "cFQPacen4Wq6"
      },
      "execution_count": null,
      "outputs": []
    },
    {
      "cell_type": "code",
      "source": [
        "# normalizo la ganancia\n",
        "ganancia_test_normalizada <- ganancia_test / (( 100 - PARAM$training_pct ) / 100 )"
      ],
      "metadata": {
        "id": "dHjz0zhN4-nZ"
      },
      "execution_count": null,
      "outputs": []
    },
    {
      "cell_type": "code",
      "source": [
        "estimulos <- tb_prediccion[ Predicted==TRUE, .N]\n",
        "aciertos <- tb_prediccion[ Predicted & clase_ternaria == \"BAJA+2\", .N]\n"
      ],
      "metadata": {
        "id": "D7RUdTb95F6B"
      },
      "execution_count": null,
      "outputs": []
    },
    {
      "cell_type": "code",
      "source": [
        "# Resultado Final\n",
        "cat(\"Testing total: \", dataset[fold == 2, .N], \"\\n\")\n",
        "cat(\"Testing BAJA+2: \", dataset[fold == 2 & clase_ternaria == \"BAJA+2\", .N], \"\\n\")\n",
        "\n",
        "cat(\"Estimulos: \", estimulos, \"\\n\")\n",
        "cat(\"Aciertos (BAJA+2): \", aciertos, \"\\n\")\n",
        "\n",
        "cat(\"Ganancia en testing (normalizada): \", ganancia_test_normalizada, \"\\n\")\n"
      ],
      "metadata": {
        "id": "Lu1KM6fy5U7h",
        "colab": {
          "base_uri": "https://localhost:8080/"
        },
        "outputId": "bcda7ee9-3369-4580-c0b1-1ac89c0ca8b8"
      },
      "execution_count": null,
      "outputs": [
        {
          "output_type": "stream",
          "name": "stdout",
          "text": [
            "Testing total:  49380 \n",
            "Testing BAJA+2:  378 \n",
            "Estimulos:  2773 \n",
            "Aciertos (BAJA+2):  201 \n",
            "Ganancia en testing (normalizada):  52670000 \n"
          ]
        }
      ]
    },
    {
      "cell_type": "markdown",
      "source": [
        "### Acciones a realizar\n",
        "* Reportar la  *Ganancia en testing (normalizada)* <br> en la planilla colaborativa hoja  **C2-1sem**\n",
        "* Se discutirá en clase la variabilidad de las ganancias obtenidas de distintos alumnos"
      ],
      "metadata": {
        "id": "kHs-YoFB5rUa"
      }
    },
    {
      "cell_type": "markdown",
      "source": [
        "\n",
        "\n",
        "---\n",
        "\n"
      ],
      "metadata": {
        "id": "LBl_eIeO7WuM"
      }
    },
    {
      "cell_type": "markdown",
      "source": [
        "# 2  Medición Monte Carlo Cross Validation\n",
        "## Clase 02  Experimento 2"
      ],
      "metadata": {
        "id": "h43UCq9y7UlT"
      }
    },
    {
      "cell_type": "markdown",
      "source": [
        "## 2.1  Objetivos\n",
        "Mostrar el funcionamiento de la Montecarlo Cross Validation y que l@s estudiantes aprecien la disminución de la varianza de dicha metodología.\n",
        "Relación con el Teorema Central del Límite"
      ],
      "metadata": {
        "id": "wHPchGXK80VU"
      }
    },
    {
      "cell_type": "markdown",
      "source": [
        "## 2.2 Introduccion\n",
        "\n",
        "![Montecarlo](https://storage.googleapis.com/open-courses/austral2025-af91/labo1r/C2_E2_montecarlo.jpg)\n",
        "\n",
        "![Curva normal](https://storage.googleapis.com/open-courses/austral2025-af91/labo1r/C2_E2_normal.jpg)\n",
        "\n",
        "![Teorema Central del Limite](https://storage.googleapis.com/open-courses/austral2025-af91/labo1r/C2_E2_teoremacentralLimite.jpg)\n",
        "\n"
      ],
      "metadata": {
        "id": "g6YzACxl9DzS"
      }
    },
    {
      "cell_type": "markdown",
      "source": [],
      "metadata": {
        "id": "7laod2t4ArsH"
      }
    },
    {
      "cell_type": "markdown",
      "source": [
        "## 2.3  Bibliografía\n",
        "\n",
        "Demšar, J. [Statistical comparisons of classifiers over multiple data sets](https://www.jmlr.org/papers/volume7/demsar06a/demsar06a.pdf) J. Mach. Learn. Res. 7, 1–30 (2006).   \n",
        "Starmer, J. [Machine Learning Fundamentals: Cross Validation](https://www.youtube.com/watch?v=fSytzGwwBVw)Machine Learning Fundamentals: Cross Validation, StatQuest with Josh Starmer youtube channel, (2018)\n",
        "Hastie, T.[The elements of statistical learning: data mining, inference, and prediction](https://hastie.su.domains/Papers/ESLII.pdf) , volume 2. Springer, 2009  ( Chapter 7 Model Assessment and Selection )"
      ],
      "metadata": {
        "id": "lFcJeRAkAr-q"
      }
    },
    {
      "cell_type": "code",
      "source": [],
      "metadata": {
        "id": "KXSuYXQ26cLV"
      },
      "execution_count": null,
      "outputs": []
    },
    {
      "cell_type": "markdown",
      "source": [
        "## 2.4 Codigo  Montecarlo"
      ],
      "metadata": {
        "id": "0ztZzYolA2WK"
      }
    },
    {
      "cell_type": "markdown",
      "source": [
        "El código de la Montecarlo Cross Validation es notablemente más complejo que el anterior de una simple partición training/testing\n",
        "<br> Se crea la funcion ArbolEstimarGanancia()  que dada una semilla realiza la partición  training/testing, entrena en training, aplica el modelo a testing, y se calculan las ganancias\n",
        "<br> Se utiliza la funcion **mcmapply**  de R para aplicar ArbolEstimarGanancia a todos los elementos del vector de semillas"
      ],
      "metadata": {
        "id": "KLa06ZsiC-Oz"
      }
    },
    {
      "cell_type": "markdown",
      "source": [
        "Esta parte se debe correr con el runtime en lenguaje **R** Ir al menu, Runtime -> Change Runtime Tipe -> Runtime type -> R"
      ],
      "metadata": {
        "id": "ivFiBBOQA2Ws"
      }
    },
    {
      "cell_type": "markdown",
      "source": [
        "limpio el ambiente de R"
      ],
      "metadata": {
        "id": "TMSAQDXuA2Ws"
      }
    },
    {
      "cell_type": "code",
      "source": [
        "# limpio la memoria\n",
        "rm(list=ls(all.names=TRUE)) # remove all objects\n",
        "gc(full=TRUE, verbose=FALSE) # garbage collection"
      ],
      "metadata": {
        "id": "eakzb8y2A2Wt",
        "colab": {
          "base_uri": "https://localhost:8080/",
          "height": 129
        },
        "outputId": "758345f4-51b7-4049-95fa-355410ff9e17"
      },
      "execution_count": null,
      "outputs": [
        {
          "output_type": "display_data",
          "data": {
            "text/html": [
              "<table class=\"dataframe\">\n",
              "<caption>A matrix: 2 × 6 of type dbl</caption>\n",
              "<thead>\n",
              "\t<tr><th></th><th scope=col>used</th><th scope=col>(Mb)</th><th scope=col>gc trigger</th><th scope=col>(Mb)</th><th scope=col>max used</th><th scope=col>(Mb)</th></tr>\n",
              "</thead>\n",
              "<tbody>\n",
              "\t<tr><th scope=row>Ncells</th><td> 744156</td><td>39.8</td><td>  1454468</td><td> 77.7</td><td>  1454468</td><td> 77.7</td></tr>\n",
              "\t<tr><th scope=row>Vcells</th><td>1413428</td><td>10.8</td><td>101950881</td><td>777.9</td><td>122142672</td><td>931.9</td></tr>\n",
              "</tbody>\n",
              "</table>\n"
            ],
            "text/markdown": "\nA matrix: 2 × 6 of type dbl\n\n| <!--/--> | used | (Mb) | gc trigger | (Mb) | max used | (Mb) |\n|---|---|---|---|---|---|---|\n| Ncells |  744156 | 39.8 |   1454468 |  77.7 |   1454468 |  77.7 |\n| Vcells | 1413428 | 10.8 | 101950881 | 777.9 | 122142672 | 931.9 |\n\n",
            "text/latex": "A matrix: 2 × 6 of type dbl\n\\begin{tabular}{r|llllll}\n  & used & (Mb) & gc trigger & (Mb) & max used & (Mb)\\\\\n\\hline\n\tNcells &  744156 & 39.8 &   1454468 &  77.7 &   1454468 &  77.7\\\\\n\tVcells & 1413428 & 10.8 & 101950881 & 777.9 & 122142672 & 931.9\\\\\n\\end{tabular}\n",
            "text/plain": [
              "       used    (Mb) gc trigger (Mb)  max used  (Mb) \n",
              "Ncells  744156 39.8   1454468   77.7   1454468  77.7\n",
              "Vcells 1413428 10.8 101950881  777.9 122142672 931.9"
            ]
          },
          "metadata": {}
        }
      ]
    },
    {
      "cell_type": "markdown",
      "source": [
        "* Instalacion de la libreria  rpart.plot  para dibujar el arbol\n",
        "* invocacion de las librerias  **data.table** y  **rpart**"
      ],
      "metadata": {
        "id": "559RkeYZA2Wv"
      }
    },
    {
      "cell_type": "code",
      "source": [
        "# cargo las librerias que necesito\n",
        "require(\"data.table\")\n",
        "require(\"rpart\")\n",
        "require(\"parallel\")"
      ],
      "metadata": {
        "id": "yf_S_HlsA2Wv",
        "colab": {
          "base_uri": "https://localhost:8080/"
        },
        "outputId": "45a91534-00b5-4132-9bd5-1305b020cc8e"
      },
      "execution_count": null,
      "outputs": [
        {
          "output_type": "stream",
          "name": "stderr",
          "text": [
            "Loading required package: parallel\n",
            "\n"
          ]
        }
      ]
    },
    {
      "cell_type": "markdown",
      "source": [
        "###  Accion a Realizar\n",
        "PARAM$semillas  debe tener sus cinco semillas aleatorias"
      ],
      "metadata": {
        "id": "a4oz2ulCA2Ww"
      }
    },
    {
      "cell_type": "code",
      "source": [
        "PARAM <- list()\n",
        "PARAM$semillas <- c(999979, 999961, 999959, 999953, 999931)  # aqui debe ir sus CINCO\n",
        "PARAM$training_pct <- 70L  # entre  1L y 99L\n",
        "\n",
        "PARAM$rpart <- list (\n",
        "  \"cp\" = -1, # complejidad minima\n",
        "  \"minsplit\" = 170, # minima cantidad de regs en un nodo para hacer el split\n",
        "  \"minbucket\" = 70, # minima cantidad de regs en una hoja\n",
        "  \"maxdepth\" = 7 # profundidad máxima del arbol\n",
        ")\n"
      ],
      "metadata": {
        "id": "yQ2OAP5AA2Wx"
      },
      "execution_count": null,
      "outputs": []
    },
    {
      "cell_type": "code",
      "source": [
        "# particionar agrega una columna llamada fold a un dataset\n",
        "#  que consiste en una particion estratificada segun agrupa\n",
        "\n",
        "# particionar( data=dataset, division=c(70,30),\n",
        "#  agrupa=clase_ternaria, seed=semilla)   crea una particion 70, 30\n",
        "\n",
        "particionar <- function(\n",
        "    data, division, agrupa = \"\",\n",
        "    campo = \"fold\", start = 1, seed = NA) {\n",
        "  if (!is.na(seed)) set.seed(seed)\n",
        "\n",
        "  bloque <- unlist(mapply(function(x, y) {\n",
        "    rep(y, x)\n",
        "  }, division, seq(from = start, length.out = length(division))))\n",
        "\n",
        "  data[, (campo) := sample(rep(bloque, ceiling(.N / length(bloque))))[1:.N],\n",
        "    by = agrupa\n",
        "  ]\n",
        "}\n"
      ],
      "metadata": {
        "id": "97dMCVJWA2Wy"
      },
      "execution_count": null,
      "outputs": []
    },
    {
      "cell_type": "code",
      "source": [
        "\n",
        "ArbolEstimarGanancia <- function(semilla, param_basicos) {\n",
        "  # particiono estratificadamente el dataset\n",
        "  particionar(dataset,\n",
        "    division = c(param_basicos$training_pct, 100L -param_basicos$training_pct),\n",
        "    agrupa = \"clase_ternaria\",\n",
        "    seed = semilla # aqui se usa SU semilla\n",
        "  )\n",
        "\n",
        "  # genero el modelo\n",
        "  # predecir clase_ternaria a partir del resto\n",
        "  modelo <- rpart(\"clase_ternaria ~ .\",\n",
        "    data = dataset[fold == 1], # fold==1  es training,  el 70% de los datos\n",
        "    xval = 0,\n",
        "    control = param_basicos$rpart\n",
        "  ) # aqui van los parametros del arbol\n",
        "\n",
        "  # aplico el modelo a los datos de testing\n",
        "  prediccion <- predict(modelo, # el modelo que genere recien\n",
        "    dataset[fold == 2], # fold==2  es testing, el 30% de los datos\n",
        "    type = \"prob\"\n",
        "  ) # type= \"prob\"  es que devuelva la probabilidad\n",
        "\n",
        "  # prediccion es una matriz con TRES columnas,\n",
        "  #  llamadas \"BAJA+1\", \"BAJA+2\"  y \"CONTINUA\"\n",
        "  # cada columna es el vector de probabilidades\n",
        "\n",
        "\n",
        "  # calculo la ganancia en testing  qu es fold==2\n",
        "  ganancia_test <- dataset[\n",
        "    fold == 2,\n",
        "    sum(ifelse(prediccion[, \"BAJA+2\"] > 0.025,\n",
        "      ifelse(clase_ternaria == \"BAJA+2\", 117000, -3000),\n",
        "      0\n",
        "    ))\n",
        "  ]\n",
        "\n",
        "  # escalo la ganancia como si fuera todo el dataset\n",
        "  ganancia_test_normalizada <- ganancia_test / (( 100 - PARAM$training_pct ) / 100 )\n",
        "\n",
        "  return(list(\n",
        "    \"semilla\" = semilla,\n",
        "    \"testing\" = dataset[fold == 2, .N],\n",
        "    \"testing_pos\" = dataset[fold == 2 & clase_ternaria == \"BAJA+2\", .N],\n",
        "    \"envios\" = dataset[fold == 2, sum(prediccion[, \"BAJA+2\"] > 0.025)],\n",
        "    \"aciertos\" = dataset[\n",
        "        fold == 2,\n",
        "        sum(prediccion[, \"BAJA+2\"] > 0.025 & clase_ternaria == \"BAJA+2\")\n",
        "    ],\n",
        "    \"ganancia_test\" = ganancia_test_normalizada\n",
        "  ))\n",
        "}\n"
      ],
      "metadata": {
        "id": "GroZSZoVBuZ5"
      },
      "execution_count": null,
      "outputs": []
    },
    {
      "cell_type": "code",
      "source": [
        "# carpeta de trabajo\n",
        "setwd(\"/content/buckets/b1/exp\")\n",
        "experimento <- \"exp202\"\n",
        "dir.create(experimento, showWarnings=FALSE)\n",
        "setwd( paste0(\"/content/buckets/b1/exp/\", experimento ))"
      ],
      "metadata": {
        "id": "dJIBIX6kA2Wy"
      },
      "execution_count": null,
      "outputs": []
    },
    {
      "cell_type": "code",
      "source": [
        "# lectura del dataset\n",
        "dataset <- fread(\"/content/datasets/dataset_pequeno.csv\")\n",
        "\n",
        "# trabajo solo con los datos con clase, es decir 202107\n",
        "dataset <- dataset[clase_ternaria != \"\"]"
      ],
      "metadata": {
        "id": "tKiACdU2A2Wz"
      },
      "execution_count": null,
      "outputs": []
    },
    {
      "cell_type": "code",
      "source": [
        "\n",
        "# la funcion mcmapply  llama a la funcion ArbolEstimarGanancia\n",
        "#  tantas veces como valores tenga el vector  PARAM$semillas\n",
        "salidas <- mcmapply(ArbolEstimarGanancia,\n",
        "  PARAM$semillas, # paso el vector de semillas\n",
        "  MoreArgs = list(PARAM), # aqui paso el segundo parametro\n",
        "  SIMPLIFY = FALSE,\n",
        "  mc.cores = detectCores()\n",
        ")\n",
        "\n",
        "# muestro la lista de las salidas en testing\n",
        "#  para la particion realizada con cada semilla\n",
        "salidas\n"
      ],
      "metadata": {
        "id": "64OdfeyxCMDF",
        "colab": {
          "base_uri": "https://localhost:8080/",
          "height": 1000
        },
        "outputId": "3c9c5bf3-2633-4640-f06b-cd95b080fa90"
      },
      "execution_count": null,
      "outputs": [
        {
          "output_type": "display_data",
          "data": {
            "text/html": [
              "<ol>\n",
              "\t<li><dl>\n",
              "\t<dt>$semilla</dt>\n",
              "\t\t<dd>999979</dd>\n",
              "\t<dt>$testing</dt>\n",
              "\t\t<dd>49380</dd>\n",
              "\t<dt>$testing_pos</dt>\n",
              "\t\t<dd>378</dd>\n",
              "\t<dt>$envios</dt>\n",
              "\t\t<dd>2773</dd>\n",
              "\t<dt>$aciertos</dt>\n",
              "\t\t<dd>201</dd>\n",
              "\t<dt>$ganancia_test</dt>\n",
              "\t\t<dd>52670000</dd>\n",
              "</dl>\n",
              "</li>\n",
              "\t<li><dl>\n",
              "\t<dt>$semilla</dt>\n",
              "\t\t<dd>999961</dd>\n",
              "\t<dt>$testing</dt>\n",
              "\t\t<dd>49385</dd>\n",
              "\t<dt>$testing_pos</dt>\n",
              "\t\t<dd>376</dd>\n",
              "\t<dt>$envios</dt>\n",
              "\t\t<dd>3016</dd>\n",
              "\t<dt>$aciertos</dt>\n",
              "\t\t<dd>193</dd>\n",
              "\t<dt>$ganancia_test</dt>\n",
              "\t\t<dd>47040000</dd>\n",
              "</dl>\n",
              "</li>\n",
              "\t<li><dl>\n",
              "\t<dt>$semilla</dt>\n",
              "\t\t<dd>999959</dd>\n",
              "\t<dt>$testing</dt>\n",
              "\t\t<dd>49374</dd>\n",
              "\t<dt>$testing_pos</dt>\n",
              "\t\t<dd>373</dd>\n",
              "\t<dt>$envios</dt>\n",
              "\t\t<dd>4197</dd>\n",
              "\t<dt>$aciertos</dt>\n",
              "\t\t<dd>222</dd>\n",
              "\t<dt>$ganancia_test</dt>\n",
              "\t\t<dd>46830000</dd>\n",
              "</dl>\n",
              "</li>\n",
              "\t<li><dl>\n",
              "\t<dt>$semilla</dt>\n",
              "\t\t<dd>999953</dd>\n",
              "\t<dt>$testing</dt>\n",
              "\t\t<dd>49371</dd>\n",
              "\t<dt>$testing_pos</dt>\n",
              "\t\t<dd>372</dd>\n",
              "\t<dt>$envios</dt>\n",
              "\t\t<dd>3140</dd>\n",
              "\t<dt>$aciertos</dt>\n",
              "\t\t<dd>202</dd>\n",
              "\t<dt>$ganancia_test</dt>\n",
              "\t\t<dd>49400000</dd>\n",
              "</dl>\n",
              "</li>\n",
              "\t<li><dl>\n",
              "\t<dt>$semilla</dt>\n",
              "\t\t<dd>999931</dd>\n",
              "\t<dt>$testing</dt>\n",
              "\t\t<dd>49391</dd>\n",
              "\t<dt>$testing_pos</dt>\n",
              "\t\t<dd>380</dd>\n",
              "\t<dt>$envios</dt>\n",
              "\t\t<dd>3333</dd>\n",
              "\t<dt>$aciertos</dt>\n",
              "\t\t<dd>191</dd>\n",
              "\t<dt>$ganancia_test</dt>\n",
              "\t\t<dd>43070000</dd>\n",
              "</dl>\n",
              "</li>\n",
              "</ol>\n"
            ],
            "text/markdown": "1. $semilla\n:   999979\n$testing\n:   49380\n$testing_pos\n:   378\n$envios\n:   2773\n$aciertos\n:   201\n$ganancia_test\n:   52670000\n\n\n\n2. $semilla\n:   999961\n$testing\n:   49385\n$testing_pos\n:   376\n$envios\n:   3016\n$aciertos\n:   193\n$ganancia_test\n:   47040000\n\n\n\n3. $semilla\n:   999959\n$testing\n:   49374\n$testing_pos\n:   373\n$envios\n:   4197\n$aciertos\n:   222\n$ganancia_test\n:   46830000\n\n\n\n4. $semilla\n:   999953\n$testing\n:   49371\n$testing_pos\n:   372\n$envios\n:   3140\n$aciertos\n:   202\n$ganancia_test\n:   49400000\n\n\n\n5. $semilla\n:   999931\n$testing\n:   49391\n$testing_pos\n:   380\n$envios\n:   3333\n$aciertos\n:   191\n$ganancia_test\n:   43070000\n\n\n\n\n\n",
            "text/latex": "\\begin{enumerate}\n\\item \\begin{description}\n\\item[\\$semilla] 999979\n\\item[\\$testing] 49380\n\\item[\\$testing\\_pos] 378\n\\item[\\$envios] 2773\n\\item[\\$aciertos] 201\n\\item[\\$ganancia\\_test] 52670000\n\\end{description}\n\n\\item \\begin{description}\n\\item[\\$semilla] 999961\n\\item[\\$testing] 49385\n\\item[\\$testing\\_pos] 376\n\\item[\\$envios] 3016\n\\item[\\$aciertos] 193\n\\item[\\$ganancia\\_test] 47040000\n\\end{description}\n\n\\item \\begin{description}\n\\item[\\$semilla] 999959\n\\item[\\$testing] 49374\n\\item[\\$testing\\_pos] 373\n\\item[\\$envios] 4197\n\\item[\\$aciertos] 222\n\\item[\\$ganancia\\_test] 46830000\n\\end{description}\n\n\\item \\begin{description}\n\\item[\\$semilla] 999953\n\\item[\\$testing] 49371\n\\item[\\$testing\\_pos] 372\n\\item[\\$envios] 3140\n\\item[\\$aciertos] 202\n\\item[\\$ganancia\\_test] 49400000\n\\end{description}\n\n\\item \\begin{description}\n\\item[\\$semilla] 999931\n\\item[\\$testing] 49391\n\\item[\\$testing\\_pos] 380\n\\item[\\$envios] 3333\n\\item[\\$aciertos] 191\n\\item[\\$ganancia\\_test] 43070000\n\\end{description}\n\n\\end{enumerate}\n",
            "text/plain": [
              "[[1]]\n",
              "[[1]]$semilla\n",
              "[1] 999979\n",
              "\n",
              "[[1]]$testing\n",
              "[1] 49380\n",
              "\n",
              "[[1]]$testing_pos\n",
              "[1] 378\n",
              "\n",
              "[[1]]$envios\n",
              "[1] 2773\n",
              "\n",
              "[[1]]$aciertos\n",
              "[1] 201\n",
              "\n",
              "[[1]]$ganancia_test\n",
              "[1] 52670000\n",
              "\n",
              "\n",
              "[[2]]\n",
              "[[2]]$semilla\n",
              "[1] 999961\n",
              "\n",
              "[[2]]$testing\n",
              "[1] 49385\n",
              "\n",
              "[[2]]$testing_pos\n",
              "[1] 376\n",
              "\n",
              "[[2]]$envios\n",
              "[1] 3016\n",
              "\n",
              "[[2]]$aciertos\n",
              "[1] 193\n",
              "\n",
              "[[2]]$ganancia_test\n",
              "[1] 47040000\n",
              "\n",
              "\n",
              "[[3]]\n",
              "[[3]]$semilla\n",
              "[1] 999959\n",
              "\n",
              "[[3]]$testing\n",
              "[1] 49374\n",
              "\n",
              "[[3]]$testing_pos\n",
              "[1] 373\n",
              "\n",
              "[[3]]$envios\n",
              "[1] 4197\n",
              "\n",
              "[[3]]$aciertos\n",
              "[1] 222\n",
              "\n",
              "[[3]]$ganancia_test\n",
              "[1] 46830000\n",
              "\n",
              "\n",
              "[[4]]\n",
              "[[4]]$semilla\n",
              "[1] 999953\n",
              "\n",
              "[[4]]$testing\n",
              "[1] 49371\n",
              "\n",
              "[[4]]$testing_pos\n",
              "[1] 372\n",
              "\n",
              "[[4]]$envios\n",
              "[1] 3140\n",
              "\n",
              "[[4]]$aciertos\n",
              "[1] 202\n",
              "\n",
              "[[4]]$ganancia_test\n",
              "[1] 49400000\n",
              "\n",
              "\n",
              "[[5]]\n",
              "[[5]]$semilla\n",
              "[1] 999931\n",
              "\n",
              "[[5]]$testing\n",
              "[1] 49391\n",
              "\n",
              "[[5]]$testing_pos\n",
              "[1] 380\n",
              "\n",
              "[[5]]$envios\n",
              "[1] 3333\n",
              "\n",
              "[[5]]$aciertos\n",
              "[1] 191\n",
              "\n",
              "[[5]]$ganancia_test\n",
              "[1] 43070000\n",
              "\n"
            ]
          },
          "metadata": {}
        }
      ]
    },
    {
      "cell_type": "code",
      "source": [
        "# paso la lista a vector\n",
        "tb_salida <- rbindlist(salidas)\n",
        "print( tb_salida)"
      ],
      "metadata": {
        "id": "tML9VmH2ECFK",
        "colab": {
          "base_uri": "https://localhost:8080/"
        },
        "outputId": "35843c80-6505-48a3-9630-97e9eab28952"
      },
      "execution_count": null,
      "outputs": [
        {
          "output_type": "stream",
          "name": "stdout",
          "text": [
            "   semilla testing testing_pos envios aciertos ganancia_test\n",
            "     <num>   <int>       <int>  <int>    <int>         <num>\n",
            "1:  999979   49380         378   2773      201      52670000\n",
            "2:  999961   49385         376   3016      193      47040000\n",
            "3:  999959   49374         373   4197      222      46830000\n",
            "4:  999953   49371         372   3140      202      49400000\n",
            "5:  999931   49391         380   3333      191      43070000\n"
          ]
        }
      ]
    },
    {
      "cell_type": "code",
      "source": [
        "# finalmente calculo la media (promedio)  de las ganancias\n",
        "cat( \"ganancia promedio: \", tb_salida[, mean(ganancia_test)], \"\\n\" )"
      ],
      "metadata": {
        "id": "rbHXPfoVENQB",
        "colab": {
          "base_uri": "https://localhost:8080/"
        },
        "outputId": "e4615e0c-4279-4b03-8f34-f15a88289e47"
      },
      "execution_count": null,
      "outputs": [
        {
          "output_type": "stream",
          "name": "stdout",
          "text": [
            "ganancia promedio:  47802000 \n"
          ]
        }
      ]
    },
    {
      "cell_type": "markdown",
      "source": [
        "### Acciones a realizar\n",
        "* Reportar la  *Ganancia Promedio* <br> en la planilla colaborativa hoja  **C2-5sem**\n",
        "* Se discutirá en clase la variabilidad de estos \"ganancia promedio de cinco semillas\""
      ],
      "metadata": {
        "id": "_3xVH6UKA2W6"
      }
    },
    {
      "cell_type": "markdown",
      "source": [
        "\n",
        "\n",
        "---\n",
        "\n"
      ],
      "metadata": {
        "id": "N29m1XGpA2W7"
      }
    },
    {
      "cell_type": "markdown",
      "source": [
        "# 3  Generando n semillas en forma automatica\n",
        "## Clase 02  Experimento 3"
      ],
      "metadata": {
        "id": "zS7WIJciFGc6"
      }
    },
    {
      "cell_type": "markdown",
      "source": [
        "## 3.1  Objetivos\n",
        "Mostrar la creación de nuevas semillas a partir de la librería Primes"
      ],
      "metadata": {
        "id": "VmiFDDDJFUEo"
      }
    },
    {
      "cell_type": "markdown",
      "source": [
        "3.2  Código\n",
        "\n",
        "Como generar muchas semillas a partir de una"
      ],
      "metadata": {
        "id": "Ehe3VfdfFbvg"
      }
    },
    {
      "cell_type": "code",
      "source": [
        "# instalo y cargo la libreria  primes\n",
        "if (!require(\"primes\")) install.packages(\"primes\")\n",
        "require(\"primes\")"
      ],
      "metadata": {
        "id": "X6_dE42yF2-t",
        "colab": {
          "base_uri": "https://localhost:8080/"
        },
        "outputId": "d95212cf-ec9f-4c84-8af6-6c85901bac6c"
      },
      "execution_count": null,
      "outputs": [
        {
          "output_type": "stream",
          "name": "stderr",
          "text": [
            "Loading required package: primes\n",
            "\n",
            "Warning message in library(package, lib.loc = lib.loc, character.only = TRUE, logical.return = TRUE, :\n",
            "“there is no package called ‘primes’”\n",
            "Installing package into ‘/usr/local/lib/R/site-library’\n",
            "(as ‘lib’ is unspecified)\n",
            "\n",
            "Loading required package: primes\n",
            "\n"
          ]
        }
      ]
    },
    {
      "cell_type": "code",
      "source": [
        "# genero numeros primos\n",
        "primos <- generate_primes(min = 100000, max = 1000000)\n",
        "\n",
        "\n",
        "set.seed(999979) # inicializo con mi primer semilla\n",
        "\n",
        "# me quedo con por ejemplo 20 primos al azar\n",
        "semillas <- sample(primos, 20 )\n",
        "\n",
        "print( semillas )"
      ],
      "metadata": {
        "id": "yDU9RyV4FNhZ",
        "colab": {
          "base_uri": "https://localhost:8080/"
        },
        "outputId": "c197a515-516f-4b61-9c5b-9970f1a59066"
      },
      "execution_count": null,
      "outputs": [
        {
          "output_type": "stream",
          "name": "stdout",
          "text": [
            " [1] 335641 940949 934117 567011 530429 873913 956587 361213 464521 498181\n",
            "[11] 831163 637531 537347 976909 718691 621353 449783 786553 954157 253133\n"
          ]
        }
      ]
    },
    {
      "cell_type": "markdown",
      "source": [
        "\n",
        "\n",
        "---\n",
        "\n"
      ],
      "metadata": {
        "id": "eD_cO5VTGGea"
      }
    },
    {
      "cell_type": "code",
      "source": [],
      "metadata": {
        "id": "k-rgoA2ZFll4"
      },
      "execution_count": null,
      "outputs": []
    },
    {
      "cell_type": "markdown",
      "source": [
        "# 4  Medición  50-Monte Carlo Cross Validation\n",
        "## Clase 02  Experimento 4"
      ],
      "metadata": {
        "id": "cZi29THsGil_"
      }
    },
    {
      "cell_type": "markdown",
      "source": [
        "## 4.1  Objetivos\n",
        "Calcular la ganancia del modelo utilizando 50 semillas nuevas generadas a partir de mi semilla primigenia."
      ],
      "metadata": {
        "id": "qFNq6ntVGimN"
      }
    },
    {
      "cell_type": "markdown",
      "source": [
        "## 4.4 Codigo  50 Montecarlo"
      ],
      "metadata": {
        "id": "B6KtuhQCGimP"
      }
    },
    {
      "cell_type": "markdown",
      "source": [
        "Esta parte se debe correr con el runtime en lenguaje **R** Ir al menu, Runtime -> Change Runtime Tipe -> Runtime type -> R"
      ],
      "metadata": {
        "id": "LgGgjPQuGimP"
      }
    },
    {
      "cell_type": "markdown",
      "source": [
        "Este punto demora en correr 60 minutos en Google Colab, con lo cual para continuar con el punto siguiente deberá abrir un nuevo Colab"
      ],
      "metadata": {
        "id": "E82ChuO25OYx"
      }
    },
    {
      "cell_type": "markdown",
      "source": [
        "limpio el ambiente de R"
      ],
      "metadata": {
        "id": "a6AxqLwOGimQ"
      }
    },
    {
      "cell_type": "code",
      "source": [
        "# limpio la memoria\n",
        "rm(list=ls(all.names=TRUE)) # remove all objects\n",
        "gc(full=TRUE, verbose=FALSE) # garbage collection"
      ],
      "metadata": {
        "id": "797Ad0_QGimQ",
        "colab": {
          "base_uri": "https://localhost:8080/",
          "height": 129
        },
        "outputId": "31e9c1a9-8ea9-41df-e04a-d5715a6e2a75"
      },
      "execution_count": null,
      "outputs": [
        {
          "output_type": "display_data",
          "data": {
            "text/html": [
              "<table class=\"dataframe\">\n",
              "<caption>A matrix: 2 × 6 of type dbl</caption>\n",
              "<thead>\n",
              "\t<tr><th></th><th scope=col>used</th><th scope=col>(Mb)</th><th scope=col>gc trigger</th><th scope=col>(Mb)</th><th scope=col>max used</th><th scope=col>(Mb)</th></tr>\n",
              "</thead>\n",
              "<tbody>\n",
              "\t<tr><th scope=row>Ncells</th><td> 830978</td><td>44.4</td><td> 1460645</td><td> 78.1</td><td>  1460645</td><td> 78.1</td></tr>\n",
              "\t<tr><th scope=row>Vcells</th><td>1563967</td><td>12.0</td><td>65248564</td><td>497.9</td><td>122142672</td><td>931.9</td></tr>\n",
              "</tbody>\n",
              "</table>\n"
            ],
            "text/markdown": "\nA matrix: 2 × 6 of type dbl\n\n| <!--/--> | used | (Mb) | gc trigger | (Mb) | max used | (Mb) |\n|---|---|---|---|---|---|---|\n| Ncells |  830978 | 44.4 |  1460645 |  78.1 |   1460645 |  78.1 |\n| Vcells | 1563967 | 12.0 | 65248564 | 497.9 | 122142672 | 931.9 |\n\n",
            "text/latex": "A matrix: 2 × 6 of type dbl\n\\begin{tabular}{r|llllll}\n  & used & (Mb) & gc trigger & (Mb) & max used & (Mb)\\\\\n\\hline\n\tNcells &  830978 & 44.4 &  1460645 &  78.1 &   1460645 &  78.1\\\\\n\tVcells & 1563967 & 12.0 & 65248564 & 497.9 & 122142672 & 931.9\\\\\n\\end{tabular}\n",
            "text/plain": [
              "       used    (Mb) gc trigger (Mb)  max used  (Mb) \n",
              "Ncells  830978 44.4  1460645    78.1   1460645  78.1\n",
              "Vcells 1563967 12.0 65248564   497.9 122142672 931.9"
            ]
          },
          "metadata": {}
        }
      ]
    },
    {
      "cell_type": "markdown",
      "source": [
        "* Instalacion de la libreria  rpart.plot  para dibujar el arbol\n",
        "* invocacion de las librerias  **data.table** y  **rpart**"
      ],
      "metadata": {
        "id": "v0CepvbjGimQ"
      }
    },
    {
      "cell_type": "code",
      "source": [
        "# cargo las librerias que necesito\n",
        "require(\"data.table\")\n",
        "require(\"rpart\")\n",
        "require(\"parallel\")\n",
        "\n",
        "if (!require(\"primes\")) install.packages(\"primes\")\n",
        "require(\"primes\")"
      ],
      "metadata": {
        "id": "CRkZ1V2_GimR"
      },
      "execution_count": null,
      "outputs": []
    },
    {
      "cell_type": "markdown",
      "source": [
        "###  Accion a Realizar\n",
        "PARAM$semilla_primigenia  debe reemplazarse por SU primer semilla"
      ],
      "metadata": {
        "id": "PZKJG-nSGimR"
      }
    },
    {
      "cell_type": "code",
      "source": [
        "PARAM <- list()\n",
        "PARAM$semilla_primigenia <- 999979\n",
        "PARAM$qsemillas <- 50\n",
        "PARAM$training_pct <- 70L  # entre  1L y 99L\n",
        "\n",
        "PARAM$rpart <- list (\n",
        "  \"cp\" = -1, # complejidad minima\n",
        "  \"minsplit\" = 170, # minima cantidad de regs en un nodo para hacer el split\n",
        "  \"minbucket\" = 70, # minima cantidad de regs en una hoja\n",
        "  \"maxdepth\" = 7 # profundidad máxima del arbol\n",
        ")\n"
      ],
      "metadata": {
        "id": "4kbkA-2HGimR"
      },
      "execution_count": null,
      "outputs": []
    },
    {
      "cell_type": "code",
      "source": [
        "# particionar agrega una columna llamada fold a un dataset\n",
        "#  que consiste en una particion estratificada segun agrupa\n",
        "\n",
        "# particionar( data=dataset, division=c(70,30),\n",
        "#  agrupa=clase_ternaria, seed=semilla)   crea una particion 70, 30\n",
        "\n",
        "particionar <- function(\n",
        "    data, division, agrupa = \"\",\n",
        "    campo = \"fold\", start = 1, seed = NA) {\n",
        "  if (!is.na(seed)) set.seed(seed)\n",
        "\n",
        "  bloque <- unlist(mapply(function(x, y) {\n",
        "    rep(y, x)\n",
        "  }, division, seq(from = start, length.out = length(division))))\n",
        "\n",
        "  data[, (campo) := sample(rep(bloque, ceiling(.N / length(bloque))))[1:.N],\n",
        "    by = agrupa\n",
        "  ]\n",
        "}\n"
      ],
      "metadata": {
        "id": "HME0qUeOGimS"
      },
      "execution_count": null,
      "outputs": []
    },
    {
      "cell_type": "code",
      "source": [
        "\n",
        "ArbolEstimarGanancia <- function(semilla, param_basicos) {\n",
        "  # particiono estratificadamente el dataset\n",
        "  particionar(dataset,\n",
        "    division = c(param_basicos$training_pct, 100L -param_basicos$training_pct),\n",
        "    agrupa = \"clase_ternaria\",\n",
        "    seed = semilla # aqui se usa SU semilla\n",
        "  )\n",
        "\n",
        "  # genero el modelo\n",
        "  # predecir clase_ternaria a partir del resto\n",
        "  modelo <- rpart(\"clase_ternaria ~ .\",\n",
        "    data = dataset[fold == 1], # fold==1  es training,  el 70% de los datos\n",
        "    xval = 0,\n",
        "    control = param_basicos$rpart\n",
        "  ) # aqui van los parametros del arbol\n",
        "\n",
        "  # aplico el modelo a los datos de testing\n",
        "  prediccion <- predict(modelo, # el modelo que genere recien\n",
        "    dataset[fold == 2], # fold==2  es testing, el 30% de los datos\n",
        "    type = \"prob\"\n",
        "  ) # type= \"prob\"  es que devuelva la probabilidad\n",
        "\n",
        "  # prediccion es una matriz con TRES columnas,\n",
        "  #  llamadas \"BAJA+1\", \"BAJA+2\"  y \"CONTINUA\"\n",
        "  # cada columna es el vector de probabilidades\n",
        "\n",
        "\n",
        "  # calculo la ganancia en testing  qu es fold==2\n",
        "  ganancia_test <- dataset[\n",
        "    fold == 2,\n",
        "    sum(ifelse(prediccion[, \"BAJA+2\"] > 0.025,\n",
        "      ifelse(clase_ternaria == \"BAJA+2\", 117000, -3000),\n",
        "      0\n",
        "    ))\n",
        "  ]\n",
        "\n",
        "  # escalo la ganancia como si fuera todo el dataset\n",
        "  ganancia_test_normalizada <- ganancia_test / (( 100 - PARAM$training_pct ) / 100 )\n",
        "\n",
        "  return(list(\n",
        "    \"semilla\" = semilla,\n",
        "    \"testing\" = dataset[fold == 2, .N],\n",
        "    \"testing_pos\" = dataset[fold == 2 & clase_ternaria == \"BAJA+2\", .N],\n",
        "    \"envios\" = dataset[fold == 2, sum(prediccion[, \"BAJA+2\"] > 0.025)],\n",
        "    \"aciertos\" = dataset[\n",
        "        fold == 2,\n",
        "        sum(prediccion[, \"BAJA+2\"] > 0.025 & clase_ternaria == \"BAJA+2\")\n",
        "    ],\n",
        "    \"ganancia_test\" = ganancia_test_normalizada\n",
        "  ))\n",
        "}\n"
      ],
      "metadata": {
        "id": "ro9Ufoi-GimS"
      },
      "execution_count": null,
      "outputs": []
    },
    {
      "cell_type": "code",
      "source": [
        "# carpeta de trabajo\n",
        "setwd(\"/content/buckets/b1/exp\")\n",
        "experimento <- \"exp204\"\n",
        "dir.create(experimento, showWarnings=FALSE)\n",
        "setwd( paste0(\"/content/buckets/b1/exp/\", experimento ))"
      ],
      "metadata": {
        "id": "gz7LgltwGimT"
      },
      "execution_count": null,
      "outputs": []
    },
    {
      "cell_type": "code",
      "source": [
        "# lectura del dataset\n",
        "dataset <- fread(\"/content/datasets/dataset_pequeno.csv\")\n",
        "\n",
        "# trabajo solo con los datos con clase, es decir 202107\n",
        "dataset <- dataset[clase_ternaria != \"\"]"
      ],
      "metadata": {
        "id": "xRXKHeLeGimT"
      },
      "execution_count": null,
      "outputs": []
    },
    {
      "cell_type": "code",
      "source": [
        "# genero numeros primos\n",
        "primos <- generate_primes(min = 100000, max = 1000000)\n",
        "set.seed(PARAM$semilla_primigenia) # inicializo\n",
        "\n",
        "# me quedo con PARAM$qsemillas   semillas\n",
        "PARAM$semillas <- sample(primos, PARAM$qsemillas )"
      ],
      "metadata": {
        "id": "MdpZ10qiHSZy"
      },
      "execution_count": null,
      "outputs": []
    },
    {
      "cell_type": "code",
      "source": [
        "\n",
        "# la funcion mcmapply  llama a la funcion ArbolEstimarGanancia\n",
        "#  tantas veces como valores tenga el vector  PARAM$semillas\n",
        "salidas <- mcmapply(ArbolEstimarGanancia,\n",
        "  PARAM$semillas, # paso el vector de semillas\n",
        "  MoreArgs = list(PARAM), # aqui paso el segundo parametro\n",
        "  SIMPLIFY = FALSE,\n",
        "  mc.cores = detectCores()\n",
        ")\n",
        "\n",
        "# muestro la lista de las salidas en testing\n",
        "#  para la particion realizada con cada semilla\n",
        "salidas\n"
      ],
      "metadata": {
        "id": "r-YaawpgGimU",
        "colab": {
          "base_uri": "https://localhost:8080/",
          "height": 1000
        },
        "outputId": "ebe58b95-6ae3-4f89-c79f-3ff7310a163d"
      },
      "execution_count": null,
      "outputs": [
        {
          "output_type": "display_data",
          "data": {
            "text/html": [
              "<ol>\n",
              "\t<li><dl>\n",
              "\t<dt>$semilla</dt>\n",
              "\t\t<dd>335641</dd>\n",
              "\t<dt>$testing</dt>\n",
              "\t\t<dd>49377</dd>\n",
              "\t<dt>$testing_pos</dt>\n",
              "\t\t<dd>375</dd>\n",
              "\t<dt>$envios</dt>\n",
              "\t\t<dd>3660</dd>\n",
              "\t<dt>$aciertos</dt>\n",
              "\t\t<dd>219</dd>\n",
              "\t<dt>$ganancia_test</dt>\n",
              "\t\t<dd>5.1e+07</dd>\n",
              "</dl>\n",
              "</li>\n",
              "\t<li><dl>\n",
              "\t<dt>$semilla</dt>\n",
              "\t\t<dd>940949</dd>\n",
              "\t<dt>$testing</dt>\n",
              "\t\t<dd>49384</dd>\n",
              "\t<dt>$testing_pos</dt>\n",
              "\t\t<dd>376</dd>\n",
              "\t<dt>$envios</dt>\n",
              "\t\t<dd>3032</dd>\n",
              "\t<dt>$aciertos</dt>\n",
              "\t\t<dd>186</dd>\n",
              "\t<dt>$ganancia_test</dt>\n",
              "\t\t<dd>44080000</dd>\n",
              "</dl>\n",
              "</li>\n",
              "\t<li><dl>\n",
              "\t<dt>$semilla</dt>\n",
              "\t\t<dd>934117</dd>\n",
              "\t<dt>$testing</dt>\n",
              "\t\t<dd>49370</dd>\n",
              "\t<dt>$testing_pos</dt>\n",
              "\t\t<dd>374</dd>\n",
              "\t<dt>$envios</dt>\n",
              "\t\t<dd>2952</dd>\n",
              "\t<dt>$aciertos</dt>\n",
              "\t\t<dd>193</dd>\n",
              "\t<dt>$ganancia_test</dt>\n",
              "\t\t<dd>47680000</dd>\n",
              "</dl>\n",
              "</li>\n",
              "\t<li><dl>\n",
              "\t<dt>$semilla</dt>\n",
              "\t\t<dd>567011</dd>\n",
              "\t<dt>$testing</dt>\n",
              "\t\t<dd>49377</dd>\n",
              "\t<dt>$testing_pos</dt>\n",
              "\t\t<dd>373</dd>\n",
              "\t<dt>$envios</dt>\n",
              "\t\t<dd>2992</dd>\n",
              "\t<dt>$aciertos</dt>\n",
              "\t\t<dd>193</dd>\n",
              "\t<dt>$ganancia_test</dt>\n",
              "\t\t<dd>47280000</dd>\n",
              "</dl>\n",
              "</li>\n",
              "\t<li><dl>\n",
              "\t<dt>$semilla</dt>\n",
              "\t\t<dd>530429</dd>\n",
              "\t<dt>$testing</dt>\n",
              "\t\t<dd>49375</dd>\n",
              "\t<dt>$testing_pos</dt>\n",
              "\t\t<dd>375</dd>\n",
              "\t<dt>$envios</dt>\n",
              "\t\t<dd>3508</dd>\n",
              "\t<dt>$aciertos</dt>\n",
              "\t\t<dd>219</dd>\n",
              "\t<dt>$ganancia_test</dt>\n",
              "\t\t<dd>52520000</dd>\n",
              "</dl>\n",
              "</li>\n",
              "\t<li><dl>\n",
              "\t<dt>$semilla</dt>\n",
              "\t\t<dd>873913</dd>\n",
              "\t<dt>$testing</dt>\n",
              "\t\t<dd>49377</dd>\n",
              "\t<dt>$testing_pos</dt>\n",
              "\t\t<dd>372</dd>\n",
              "\t<dt>$envios</dt>\n",
              "\t\t<dd>4011</dd>\n",
              "\t<dt>$aciertos</dt>\n",
              "\t\t<dd>210</dd>\n",
              "\t<dt>$ganancia_test</dt>\n",
              "\t\t<dd>43890000</dd>\n",
              "</dl>\n",
              "</li>\n",
              "\t<li><dl>\n",
              "\t<dt>$semilla</dt>\n",
              "\t\t<dd>956587</dd>\n",
              "\t<dt>$testing</dt>\n",
              "\t\t<dd>49379</dd>\n",
              "\t<dt>$testing_pos</dt>\n",
              "\t\t<dd>364</dd>\n",
              "\t<dt>$envios</dt>\n",
              "\t\t<dd>3409</dd>\n",
              "\t<dt>$aciertos</dt>\n",
              "\t\t<dd>203</dd>\n",
              "\t<dt>$ganancia_test</dt>\n",
              "\t\t<dd>47110000</dd>\n",
              "</dl>\n",
              "</li>\n",
              "\t<li><dl>\n",
              "\t<dt>$semilla</dt>\n",
              "\t\t<dd>361213</dd>\n",
              "\t<dt>$testing</dt>\n",
              "\t\t<dd>49380</dd>\n",
              "\t<dt>$testing_pos</dt>\n",
              "\t\t<dd>376</dd>\n",
              "\t<dt>$envios</dt>\n",
              "\t\t<dd>3312</dd>\n",
              "\t<dt>$aciertos</dt>\n",
              "\t\t<dd>197</dd>\n",
              "\t<dt>$ganancia_test</dt>\n",
              "\t\t<dd>45680000</dd>\n",
              "</dl>\n",
              "</li>\n",
              "\t<li><dl>\n",
              "\t<dt>$semilla</dt>\n",
              "\t\t<dd>464521</dd>\n",
              "\t<dt>$testing</dt>\n",
              "\t\t<dd>49362</dd>\n",
              "\t<dt>$testing_pos</dt>\n",
              "\t\t<dd>374</dd>\n",
              "\t<dt>$envios</dt>\n",
              "\t\t<dd>2916</dd>\n",
              "\t<dt>$aciertos</dt>\n",
              "\t\t<dd>192</dd>\n",
              "\t<dt>$ganancia_test</dt>\n",
              "\t\t<dd>47640000</dd>\n",
              "</dl>\n",
              "</li>\n",
              "\t<li><dl>\n",
              "\t<dt>$semilla</dt>\n",
              "\t\t<dd>498181</dd>\n",
              "\t<dt>$testing</dt>\n",
              "\t\t<dd>49380</dd>\n",
              "\t<dt>$testing_pos</dt>\n",
              "\t\t<dd>377</dd>\n",
              "\t<dt>$envios</dt>\n",
              "\t\t<dd>3292</dd>\n",
              "\t<dt>$aciertos</dt>\n",
              "\t\t<dd>227</dd>\n",
              "\t<dt>$ganancia_test</dt>\n",
              "\t\t<dd>57880000</dd>\n",
              "</dl>\n",
              "</li>\n",
              "\t<li><dl>\n",
              "\t<dt>$semilla</dt>\n",
              "\t\t<dd>831163</dd>\n",
              "\t<dt>$testing</dt>\n",
              "\t\t<dd>49371</dd>\n",
              "\t<dt>$testing_pos</dt>\n",
              "\t\t<dd>371</dd>\n",
              "\t<dt>$envios</dt>\n",
              "\t\t<dd>3406</dd>\n",
              "\t<dt>$aciertos</dt>\n",
              "\t\t<dd>203</dd>\n",
              "\t<dt>$ganancia_test</dt>\n",
              "\t\t<dd>47140000</dd>\n",
              "</dl>\n",
              "</li>\n",
              "\t<li><dl>\n",
              "\t<dt>$semilla</dt>\n",
              "\t\t<dd>637531</dd>\n",
              "\t<dt>$testing</dt>\n",
              "\t\t<dd>49375</dd>\n",
              "\t<dt>$testing_pos</dt>\n",
              "\t\t<dd>368</dd>\n",
              "\t<dt>$envios</dt>\n",
              "\t\t<dd>3465</dd>\n",
              "\t<dt>$aciertos</dt>\n",
              "\t\t<dd>204</dd>\n",
              "\t<dt>$ganancia_test</dt>\n",
              "\t\t<dd>46950000</dd>\n",
              "</dl>\n",
              "</li>\n",
              "\t<li><dl>\n",
              "\t<dt>$semilla</dt>\n",
              "\t\t<dd>537347</dd>\n",
              "\t<dt>$testing</dt>\n",
              "\t\t<dd>49374</dd>\n",
              "\t<dt>$testing_pos</dt>\n",
              "\t\t<dd>373</dd>\n",
              "\t<dt>$envios</dt>\n",
              "\t\t<dd>3127</dd>\n",
              "\t<dt>$aciertos</dt>\n",
              "\t\t<dd>202</dd>\n",
              "\t<dt>$ganancia_test</dt>\n",
              "\t\t<dd>49530000</dd>\n",
              "</dl>\n",
              "</li>\n",
              "\t<li><dl>\n",
              "\t<dt>$semilla</dt>\n",
              "\t\t<dd>976909</dd>\n",
              "\t<dt>$testing</dt>\n",
              "\t\t<dd>49390</dd>\n",
              "\t<dt>$testing_pos</dt>\n",
              "\t\t<dd>372</dd>\n",
              "\t<dt>$envios</dt>\n",
              "\t\t<dd>3751</dd>\n",
              "\t<dt>$aciertos</dt>\n",
              "\t\t<dd>217</dd>\n",
              "\t<dt>$ganancia_test</dt>\n",
              "\t\t<dd>49290000</dd>\n",
              "</dl>\n",
              "</li>\n",
              "\t<li><dl>\n",
              "\t<dt>$semilla</dt>\n",
              "\t\t<dd>718691</dd>\n",
              "\t<dt>$testing</dt>\n",
              "\t\t<dd>49386</dd>\n",
              "\t<dt>$testing_pos</dt>\n",
              "\t\t<dd>381</dd>\n",
              "\t<dt>$envios</dt>\n",
              "\t\t<dd>3867</dd>\n",
              "\t<dt>$aciertos</dt>\n",
              "\t\t<dd>208</dd>\n",
              "\t<dt>$ganancia_test</dt>\n",
              "\t\t<dd>44530000</dd>\n",
              "</dl>\n",
              "</li>\n",
              "\t<li><dl>\n",
              "\t<dt>$semilla</dt>\n",
              "\t\t<dd>621353</dd>\n",
              "\t<dt>$testing</dt>\n",
              "\t\t<dd>49375</dd>\n",
              "\t<dt>$testing_pos</dt>\n",
              "\t\t<dd>374</dd>\n",
              "\t<dt>$envios</dt>\n",
              "\t\t<dd>4488</dd>\n",
              "\t<dt>$aciertos</dt>\n",
              "\t\t<dd>243</dd>\n",
              "\t<dt>$ganancia_test</dt>\n",
              "\t\t<dd>52320000</dd>\n",
              "</dl>\n",
              "</li>\n",
              "\t<li><dl>\n",
              "\t<dt>$semilla</dt>\n",
              "\t\t<dd>449783</dd>\n",
              "\t<dt>$testing</dt>\n",
              "\t\t<dd>49386</dd>\n",
              "\t<dt>$testing_pos</dt>\n",
              "\t\t<dd>375</dd>\n",
              "\t<dt>$envios</dt>\n",
              "\t\t<dd>2816</dd>\n",
              "\t<dt>$aciertos</dt>\n",
              "\t\t<dd>181</dd>\n",
              "\t<dt>$ganancia_test</dt>\n",
              "\t\t<dd>44240000</dd>\n",
              "</dl>\n",
              "</li>\n",
              "\t<li><dl>\n",
              "\t<dt>$semilla</dt>\n",
              "\t\t<dd>786553</dd>\n",
              "\t<dt>$testing</dt>\n",
              "\t\t<dd>49381</dd>\n",
              "\t<dt>$testing_pos</dt>\n",
              "\t\t<dd>378</dd>\n",
              "\t<dt>$envios</dt>\n",
              "\t\t<dd>3356</dd>\n",
              "\t<dt>$aciertos</dt>\n",
              "\t\t<dd>205</dd>\n",
              "\t<dt>$ganancia_test</dt>\n",
              "\t\t<dd>48440000</dd>\n",
              "</dl>\n",
              "</li>\n",
              "\t<li><dl>\n",
              "\t<dt>$semilla</dt>\n",
              "\t\t<dd>954157</dd>\n",
              "\t<dt>$testing</dt>\n",
              "\t\t<dd>49393</dd>\n",
              "\t<dt>$testing_pos</dt>\n",
              "\t\t<dd>375</dd>\n",
              "\t<dt>$envios</dt>\n",
              "\t\t<dd>3530</dd>\n",
              "\t<dt>$aciertos</dt>\n",
              "\t\t<dd>218</dd>\n",
              "\t<dt>$ganancia_test</dt>\n",
              "\t\t<dd>51900000</dd>\n",
              "</dl>\n",
              "</li>\n",
              "\t<li><dl>\n",
              "\t<dt>$semilla</dt>\n",
              "\t\t<dd>253133</dd>\n",
              "\t<dt>$testing</dt>\n",
              "\t\t<dd>49382</dd>\n",
              "\t<dt>$testing_pos</dt>\n",
              "\t\t<dd>376</dd>\n",
              "\t<dt>$envios</dt>\n",
              "\t\t<dd>3171</dd>\n",
              "\t<dt>$aciertos</dt>\n",
              "\t\t<dd>205</dd>\n",
              "\t<dt>$ganancia_test</dt>\n",
              "\t\t<dd>50290000</dd>\n",
              "</dl>\n",
              "</li>\n",
              "\t<li><dl>\n",
              "\t<dt>$semilla</dt>\n",
              "\t\t<dd>810923</dd>\n",
              "\t<dt>$testing</dt>\n",
              "\t\t<dd>49372</dd>\n",
              "\t<dt>$testing_pos</dt>\n",
              "\t\t<dd>373</dd>\n",
              "\t<dt>$envios</dt>\n",
              "\t\t<dd>3922</dd>\n",
              "\t<dt>$aciertos</dt>\n",
              "\t\t<dd>231</dd>\n",
              "\t<dt>$ganancia_test</dt>\n",
              "\t\t<dd>53180000</dd>\n",
              "</dl>\n",
              "</li>\n",
              "\t<li><dl>\n",
              "\t<dt>$semilla</dt>\n",
              "\t\t<dd>691697</dd>\n",
              "\t<dt>$testing</dt>\n",
              "\t\t<dd>49368</dd>\n",
              "\t<dt>$testing_pos</dt>\n",
              "\t\t<dd>373</dd>\n",
              "\t<dt>$envios</dt>\n",
              "\t\t<dd>3189</dd>\n",
              "\t<dt>$aciertos</dt>\n",
              "\t\t<dd>195</dd>\n",
              "\t<dt>$ganancia_test</dt>\n",
              "\t\t<dd>46110000</dd>\n",
              "</dl>\n",
              "</li>\n",
              "\t<li><dl>\n",
              "\t<dt>$semilla</dt>\n",
              "\t\t<dd>396577</dd>\n",
              "\t<dt>$testing</dt>\n",
              "\t\t<dd>49378</dd>\n",
              "\t<dt>$testing_pos</dt>\n",
              "\t\t<dd>374</dd>\n",
              "\t<dt>$envios</dt>\n",
              "\t\t<dd>3018</dd>\n",
              "\t<dt>$aciertos</dt>\n",
              "\t\t<dd>192</dd>\n",
              "\t<dt>$ganancia_test</dt>\n",
              "\t\t<dd>46620000</dd>\n",
              "</dl>\n",
              "</li>\n",
              "\t<li><dl>\n",
              "\t<dt>$semilla</dt>\n",
              "\t\t<dd>863143</dd>\n",
              "\t<dt>$testing</dt>\n",
              "\t\t<dd>49384</dd>\n",
              "\t<dt>$testing_pos</dt>\n",
              "\t\t<dd>376</dd>\n",
              "\t<dt>$envios</dt>\n",
              "\t\t<dd>2605</dd>\n",
              "\t<dt>$aciertos</dt>\n",
              "\t\t<dd>190</dd>\n",
              "\t<dt>$ganancia_test</dt>\n",
              "\t\t<dd>49950000</dd>\n",
              "</dl>\n",
              "</li>\n",
              "\t<li><dl>\n",
              "\t<dt>$semilla</dt>\n",
              "\t\t<dd>417883</dd>\n",
              "\t<dt>$testing</dt>\n",
              "\t\t<dd>49372</dd>\n",
              "\t<dt>$testing_pos</dt>\n",
              "\t\t<dd>368</dd>\n",
              "\t<dt>$envios</dt>\n",
              "\t\t<dd>3551</dd>\n",
              "\t<dt>$aciertos</dt>\n",
              "\t\t<dd>213</dd>\n",
              "\t<dt>$ganancia_test</dt>\n",
              "\t\t<dd>49690000</dd>\n",
              "</dl>\n",
              "</li>\n",
              "\t<li><dl>\n",
              "\t<dt>$semilla</dt>\n",
              "\t\t<dd>566963</dd>\n",
              "\t<dt>$testing</dt>\n",
              "\t\t<dd>49386</dd>\n",
              "\t<dt>$testing_pos</dt>\n",
              "\t\t<dd>372</dd>\n",
              "\t<dt>$envios</dt>\n",
              "\t\t<dd>4099</dd>\n",
              "\t<dt>$aciertos</dt>\n",
              "\t\t<dd>242</dd>\n",
              "\t<dt>$ganancia_test</dt>\n",
              "\t\t<dd>55810000</dd>\n",
              "</dl>\n",
              "</li>\n",
              "\t<li><dl>\n",
              "\t<dt>$semilla</dt>\n",
              "\t\t<dd>690509</dd>\n",
              "\t<dt>$testing</dt>\n",
              "\t\t<dd>49373</dd>\n",
              "\t<dt>$testing_pos</dt>\n",
              "\t\t<dd>373</dd>\n",
              "\t<dt>$envios</dt>\n",
              "\t\t<dd>3168</dd>\n",
              "\t<dt>$aciertos</dt>\n",
              "\t\t<dd>206</dd>\n",
              "\t<dt>$ganancia_test</dt>\n",
              "\t\t<dd>50720000</dd>\n",
              "</dl>\n",
              "</li>\n",
              "\t<li><dl>\n",
              "\t<dt>$semilla</dt>\n",
              "\t\t<dd>461191</dd>\n",
              "\t<dt>$testing</dt>\n",
              "\t\t<dd>49384</dd>\n",
              "\t<dt>$testing_pos</dt>\n",
              "\t\t<dd>372</dd>\n",
              "\t<dt>$envios</dt>\n",
              "\t\t<dd>3684</dd>\n",
              "\t<dt>$aciertos</dt>\n",
              "\t\t<dd>215</dd>\n",
              "\t<dt>$ganancia_test</dt>\n",
              "\t\t<dd>49160000</dd>\n",
              "</dl>\n",
              "</li>\n",
              "\t<li><dl>\n",
              "\t<dt>$semilla</dt>\n",
              "\t\t<dd>394619</dd>\n",
              "\t<dt>$testing</dt>\n",
              "\t\t<dd>49371</dd>\n",
              "\t<dt>$testing_pos</dt>\n",
              "\t\t<dd>368</dd>\n",
              "\t<dt>$envios</dt>\n",
              "\t\t<dd>3521</dd>\n",
              "\t<dt>$aciertos</dt>\n",
              "\t\t<dd>196</dd>\n",
              "\t<dt>$ganancia_test</dt>\n",
              "\t\t<dd>43190000</dd>\n",
              "</dl>\n",
              "</li>\n",
              "\t<li><dl>\n",
              "\t<dt>$semilla</dt>\n",
              "\t\t<dd>274019</dd>\n",
              "\t<dt>$testing</dt>\n",
              "\t\t<dd>49372</dd>\n",
              "\t<dt>$testing_pos</dt>\n",
              "\t\t<dd>372</dd>\n",
              "\t<dt>$envios</dt>\n",
              "\t\t<dd>3436</dd>\n",
              "\t<dt>$aciertos</dt>\n",
              "\t\t<dd>219</dd>\n",
              "\t<dt>$ganancia_test</dt>\n",
              "\t\t<dd>53240000</dd>\n",
              "</dl>\n",
              "</li>\n",
              "\t<li><dl>\n",
              "\t<dt>$semilla</dt>\n",
              "\t\t<dd>663239</dd>\n",
              "\t<dt>$testing</dt>\n",
              "\t\t<dd>49385</dd>\n",
              "\t<dt>$testing_pos</dt>\n",
              "\t\t<dd>377</dd>\n",
              "\t<dt>$envios</dt>\n",
              "\t\t<dd>3316</dd>\n",
              "\t<dt>$aciertos</dt>\n",
              "\t\t<dd>198</dd>\n",
              "\t<dt>$ganancia_test</dt>\n",
              "\t\t<dd>46040000</dd>\n",
              "</dl>\n",
              "</li>\n",
              "\t<li><dl>\n",
              "\t<dt>$semilla</dt>\n",
              "\t\t<dd>816121</dd>\n",
              "\t<dt>$testing</dt>\n",
              "\t\t<dd>49387</dd>\n",
              "\t<dt>$testing_pos</dt>\n",
              "\t\t<dd>378</dd>\n",
              "\t<dt>$envios</dt>\n",
              "\t\t<dd>3283</dd>\n",
              "\t<dt>$aciertos</dt>\n",
              "\t\t<dd>214</dd>\n",
              "\t<dt>$ganancia_test</dt>\n",
              "\t\t<dd>52770000</dd>\n",
              "</dl>\n",
              "</li>\n",
              "\t<li><dl>\n",
              "\t<dt>$semilla</dt>\n",
              "\t\t<dd>261431</dd>\n",
              "\t<dt>$testing</dt>\n",
              "\t\t<dd>49377</dd>\n",
              "\t<dt>$testing_pos</dt>\n",
              "\t\t<dd>370</dd>\n",
              "\t<dt>$envios</dt>\n",
              "\t\t<dd>3960</dd>\n",
              "\t<dt>$aciertos</dt>\n",
              "\t\t<dd>217</dd>\n",
              "\t<dt>$ganancia_test</dt>\n",
              "\t\t<dd>47200000</dd>\n",
              "</dl>\n",
              "</li>\n",
              "\t<li><dl>\n",
              "\t<dt>$semilla</dt>\n",
              "\t\t<dd>167149</dd>\n",
              "\t<dt>$testing</dt>\n",
              "\t\t<dd>49366</dd>\n",
              "\t<dt>$testing_pos</dt>\n",
              "\t\t<dd>372</dd>\n",
              "\t<dt>$envios</dt>\n",
              "\t\t<dd>3158</dd>\n",
              "\t<dt>$aciertos</dt>\n",
              "\t\t<dd>199</dd>\n",
              "\t<dt>$ganancia_test</dt>\n",
              "\t\t<dd>48020000</dd>\n",
              "</dl>\n",
              "</li>\n",
              "\t<li><dl>\n",
              "\t<dt>$semilla</dt>\n",
              "\t\t<dd>413779</dd>\n",
              "\t<dt>$testing</dt>\n",
              "\t\t<dd>49378</dd>\n",
              "\t<dt>$testing_pos</dt>\n",
              "\t\t<dd>370</dd>\n",
              "\t<dt>$envios</dt>\n",
              "\t\t<dd>3926</dd>\n",
              "\t<dt>$aciertos</dt>\n",
              "\t\t<dd>207</dd>\n",
              "\t<dt>$ganancia_test</dt>\n",
              "\t\t<dd>43540000</dd>\n",
              "</dl>\n",
              "</li>\n",
              "\t<li><dl>\n",
              "\t<dt>$semilla</dt>\n",
              "\t\t<dd>343823</dd>\n",
              "\t<dt>$testing</dt>\n",
              "\t\t<dd>49372</dd>\n",
              "\t<dt>$testing_pos</dt>\n",
              "\t\t<dd>374</dd>\n",
              "\t<dt>$envios</dt>\n",
              "\t\t<dd>4188</dd>\n",
              "\t<dt>$aciertos</dt>\n",
              "\t\t<dd>216</dd>\n",
              "\t<dt>$ganancia_test</dt>\n",
              "\t\t<dd>44520000</dd>\n",
              "</dl>\n",
              "</li>\n",
              "\t<li><dl>\n",
              "\t<dt>$semilla</dt>\n",
              "\t\t<dd>258487</dd>\n",
              "\t<dt>$testing</dt>\n",
              "\t\t<dd>49386</dd>\n",
              "\t<dt>$testing_pos</dt>\n",
              "\t\t<dd>375</dd>\n",
              "\t<dt>$envios</dt>\n",
              "\t\t<dd>3373</dd>\n",
              "\t<dt>$aciertos</dt>\n",
              "\t\t<dd>212</dd>\n",
              "\t<dt>$ganancia_test</dt>\n",
              "\t\t<dd>51070000</dd>\n",
              "</dl>\n",
              "</li>\n",
              "\t<li><dl>\n",
              "\t<dt>$semilla</dt>\n",
              "\t\t<dd>572233</dd>\n",
              "\t<dt>$testing</dt>\n",
              "\t\t<dd>49386</dd>\n",
              "\t<dt>$testing_pos</dt>\n",
              "\t\t<dd>379</dd>\n",
              "\t<dt>$envios</dt>\n",
              "\t\t<dd>3472</dd>\n",
              "\t<dt>$aciertos</dt>\n",
              "\t\t<dd>219</dd>\n",
              "\t<dt>$ganancia_test</dt>\n",
              "\t\t<dd>52880000</dd>\n",
              "</dl>\n",
              "</li>\n",
              "\t<li><dl>\n",
              "\t<dt>$semilla</dt>\n",
              "\t\t<dd>405347</dd>\n",
              "\t<dt>$testing</dt>\n",
              "\t\t<dd>49370</dd>\n",
              "\t<dt>$testing_pos</dt>\n",
              "\t\t<dd>369</dd>\n",
              "\t<dt>$envios</dt>\n",
              "\t\t<dd>3141</dd>\n",
              "\t<dt>$aciertos</dt>\n",
              "\t\t<dd>199</dd>\n",
              "\t<dt>$ganancia_test</dt>\n",
              "\t\t<dd>48190000</dd>\n",
              "</dl>\n",
              "</li>\n",
              "\t<li><dl>\n",
              "\t<dt>$semilla</dt>\n",
              "\t\t<dd>650953</dd>\n",
              "\t<dt>$testing</dt>\n",
              "\t\t<dd>49380</dd>\n",
              "\t<dt>$testing_pos</dt>\n",
              "\t\t<dd>377</dd>\n",
              "\t<dt>$envios</dt>\n",
              "\t\t<dd>3652</dd>\n",
              "\t<dt>$aciertos</dt>\n",
              "\t\t<dd>209</dd>\n",
              "\t<dt>$ganancia_test</dt>\n",
              "\t\t<dd>47080000</dd>\n",
              "</dl>\n",
              "</li>\n",
              "\t<li><dl>\n",
              "\t<dt>$semilla</dt>\n",
              "\t\t<dd>377831</dd>\n",
              "\t<dt>$testing</dt>\n",
              "\t\t<dd>49378</dd>\n",
              "\t<dt>$testing_pos</dt>\n",
              "\t\t<dd>372</dd>\n",
              "\t<dt>$envios</dt>\n",
              "\t\t<dd>3753</dd>\n",
              "\t<dt>$aciertos</dt>\n",
              "\t\t<dd>206</dd>\n",
              "\t<dt>$ganancia_test</dt>\n",
              "\t\t<dd>44870000</dd>\n",
              "</dl>\n",
              "</li>\n",
              "\t<li><dl>\n",
              "\t<dt>$semilla</dt>\n",
              "\t\t<dd>913637</dd>\n",
              "\t<dt>$testing</dt>\n",
              "\t\t<dd>49383</dd>\n",
              "\t<dt>$testing_pos</dt>\n",
              "\t\t<dd>375</dd>\n",
              "\t<dt>$envios</dt>\n",
              "\t\t<dd>3084</dd>\n",
              "\t<dt>$aciertos</dt>\n",
              "\t\t<dd>201</dd>\n",
              "\t<dt>$ganancia_test</dt>\n",
              "\t\t<dd>49560000</dd>\n",
              "</dl>\n",
              "</li>\n",
              "\t<li><dl>\n",
              "\t<dt>$semilla</dt>\n",
              "\t\t<dd>517261</dd>\n",
              "\t<dt>$testing</dt>\n",
              "\t\t<dd>49374</dd>\n",
              "\t<dt>$testing_pos</dt>\n",
              "\t\t<dd>377</dd>\n",
              "\t<dt>$envios</dt>\n",
              "\t\t<dd>3382</dd>\n",
              "\t<dt>$aciertos</dt>\n",
              "\t\t<dd>212</dd>\n",
              "\t<dt>$ganancia_test</dt>\n",
              "\t\t<dd>50980000</dd>\n",
              "</dl>\n",
              "</li>\n",
              "\t<li><dl>\n",
              "\t<dt>$semilla</dt>\n",
              "\t\t<dd>828721</dd>\n",
              "\t<dt>$testing</dt>\n",
              "\t\t<dd>49373</dd>\n",
              "\t<dt>$testing_pos</dt>\n",
              "\t\t<dd>375</dd>\n",
              "\t<dt>$envios</dt>\n",
              "\t\t<dd>3490</dd>\n",
              "\t<dt>$aciertos</dt>\n",
              "\t\t<dd>219</dd>\n",
              "\t<dt>$ganancia_test</dt>\n",
              "\t\t<dd>52700000</dd>\n",
              "</dl>\n",
              "</li>\n",
              "\t<li><dl>\n",
              "\t<dt>$semilla</dt>\n",
              "\t\t<dd>688939</dd>\n",
              "\t<dt>$testing</dt>\n",
              "\t\t<dd>49380</dd>\n",
              "\t<dt>$testing_pos</dt>\n",
              "\t\t<dd>373</dd>\n",
              "\t<dt>$envios</dt>\n",
              "\t\t<dd>2969</dd>\n",
              "\t<dt>$aciertos</dt>\n",
              "\t\t<dd>201</dd>\n",
              "\t<dt>$ganancia_test</dt>\n",
              "\t\t<dd>50710000</dd>\n",
              "</dl>\n",
              "</li>\n",
              "\t<li><dl>\n",
              "\t<dt>$semilla</dt>\n",
              "\t\t<dd>762959</dd>\n",
              "\t<dt>$testing</dt>\n",
              "\t\t<dd>49375</dd>\n",
              "\t<dt>$testing_pos</dt>\n",
              "\t\t<dd>377</dd>\n",
              "\t<dt>$envios</dt>\n",
              "\t\t<dd>3033</dd>\n",
              "\t<dt>$aciertos</dt>\n",
              "\t\t<dd>189</dd>\n",
              "\t<dt>$ganancia_test</dt>\n",
              "\t\t<dd>45270000</dd>\n",
              "</dl>\n",
              "</li>\n",
              "\t<li><dl>\n",
              "\t<dt>$semilla</dt>\n",
              "\t\t<dd>979969</dd>\n",
              "\t<dt>$testing</dt>\n",
              "\t\t<dd>49388</dd>\n",
              "\t<dt>$testing_pos</dt>\n",
              "\t\t<dd>376</dd>\n",
              "\t<dt>$envios</dt>\n",
              "\t\t<dd>3636</dd>\n",
              "\t<dt>$aciertos</dt>\n",
              "\t\t<dd>208</dd>\n",
              "\t<dt>$ganancia_test</dt>\n",
              "\t\t<dd>46840000</dd>\n",
              "</dl>\n",
              "</li>\n",
              "\t<li><dl>\n",
              "\t<dt>$semilla</dt>\n",
              "\t\t<dd>966547</dd>\n",
              "\t<dt>$testing</dt>\n",
              "\t\t<dd>49376</dd>\n",
              "\t<dt>$testing_pos</dt>\n",
              "\t\t<dd>377</dd>\n",
              "\t<dt>$envios</dt>\n",
              "\t\t<dd>3404</dd>\n",
              "\t<dt>$aciertos</dt>\n",
              "\t\t<dd>201</dd>\n",
              "\t<dt>$ganancia_test</dt>\n",
              "\t\t<dd>46360000</dd>\n",
              "</dl>\n",
              "</li>\n",
              "\t<li><dl>\n",
              "\t<dt>$semilla</dt>\n",
              "\t\t<dd>319129</dd>\n",
              "\t<dt>$testing</dt>\n",
              "\t\t<dd>49373</dd>\n",
              "\t<dt>$testing_pos</dt>\n",
              "\t\t<dd>375</dd>\n",
              "\t<dt>$envios</dt>\n",
              "\t\t<dd>3439</dd>\n",
              "\t<dt>$aciertos</dt>\n",
              "\t\t<dd>208</dd>\n",
              "\t<dt>$ganancia_test</dt>\n",
              "\t\t<dd>48810000</dd>\n",
              "</dl>\n",
              "</li>\n",
              "\t<li><dl>\n",
              "\t<dt>$semilla</dt>\n",
              "\t\t<dd>695323</dd>\n",
              "\t<dt>$testing</dt>\n",
              "\t\t<dd>49384</dd>\n",
              "\t<dt>$testing_pos</dt>\n",
              "\t\t<dd>378</dd>\n",
              "\t<dt>$envios</dt>\n",
              "\t\t<dd>3274</dd>\n",
              "\t<dt>$aciertos</dt>\n",
              "\t\t<dd>210</dd>\n",
              "\t<dt>$ganancia_test</dt>\n",
              "\t\t<dd>51260000</dd>\n",
              "</dl>\n",
              "</li>\n",
              "</ol>\n"
            ],
            "text/markdown": "1. $semilla\n:   335641\n$testing\n:   49377\n$testing_pos\n:   375\n$envios\n:   3660\n$aciertos\n:   219\n$ganancia_test\n:   5.1e+07\n\n\n\n2. $semilla\n:   940949\n$testing\n:   49384\n$testing_pos\n:   376\n$envios\n:   3032\n$aciertos\n:   186\n$ganancia_test\n:   44080000\n\n\n\n3. $semilla\n:   934117\n$testing\n:   49370\n$testing_pos\n:   374\n$envios\n:   2952\n$aciertos\n:   193\n$ganancia_test\n:   47680000\n\n\n\n4. $semilla\n:   567011\n$testing\n:   49377\n$testing_pos\n:   373\n$envios\n:   2992\n$aciertos\n:   193\n$ganancia_test\n:   47280000\n\n\n\n5. $semilla\n:   530429\n$testing\n:   49375\n$testing_pos\n:   375\n$envios\n:   3508\n$aciertos\n:   219\n$ganancia_test\n:   52520000\n\n\n\n6. $semilla\n:   873913\n$testing\n:   49377\n$testing_pos\n:   372\n$envios\n:   4011\n$aciertos\n:   210\n$ganancia_test\n:   43890000\n\n\n\n7. $semilla\n:   956587\n$testing\n:   49379\n$testing_pos\n:   364\n$envios\n:   3409\n$aciertos\n:   203\n$ganancia_test\n:   47110000\n\n\n\n8. $semilla\n:   361213\n$testing\n:   49380\n$testing_pos\n:   376\n$envios\n:   3312\n$aciertos\n:   197\n$ganancia_test\n:   45680000\n\n\n\n9. $semilla\n:   464521\n$testing\n:   49362\n$testing_pos\n:   374\n$envios\n:   2916\n$aciertos\n:   192\n$ganancia_test\n:   47640000\n\n\n\n10. $semilla\n:   498181\n$testing\n:   49380\n$testing_pos\n:   377\n$envios\n:   3292\n$aciertos\n:   227\n$ganancia_test\n:   57880000\n\n\n\n11. $semilla\n:   831163\n$testing\n:   49371\n$testing_pos\n:   371\n$envios\n:   3406\n$aciertos\n:   203\n$ganancia_test\n:   47140000\n\n\n\n12. $semilla\n:   637531\n$testing\n:   49375\n$testing_pos\n:   368\n$envios\n:   3465\n$aciertos\n:   204\n$ganancia_test\n:   46950000\n\n\n\n13. $semilla\n:   537347\n$testing\n:   49374\n$testing_pos\n:   373\n$envios\n:   3127\n$aciertos\n:   202\n$ganancia_test\n:   49530000\n\n\n\n14. $semilla\n:   976909\n$testing\n:   49390\n$testing_pos\n:   372\n$envios\n:   3751\n$aciertos\n:   217\n$ganancia_test\n:   49290000\n\n\n\n15. $semilla\n:   718691\n$testing\n:   49386\n$testing_pos\n:   381\n$envios\n:   3867\n$aciertos\n:   208\n$ganancia_test\n:   44530000\n\n\n\n16. $semilla\n:   621353\n$testing\n:   49375\n$testing_pos\n:   374\n$envios\n:   4488\n$aciertos\n:   243\n$ganancia_test\n:   52320000\n\n\n\n17. $semilla\n:   449783\n$testing\n:   49386\n$testing_pos\n:   375\n$envios\n:   2816\n$aciertos\n:   181\n$ganancia_test\n:   44240000\n\n\n\n18. $semilla\n:   786553\n$testing\n:   49381\n$testing_pos\n:   378\n$envios\n:   3356\n$aciertos\n:   205\n$ganancia_test\n:   48440000\n\n\n\n19. $semilla\n:   954157\n$testing\n:   49393\n$testing_pos\n:   375\n$envios\n:   3530\n$aciertos\n:   218\n$ganancia_test\n:   51900000\n\n\n\n20. $semilla\n:   253133\n$testing\n:   49382\n$testing_pos\n:   376\n$envios\n:   3171\n$aciertos\n:   205\n$ganancia_test\n:   50290000\n\n\n\n21. $semilla\n:   810923\n$testing\n:   49372\n$testing_pos\n:   373\n$envios\n:   3922\n$aciertos\n:   231\n$ganancia_test\n:   53180000\n\n\n\n22. $semilla\n:   691697\n$testing\n:   49368\n$testing_pos\n:   373\n$envios\n:   3189\n$aciertos\n:   195\n$ganancia_test\n:   46110000\n\n\n\n23. $semilla\n:   396577\n$testing\n:   49378\n$testing_pos\n:   374\n$envios\n:   3018\n$aciertos\n:   192\n$ganancia_test\n:   46620000\n\n\n\n24. $semilla\n:   863143\n$testing\n:   49384\n$testing_pos\n:   376\n$envios\n:   2605\n$aciertos\n:   190\n$ganancia_test\n:   49950000\n\n\n\n25. $semilla\n:   417883\n$testing\n:   49372\n$testing_pos\n:   368\n$envios\n:   3551\n$aciertos\n:   213\n$ganancia_test\n:   49690000\n\n\n\n26. $semilla\n:   566963\n$testing\n:   49386\n$testing_pos\n:   372\n$envios\n:   4099\n$aciertos\n:   242\n$ganancia_test\n:   55810000\n\n\n\n27. $semilla\n:   690509\n$testing\n:   49373\n$testing_pos\n:   373\n$envios\n:   3168\n$aciertos\n:   206\n$ganancia_test\n:   50720000\n\n\n\n28. $semilla\n:   461191\n$testing\n:   49384\n$testing_pos\n:   372\n$envios\n:   3684\n$aciertos\n:   215\n$ganancia_test\n:   49160000\n\n\n\n29. $semilla\n:   394619\n$testing\n:   49371\n$testing_pos\n:   368\n$envios\n:   3521\n$aciertos\n:   196\n$ganancia_test\n:   43190000\n\n\n\n30. $semilla\n:   274019\n$testing\n:   49372\n$testing_pos\n:   372\n$envios\n:   3436\n$aciertos\n:   219\n$ganancia_test\n:   53240000\n\n\n\n31. $semilla\n:   663239\n$testing\n:   49385\n$testing_pos\n:   377\n$envios\n:   3316\n$aciertos\n:   198\n$ganancia_test\n:   46040000\n\n\n\n32. $semilla\n:   816121\n$testing\n:   49387\n$testing_pos\n:   378\n$envios\n:   3283\n$aciertos\n:   214\n$ganancia_test\n:   52770000\n\n\n\n33. $semilla\n:   261431\n$testing\n:   49377\n$testing_pos\n:   370\n$envios\n:   3960\n$aciertos\n:   217\n$ganancia_test\n:   47200000\n\n\n\n34. $semilla\n:   167149\n$testing\n:   49366\n$testing_pos\n:   372\n$envios\n:   3158\n$aciertos\n:   199\n$ganancia_test\n:   48020000\n\n\n\n35. $semilla\n:   413779\n$testing\n:   49378\n$testing_pos\n:   370\n$envios\n:   3926\n$aciertos\n:   207\n$ganancia_test\n:   43540000\n\n\n\n36. $semilla\n:   343823\n$testing\n:   49372\n$testing_pos\n:   374\n$envios\n:   4188\n$aciertos\n:   216\n$ganancia_test\n:   44520000\n\n\n\n37. $semilla\n:   258487\n$testing\n:   49386\n$testing_pos\n:   375\n$envios\n:   3373\n$aciertos\n:   212\n$ganancia_test\n:   51070000\n\n\n\n38. $semilla\n:   572233\n$testing\n:   49386\n$testing_pos\n:   379\n$envios\n:   3472\n$aciertos\n:   219\n$ganancia_test\n:   52880000\n\n\n\n39. $semilla\n:   405347\n$testing\n:   49370\n$testing_pos\n:   369\n$envios\n:   3141\n$aciertos\n:   199\n$ganancia_test\n:   48190000\n\n\n\n40. $semilla\n:   650953\n$testing\n:   49380\n$testing_pos\n:   377\n$envios\n:   3652\n$aciertos\n:   209\n$ganancia_test\n:   47080000\n\n\n\n41. $semilla\n:   377831\n$testing\n:   49378\n$testing_pos\n:   372\n$envios\n:   3753\n$aciertos\n:   206\n$ganancia_test\n:   44870000\n\n\n\n42. $semilla\n:   913637\n$testing\n:   49383\n$testing_pos\n:   375\n$envios\n:   3084\n$aciertos\n:   201\n$ganancia_test\n:   49560000\n\n\n\n43. $semilla\n:   517261\n$testing\n:   49374\n$testing_pos\n:   377\n$envios\n:   3382\n$aciertos\n:   212\n$ganancia_test\n:   50980000\n\n\n\n44. $semilla\n:   828721\n$testing\n:   49373\n$testing_pos\n:   375\n$envios\n:   3490\n$aciertos\n:   219\n$ganancia_test\n:   52700000\n\n\n\n45. $semilla\n:   688939\n$testing\n:   49380\n$testing_pos\n:   373\n$envios\n:   2969\n$aciertos\n:   201\n$ganancia_test\n:   50710000\n\n\n\n46. $semilla\n:   762959\n$testing\n:   49375\n$testing_pos\n:   377\n$envios\n:   3033\n$aciertos\n:   189\n$ganancia_test\n:   45270000\n\n\n\n47. $semilla\n:   979969\n$testing\n:   49388\n$testing_pos\n:   376\n$envios\n:   3636\n$aciertos\n:   208\n$ganancia_test\n:   46840000\n\n\n\n48. $semilla\n:   966547\n$testing\n:   49376\n$testing_pos\n:   377\n$envios\n:   3404\n$aciertos\n:   201\n$ganancia_test\n:   46360000\n\n\n\n49. $semilla\n:   319129\n$testing\n:   49373\n$testing_pos\n:   375\n$envios\n:   3439\n$aciertos\n:   208\n$ganancia_test\n:   48810000\n\n\n\n50. $semilla\n:   695323\n$testing\n:   49384\n$testing_pos\n:   378\n$envios\n:   3274\n$aciertos\n:   210\n$ganancia_test\n:   51260000\n\n\n\n\n\n",
            "text/latex": "\\begin{enumerate}\n\\item \\begin{description}\n\\item[\\$semilla] 335641\n\\item[\\$testing] 49377\n\\item[\\$testing\\_pos] 375\n\\item[\\$envios] 3660\n\\item[\\$aciertos] 219\n\\item[\\$ganancia\\_test] 5.1e+07\n\\end{description}\n\n\\item \\begin{description}\n\\item[\\$semilla] 940949\n\\item[\\$testing] 49384\n\\item[\\$testing\\_pos] 376\n\\item[\\$envios] 3032\n\\item[\\$aciertos] 186\n\\item[\\$ganancia\\_test] 44080000\n\\end{description}\n\n\\item \\begin{description}\n\\item[\\$semilla] 934117\n\\item[\\$testing] 49370\n\\item[\\$testing\\_pos] 374\n\\item[\\$envios] 2952\n\\item[\\$aciertos] 193\n\\item[\\$ganancia\\_test] 47680000\n\\end{description}\n\n\\item \\begin{description}\n\\item[\\$semilla] 567011\n\\item[\\$testing] 49377\n\\item[\\$testing\\_pos] 373\n\\item[\\$envios] 2992\n\\item[\\$aciertos] 193\n\\item[\\$ganancia\\_test] 47280000\n\\end{description}\n\n\\item \\begin{description}\n\\item[\\$semilla] 530429\n\\item[\\$testing] 49375\n\\item[\\$testing\\_pos] 375\n\\item[\\$envios] 3508\n\\item[\\$aciertos] 219\n\\item[\\$ganancia\\_test] 52520000\n\\end{description}\n\n\\item \\begin{description}\n\\item[\\$semilla] 873913\n\\item[\\$testing] 49377\n\\item[\\$testing\\_pos] 372\n\\item[\\$envios] 4011\n\\item[\\$aciertos] 210\n\\item[\\$ganancia\\_test] 43890000\n\\end{description}\n\n\\item \\begin{description}\n\\item[\\$semilla] 956587\n\\item[\\$testing] 49379\n\\item[\\$testing\\_pos] 364\n\\item[\\$envios] 3409\n\\item[\\$aciertos] 203\n\\item[\\$ganancia\\_test] 47110000\n\\end{description}\n\n\\item \\begin{description}\n\\item[\\$semilla] 361213\n\\item[\\$testing] 49380\n\\item[\\$testing\\_pos] 376\n\\item[\\$envios] 3312\n\\item[\\$aciertos] 197\n\\item[\\$ganancia\\_test] 45680000\n\\end{description}\n\n\\item \\begin{description}\n\\item[\\$semilla] 464521\n\\item[\\$testing] 49362\n\\item[\\$testing\\_pos] 374\n\\item[\\$envios] 2916\n\\item[\\$aciertos] 192\n\\item[\\$ganancia\\_test] 47640000\n\\end{description}\n\n\\item \\begin{description}\n\\item[\\$semilla] 498181\n\\item[\\$testing] 49380\n\\item[\\$testing\\_pos] 377\n\\item[\\$envios] 3292\n\\item[\\$aciertos] 227\n\\item[\\$ganancia\\_test] 57880000\n\\end{description}\n\n\\item \\begin{description}\n\\item[\\$semilla] 831163\n\\item[\\$testing] 49371\n\\item[\\$testing\\_pos] 371\n\\item[\\$envios] 3406\n\\item[\\$aciertos] 203\n\\item[\\$ganancia\\_test] 47140000\n\\end{description}\n\n\\item \\begin{description}\n\\item[\\$semilla] 637531\n\\item[\\$testing] 49375\n\\item[\\$testing\\_pos] 368\n\\item[\\$envios] 3465\n\\item[\\$aciertos] 204\n\\item[\\$ganancia\\_test] 46950000\n\\end{description}\n\n\\item \\begin{description}\n\\item[\\$semilla] 537347\n\\item[\\$testing] 49374\n\\item[\\$testing\\_pos] 373\n\\item[\\$envios] 3127\n\\item[\\$aciertos] 202\n\\item[\\$ganancia\\_test] 49530000\n\\end{description}\n\n\\item \\begin{description}\n\\item[\\$semilla] 976909\n\\item[\\$testing] 49390\n\\item[\\$testing\\_pos] 372\n\\item[\\$envios] 3751\n\\item[\\$aciertos] 217\n\\item[\\$ganancia\\_test] 49290000\n\\end{description}\n\n\\item \\begin{description}\n\\item[\\$semilla] 718691\n\\item[\\$testing] 49386\n\\item[\\$testing\\_pos] 381\n\\item[\\$envios] 3867\n\\item[\\$aciertos] 208\n\\item[\\$ganancia\\_test] 44530000\n\\end{description}\n\n\\item \\begin{description}\n\\item[\\$semilla] 621353\n\\item[\\$testing] 49375\n\\item[\\$testing\\_pos] 374\n\\item[\\$envios] 4488\n\\item[\\$aciertos] 243\n\\item[\\$ganancia\\_test] 52320000\n\\end{description}\n\n\\item \\begin{description}\n\\item[\\$semilla] 449783\n\\item[\\$testing] 49386\n\\item[\\$testing\\_pos] 375\n\\item[\\$envios] 2816\n\\item[\\$aciertos] 181\n\\item[\\$ganancia\\_test] 44240000\n\\end{description}\n\n\\item \\begin{description}\n\\item[\\$semilla] 786553\n\\item[\\$testing] 49381\n\\item[\\$testing\\_pos] 378\n\\item[\\$envios] 3356\n\\item[\\$aciertos] 205\n\\item[\\$ganancia\\_test] 48440000\n\\end{description}\n\n\\item \\begin{description}\n\\item[\\$semilla] 954157\n\\item[\\$testing] 49393\n\\item[\\$testing\\_pos] 375\n\\item[\\$envios] 3530\n\\item[\\$aciertos] 218\n\\item[\\$ganancia\\_test] 51900000\n\\end{description}\n\n\\item \\begin{description}\n\\item[\\$semilla] 253133\n\\item[\\$testing] 49382\n\\item[\\$testing\\_pos] 376\n\\item[\\$envios] 3171\n\\item[\\$aciertos] 205\n\\item[\\$ganancia\\_test] 50290000\n\\end{description}\n\n\\item \\begin{description}\n\\item[\\$semilla] 810923\n\\item[\\$testing] 49372\n\\item[\\$testing\\_pos] 373\n\\item[\\$envios] 3922\n\\item[\\$aciertos] 231\n\\item[\\$ganancia\\_test] 53180000\n\\end{description}\n\n\\item \\begin{description}\n\\item[\\$semilla] 691697\n\\item[\\$testing] 49368\n\\item[\\$testing\\_pos] 373\n\\item[\\$envios] 3189\n\\item[\\$aciertos] 195\n\\item[\\$ganancia\\_test] 46110000\n\\end{description}\n\n\\item \\begin{description}\n\\item[\\$semilla] 396577\n\\item[\\$testing] 49378\n\\item[\\$testing\\_pos] 374\n\\item[\\$envios] 3018\n\\item[\\$aciertos] 192\n\\item[\\$ganancia\\_test] 46620000\n\\end{description}\n\n\\item \\begin{description}\n\\item[\\$semilla] 863143\n\\item[\\$testing] 49384\n\\item[\\$testing\\_pos] 376\n\\item[\\$envios] 2605\n\\item[\\$aciertos] 190\n\\item[\\$ganancia\\_test] 49950000\n\\end{description}\n\n\\item \\begin{description}\n\\item[\\$semilla] 417883\n\\item[\\$testing] 49372\n\\item[\\$testing\\_pos] 368\n\\item[\\$envios] 3551\n\\item[\\$aciertos] 213\n\\item[\\$ganancia\\_test] 49690000\n\\end{description}\n\n\\item \\begin{description}\n\\item[\\$semilla] 566963\n\\item[\\$testing] 49386\n\\item[\\$testing\\_pos] 372\n\\item[\\$envios] 4099\n\\item[\\$aciertos] 242\n\\item[\\$ganancia\\_test] 55810000\n\\end{description}\n\n\\item \\begin{description}\n\\item[\\$semilla] 690509\n\\item[\\$testing] 49373\n\\item[\\$testing\\_pos] 373\n\\item[\\$envios] 3168\n\\item[\\$aciertos] 206\n\\item[\\$ganancia\\_test] 50720000\n\\end{description}\n\n\\item \\begin{description}\n\\item[\\$semilla] 461191\n\\item[\\$testing] 49384\n\\item[\\$testing\\_pos] 372\n\\item[\\$envios] 3684\n\\item[\\$aciertos] 215\n\\item[\\$ganancia\\_test] 49160000\n\\end{description}\n\n\\item \\begin{description}\n\\item[\\$semilla] 394619\n\\item[\\$testing] 49371\n\\item[\\$testing\\_pos] 368\n\\item[\\$envios] 3521\n\\item[\\$aciertos] 196\n\\item[\\$ganancia\\_test] 43190000\n\\end{description}\n\n\\item \\begin{description}\n\\item[\\$semilla] 274019\n\\item[\\$testing] 49372\n\\item[\\$testing\\_pos] 372\n\\item[\\$envios] 3436\n\\item[\\$aciertos] 219\n\\item[\\$ganancia\\_test] 53240000\n\\end{description}\n\n\\item \\begin{description}\n\\item[\\$semilla] 663239\n\\item[\\$testing] 49385\n\\item[\\$testing\\_pos] 377\n\\item[\\$envios] 3316\n\\item[\\$aciertos] 198\n\\item[\\$ganancia\\_test] 46040000\n\\end{description}\n\n\\item \\begin{description}\n\\item[\\$semilla] 816121\n\\item[\\$testing] 49387\n\\item[\\$testing\\_pos] 378\n\\item[\\$envios] 3283\n\\item[\\$aciertos] 214\n\\item[\\$ganancia\\_test] 52770000\n\\end{description}\n\n\\item \\begin{description}\n\\item[\\$semilla] 261431\n\\item[\\$testing] 49377\n\\item[\\$testing\\_pos] 370\n\\item[\\$envios] 3960\n\\item[\\$aciertos] 217\n\\item[\\$ganancia\\_test] 47200000\n\\end{description}\n\n\\item \\begin{description}\n\\item[\\$semilla] 167149\n\\item[\\$testing] 49366\n\\item[\\$testing\\_pos] 372\n\\item[\\$envios] 3158\n\\item[\\$aciertos] 199\n\\item[\\$ganancia\\_test] 48020000\n\\end{description}\n\n\\item \\begin{description}\n\\item[\\$semilla] 413779\n\\item[\\$testing] 49378\n\\item[\\$testing\\_pos] 370\n\\item[\\$envios] 3926\n\\item[\\$aciertos] 207\n\\item[\\$ganancia\\_test] 43540000\n\\end{description}\n\n\\item \\begin{description}\n\\item[\\$semilla] 343823\n\\item[\\$testing] 49372\n\\item[\\$testing\\_pos] 374\n\\item[\\$envios] 4188\n\\item[\\$aciertos] 216\n\\item[\\$ganancia\\_test] 44520000\n\\end{description}\n\n\\item \\begin{description}\n\\item[\\$semilla] 258487\n\\item[\\$testing] 49386\n\\item[\\$testing\\_pos] 375\n\\item[\\$envios] 3373\n\\item[\\$aciertos] 212\n\\item[\\$ganancia\\_test] 51070000\n\\end{description}\n\n\\item \\begin{description}\n\\item[\\$semilla] 572233\n\\item[\\$testing] 49386\n\\item[\\$testing\\_pos] 379\n\\item[\\$envios] 3472\n\\item[\\$aciertos] 219\n\\item[\\$ganancia\\_test] 52880000\n\\end{description}\n\n\\item \\begin{description}\n\\item[\\$semilla] 405347\n\\item[\\$testing] 49370\n\\item[\\$testing\\_pos] 369\n\\item[\\$envios] 3141\n\\item[\\$aciertos] 199\n\\item[\\$ganancia\\_test] 48190000\n\\end{description}\n\n\\item \\begin{description}\n\\item[\\$semilla] 650953\n\\item[\\$testing] 49380\n\\item[\\$testing\\_pos] 377\n\\item[\\$envios] 3652\n\\item[\\$aciertos] 209\n\\item[\\$ganancia\\_test] 47080000\n\\end{description}\n\n\\item \\begin{description}\n\\item[\\$semilla] 377831\n\\item[\\$testing] 49378\n\\item[\\$testing\\_pos] 372\n\\item[\\$envios] 3753\n\\item[\\$aciertos] 206\n\\item[\\$ganancia\\_test] 44870000\n\\end{description}\n\n\\item \\begin{description}\n\\item[\\$semilla] 913637\n\\item[\\$testing] 49383\n\\item[\\$testing\\_pos] 375\n\\item[\\$envios] 3084\n\\item[\\$aciertos] 201\n\\item[\\$ganancia\\_test] 49560000\n\\end{description}\n\n\\item \\begin{description}\n\\item[\\$semilla] 517261\n\\item[\\$testing] 49374\n\\item[\\$testing\\_pos] 377\n\\item[\\$envios] 3382\n\\item[\\$aciertos] 212\n\\item[\\$ganancia\\_test] 50980000\n\\end{description}\n\n\\item \\begin{description}\n\\item[\\$semilla] 828721\n\\item[\\$testing] 49373\n\\item[\\$testing\\_pos] 375\n\\item[\\$envios] 3490\n\\item[\\$aciertos] 219\n\\item[\\$ganancia\\_test] 52700000\n\\end{description}\n\n\\item \\begin{description}\n\\item[\\$semilla] 688939\n\\item[\\$testing] 49380\n\\item[\\$testing\\_pos] 373\n\\item[\\$envios] 2969\n\\item[\\$aciertos] 201\n\\item[\\$ganancia\\_test] 50710000\n\\end{description}\n\n\\item \\begin{description}\n\\item[\\$semilla] 762959\n\\item[\\$testing] 49375\n\\item[\\$testing\\_pos] 377\n\\item[\\$envios] 3033\n\\item[\\$aciertos] 189\n\\item[\\$ganancia\\_test] 45270000\n\\end{description}\n\n\\item \\begin{description}\n\\item[\\$semilla] 979969\n\\item[\\$testing] 49388\n\\item[\\$testing\\_pos] 376\n\\item[\\$envios] 3636\n\\item[\\$aciertos] 208\n\\item[\\$ganancia\\_test] 46840000\n\\end{description}\n\n\\item \\begin{description}\n\\item[\\$semilla] 966547\n\\item[\\$testing] 49376\n\\item[\\$testing\\_pos] 377\n\\item[\\$envios] 3404\n\\item[\\$aciertos] 201\n\\item[\\$ganancia\\_test] 46360000\n\\end{description}\n\n\\item \\begin{description}\n\\item[\\$semilla] 319129\n\\item[\\$testing] 49373\n\\item[\\$testing\\_pos] 375\n\\item[\\$envios] 3439\n\\item[\\$aciertos] 208\n\\item[\\$ganancia\\_test] 48810000\n\\end{description}\n\n\\item \\begin{description}\n\\item[\\$semilla] 695323\n\\item[\\$testing] 49384\n\\item[\\$testing\\_pos] 378\n\\item[\\$envios] 3274\n\\item[\\$aciertos] 210\n\\item[\\$ganancia\\_test] 51260000\n\\end{description}\n\n\\end{enumerate}\n",
            "text/plain": [
              "[[1]]\n",
              "[[1]]$semilla\n",
              "[1] 335641\n",
              "\n",
              "[[1]]$testing\n",
              "[1] 49377\n",
              "\n",
              "[[1]]$testing_pos\n",
              "[1] 375\n",
              "\n",
              "[[1]]$envios\n",
              "[1] 3660\n",
              "\n",
              "[[1]]$aciertos\n",
              "[1] 219\n",
              "\n",
              "[[1]]$ganancia_test\n",
              "[1] 5.1e+07\n",
              "\n",
              "\n",
              "[[2]]\n",
              "[[2]]$semilla\n",
              "[1] 940949\n",
              "\n",
              "[[2]]$testing\n",
              "[1] 49384\n",
              "\n",
              "[[2]]$testing_pos\n",
              "[1] 376\n",
              "\n",
              "[[2]]$envios\n",
              "[1] 3032\n",
              "\n",
              "[[2]]$aciertos\n",
              "[1] 186\n",
              "\n",
              "[[2]]$ganancia_test\n",
              "[1] 44080000\n",
              "\n",
              "\n",
              "[[3]]\n",
              "[[3]]$semilla\n",
              "[1] 934117\n",
              "\n",
              "[[3]]$testing\n",
              "[1] 49370\n",
              "\n",
              "[[3]]$testing_pos\n",
              "[1] 374\n",
              "\n",
              "[[3]]$envios\n",
              "[1] 2952\n",
              "\n",
              "[[3]]$aciertos\n",
              "[1] 193\n",
              "\n",
              "[[3]]$ganancia_test\n",
              "[1] 47680000\n",
              "\n",
              "\n",
              "[[4]]\n",
              "[[4]]$semilla\n",
              "[1] 567011\n",
              "\n",
              "[[4]]$testing\n",
              "[1] 49377\n",
              "\n",
              "[[4]]$testing_pos\n",
              "[1] 373\n",
              "\n",
              "[[4]]$envios\n",
              "[1] 2992\n",
              "\n",
              "[[4]]$aciertos\n",
              "[1] 193\n",
              "\n",
              "[[4]]$ganancia_test\n",
              "[1] 47280000\n",
              "\n",
              "\n",
              "[[5]]\n",
              "[[5]]$semilla\n",
              "[1] 530429\n",
              "\n",
              "[[5]]$testing\n",
              "[1] 49375\n",
              "\n",
              "[[5]]$testing_pos\n",
              "[1] 375\n",
              "\n",
              "[[5]]$envios\n",
              "[1] 3508\n",
              "\n",
              "[[5]]$aciertos\n",
              "[1] 219\n",
              "\n",
              "[[5]]$ganancia_test\n",
              "[1] 52520000\n",
              "\n",
              "\n",
              "[[6]]\n",
              "[[6]]$semilla\n",
              "[1] 873913\n",
              "\n",
              "[[6]]$testing\n",
              "[1] 49377\n",
              "\n",
              "[[6]]$testing_pos\n",
              "[1] 372\n",
              "\n",
              "[[6]]$envios\n",
              "[1] 4011\n",
              "\n",
              "[[6]]$aciertos\n",
              "[1] 210\n",
              "\n",
              "[[6]]$ganancia_test\n",
              "[1] 43890000\n",
              "\n",
              "\n",
              "[[7]]\n",
              "[[7]]$semilla\n",
              "[1] 956587\n",
              "\n",
              "[[7]]$testing\n",
              "[1] 49379\n",
              "\n",
              "[[7]]$testing_pos\n",
              "[1] 364\n",
              "\n",
              "[[7]]$envios\n",
              "[1] 3409\n",
              "\n",
              "[[7]]$aciertos\n",
              "[1] 203\n",
              "\n",
              "[[7]]$ganancia_test\n",
              "[1] 47110000\n",
              "\n",
              "\n",
              "[[8]]\n",
              "[[8]]$semilla\n",
              "[1] 361213\n",
              "\n",
              "[[8]]$testing\n",
              "[1] 49380\n",
              "\n",
              "[[8]]$testing_pos\n",
              "[1] 376\n",
              "\n",
              "[[8]]$envios\n",
              "[1] 3312\n",
              "\n",
              "[[8]]$aciertos\n",
              "[1] 197\n",
              "\n",
              "[[8]]$ganancia_test\n",
              "[1] 45680000\n",
              "\n",
              "\n",
              "[[9]]\n",
              "[[9]]$semilla\n",
              "[1] 464521\n",
              "\n",
              "[[9]]$testing\n",
              "[1] 49362\n",
              "\n",
              "[[9]]$testing_pos\n",
              "[1] 374\n",
              "\n",
              "[[9]]$envios\n",
              "[1] 2916\n",
              "\n",
              "[[9]]$aciertos\n",
              "[1] 192\n",
              "\n",
              "[[9]]$ganancia_test\n",
              "[1] 47640000\n",
              "\n",
              "\n",
              "[[10]]\n",
              "[[10]]$semilla\n",
              "[1] 498181\n",
              "\n",
              "[[10]]$testing\n",
              "[1] 49380\n",
              "\n",
              "[[10]]$testing_pos\n",
              "[1] 377\n",
              "\n",
              "[[10]]$envios\n",
              "[1] 3292\n",
              "\n",
              "[[10]]$aciertos\n",
              "[1] 227\n",
              "\n",
              "[[10]]$ganancia_test\n",
              "[1] 57880000\n",
              "\n",
              "\n",
              "[[11]]\n",
              "[[11]]$semilla\n",
              "[1] 831163\n",
              "\n",
              "[[11]]$testing\n",
              "[1] 49371\n",
              "\n",
              "[[11]]$testing_pos\n",
              "[1] 371\n",
              "\n",
              "[[11]]$envios\n",
              "[1] 3406\n",
              "\n",
              "[[11]]$aciertos\n",
              "[1] 203\n",
              "\n",
              "[[11]]$ganancia_test\n",
              "[1] 47140000\n",
              "\n",
              "\n",
              "[[12]]\n",
              "[[12]]$semilla\n",
              "[1] 637531\n",
              "\n",
              "[[12]]$testing\n",
              "[1] 49375\n",
              "\n",
              "[[12]]$testing_pos\n",
              "[1] 368\n",
              "\n",
              "[[12]]$envios\n",
              "[1] 3465\n",
              "\n",
              "[[12]]$aciertos\n",
              "[1] 204\n",
              "\n",
              "[[12]]$ganancia_test\n",
              "[1] 46950000\n",
              "\n",
              "\n",
              "[[13]]\n",
              "[[13]]$semilla\n",
              "[1] 537347\n",
              "\n",
              "[[13]]$testing\n",
              "[1] 49374\n",
              "\n",
              "[[13]]$testing_pos\n",
              "[1] 373\n",
              "\n",
              "[[13]]$envios\n",
              "[1] 3127\n",
              "\n",
              "[[13]]$aciertos\n",
              "[1] 202\n",
              "\n",
              "[[13]]$ganancia_test\n",
              "[1] 49530000\n",
              "\n",
              "\n",
              "[[14]]\n",
              "[[14]]$semilla\n",
              "[1] 976909\n",
              "\n",
              "[[14]]$testing\n",
              "[1] 49390\n",
              "\n",
              "[[14]]$testing_pos\n",
              "[1] 372\n",
              "\n",
              "[[14]]$envios\n",
              "[1] 3751\n",
              "\n",
              "[[14]]$aciertos\n",
              "[1] 217\n",
              "\n",
              "[[14]]$ganancia_test\n",
              "[1] 49290000\n",
              "\n",
              "\n",
              "[[15]]\n",
              "[[15]]$semilla\n",
              "[1] 718691\n",
              "\n",
              "[[15]]$testing\n",
              "[1] 49386\n",
              "\n",
              "[[15]]$testing_pos\n",
              "[1] 381\n",
              "\n",
              "[[15]]$envios\n",
              "[1] 3867\n",
              "\n",
              "[[15]]$aciertos\n",
              "[1] 208\n",
              "\n",
              "[[15]]$ganancia_test\n",
              "[1] 44530000\n",
              "\n",
              "\n",
              "[[16]]\n",
              "[[16]]$semilla\n",
              "[1] 621353\n",
              "\n",
              "[[16]]$testing\n",
              "[1] 49375\n",
              "\n",
              "[[16]]$testing_pos\n",
              "[1] 374\n",
              "\n",
              "[[16]]$envios\n",
              "[1] 4488\n",
              "\n",
              "[[16]]$aciertos\n",
              "[1] 243\n",
              "\n",
              "[[16]]$ganancia_test\n",
              "[1] 52320000\n",
              "\n",
              "\n",
              "[[17]]\n",
              "[[17]]$semilla\n",
              "[1] 449783\n",
              "\n",
              "[[17]]$testing\n",
              "[1] 49386\n",
              "\n",
              "[[17]]$testing_pos\n",
              "[1] 375\n",
              "\n",
              "[[17]]$envios\n",
              "[1] 2816\n",
              "\n",
              "[[17]]$aciertos\n",
              "[1] 181\n",
              "\n",
              "[[17]]$ganancia_test\n",
              "[1] 44240000\n",
              "\n",
              "\n",
              "[[18]]\n",
              "[[18]]$semilla\n",
              "[1] 786553\n",
              "\n",
              "[[18]]$testing\n",
              "[1] 49381\n",
              "\n",
              "[[18]]$testing_pos\n",
              "[1] 378\n",
              "\n",
              "[[18]]$envios\n",
              "[1] 3356\n",
              "\n",
              "[[18]]$aciertos\n",
              "[1] 205\n",
              "\n",
              "[[18]]$ganancia_test\n",
              "[1] 48440000\n",
              "\n",
              "\n",
              "[[19]]\n",
              "[[19]]$semilla\n",
              "[1] 954157\n",
              "\n",
              "[[19]]$testing\n",
              "[1] 49393\n",
              "\n",
              "[[19]]$testing_pos\n",
              "[1] 375\n",
              "\n",
              "[[19]]$envios\n",
              "[1] 3530\n",
              "\n",
              "[[19]]$aciertos\n",
              "[1] 218\n",
              "\n",
              "[[19]]$ganancia_test\n",
              "[1] 51900000\n",
              "\n",
              "\n",
              "[[20]]\n",
              "[[20]]$semilla\n",
              "[1] 253133\n",
              "\n",
              "[[20]]$testing\n",
              "[1] 49382\n",
              "\n",
              "[[20]]$testing_pos\n",
              "[1] 376\n",
              "\n",
              "[[20]]$envios\n",
              "[1] 3171\n",
              "\n",
              "[[20]]$aciertos\n",
              "[1] 205\n",
              "\n",
              "[[20]]$ganancia_test\n",
              "[1] 50290000\n",
              "\n",
              "\n",
              "[[21]]\n",
              "[[21]]$semilla\n",
              "[1] 810923\n",
              "\n",
              "[[21]]$testing\n",
              "[1] 49372\n",
              "\n",
              "[[21]]$testing_pos\n",
              "[1] 373\n",
              "\n",
              "[[21]]$envios\n",
              "[1] 3922\n",
              "\n",
              "[[21]]$aciertos\n",
              "[1] 231\n",
              "\n",
              "[[21]]$ganancia_test\n",
              "[1] 53180000\n",
              "\n",
              "\n",
              "[[22]]\n",
              "[[22]]$semilla\n",
              "[1] 691697\n",
              "\n",
              "[[22]]$testing\n",
              "[1] 49368\n",
              "\n",
              "[[22]]$testing_pos\n",
              "[1] 373\n",
              "\n",
              "[[22]]$envios\n",
              "[1] 3189\n",
              "\n",
              "[[22]]$aciertos\n",
              "[1] 195\n",
              "\n",
              "[[22]]$ganancia_test\n",
              "[1] 46110000\n",
              "\n",
              "\n",
              "[[23]]\n",
              "[[23]]$semilla\n",
              "[1] 396577\n",
              "\n",
              "[[23]]$testing\n",
              "[1] 49378\n",
              "\n",
              "[[23]]$testing_pos\n",
              "[1] 374\n",
              "\n",
              "[[23]]$envios\n",
              "[1] 3018\n",
              "\n",
              "[[23]]$aciertos\n",
              "[1] 192\n",
              "\n",
              "[[23]]$ganancia_test\n",
              "[1] 46620000\n",
              "\n",
              "\n",
              "[[24]]\n",
              "[[24]]$semilla\n",
              "[1] 863143\n",
              "\n",
              "[[24]]$testing\n",
              "[1] 49384\n",
              "\n",
              "[[24]]$testing_pos\n",
              "[1] 376\n",
              "\n",
              "[[24]]$envios\n",
              "[1] 2605\n",
              "\n",
              "[[24]]$aciertos\n",
              "[1] 190\n",
              "\n",
              "[[24]]$ganancia_test\n",
              "[1] 49950000\n",
              "\n",
              "\n",
              "[[25]]\n",
              "[[25]]$semilla\n",
              "[1] 417883\n",
              "\n",
              "[[25]]$testing\n",
              "[1] 49372\n",
              "\n",
              "[[25]]$testing_pos\n",
              "[1] 368\n",
              "\n",
              "[[25]]$envios\n",
              "[1] 3551\n",
              "\n",
              "[[25]]$aciertos\n",
              "[1] 213\n",
              "\n",
              "[[25]]$ganancia_test\n",
              "[1] 49690000\n",
              "\n",
              "\n",
              "[[26]]\n",
              "[[26]]$semilla\n",
              "[1] 566963\n",
              "\n",
              "[[26]]$testing\n",
              "[1] 49386\n",
              "\n",
              "[[26]]$testing_pos\n",
              "[1] 372\n",
              "\n",
              "[[26]]$envios\n",
              "[1] 4099\n",
              "\n",
              "[[26]]$aciertos\n",
              "[1] 242\n",
              "\n",
              "[[26]]$ganancia_test\n",
              "[1] 55810000\n",
              "\n",
              "\n",
              "[[27]]\n",
              "[[27]]$semilla\n",
              "[1] 690509\n",
              "\n",
              "[[27]]$testing\n",
              "[1] 49373\n",
              "\n",
              "[[27]]$testing_pos\n",
              "[1] 373\n",
              "\n",
              "[[27]]$envios\n",
              "[1] 3168\n",
              "\n",
              "[[27]]$aciertos\n",
              "[1] 206\n",
              "\n",
              "[[27]]$ganancia_test\n",
              "[1] 50720000\n",
              "\n",
              "\n",
              "[[28]]\n",
              "[[28]]$semilla\n",
              "[1] 461191\n",
              "\n",
              "[[28]]$testing\n",
              "[1] 49384\n",
              "\n",
              "[[28]]$testing_pos\n",
              "[1] 372\n",
              "\n",
              "[[28]]$envios\n",
              "[1] 3684\n",
              "\n",
              "[[28]]$aciertos\n",
              "[1] 215\n",
              "\n",
              "[[28]]$ganancia_test\n",
              "[1] 49160000\n",
              "\n",
              "\n",
              "[[29]]\n",
              "[[29]]$semilla\n",
              "[1] 394619\n",
              "\n",
              "[[29]]$testing\n",
              "[1] 49371\n",
              "\n",
              "[[29]]$testing_pos\n",
              "[1] 368\n",
              "\n",
              "[[29]]$envios\n",
              "[1] 3521\n",
              "\n",
              "[[29]]$aciertos\n",
              "[1] 196\n",
              "\n",
              "[[29]]$ganancia_test\n",
              "[1] 43190000\n",
              "\n",
              "\n",
              "[[30]]\n",
              "[[30]]$semilla\n",
              "[1] 274019\n",
              "\n",
              "[[30]]$testing\n",
              "[1] 49372\n",
              "\n",
              "[[30]]$testing_pos\n",
              "[1] 372\n",
              "\n",
              "[[30]]$envios\n",
              "[1] 3436\n",
              "\n",
              "[[30]]$aciertos\n",
              "[1] 219\n",
              "\n",
              "[[30]]$ganancia_test\n",
              "[1] 53240000\n",
              "\n",
              "\n",
              "[[31]]\n",
              "[[31]]$semilla\n",
              "[1] 663239\n",
              "\n",
              "[[31]]$testing\n",
              "[1] 49385\n",
              "\n",
              "[[31]]$testing_pos\n",
              "[1] 377\n",
              "\n",
              "[[31]]$envios\n",
              "[1] 3316\n",
              "\n",
              "[[31]]$aciertos\n",
              "[1] 198\n",
              "\n",
              "[[31]]$ganancia_test\n",
              "[1] 46040000\n",
              "\n",
              "\n",
              "[[32]]\n",
              "[[32]]$semilla\n",
              "[1] 816121\n",
              "\n",
              "[[32]]$testing\n",
              "[1] 49387\n",
              "\n",
              "[[32]]$testing_pos\n",
              "[1] 378\n",
              "\n",
              "[[32]]$envios\n",
              "[1] 3283\n",
              "\n",
              "[[32]]$aciertos\n",
              "[1] 214\n",
              "\n",
              "[[32]]$ganancia_test\n",
              "[1] 52770000\n",
              "\n",
              "\n",
              "[[33]]\n",
              "[[33]]$semilla\n",
              "[1] 261431\n",
              "\n",
              "[[33]]$testing\n",
              "[1] 49377\n",
              "\n",
              "[[33]]$testing_pos\n",
              "[1] 370\n",
              "\n",
              "[[33]]$envios\n",
              "[1] 3960\n",
              "\n",
              "[[33]]$aciertos\n",
              "[1] 217\n",
              "\n",
              "[[33]]$ganancia_test\n",
              "[1] 47200000\n",
              "\n",
              "\n",
              "[[34]]\n",
              "[[34]]$semilla\n",
              "[1] 167149\n",
              "\n",
              "[[34]]$testing\n",
              "[1] 49366\n",
              "\n",
              "[[34]]$testing_pos\n",
              "[1] 372\n",
              "\n",
              "[[34]]$envios\n",
              "[1] 3158\n",
              "\n",
              "[[34]]$aciertos\n",
              "[1] 199\n",
              "\n",
              "[[34]]$ganancia_test\n",
              "[1] 48020000\n",
              "\n",
              "\n",
              "[[35]]\n",
              "[[35]]$semilla\n",
              "[1] 413779\n",
              "\n",
              "[[35]]$testing\n",
              "[1] 49378\n",
              "\n",
              "[[35]]$testing_pos\n",
              "[1] 370\n",
              "\n",
              "[[35]]$envios\n",
              "[1] 3926\n",
              "\n",
              "[[35]]$aciertos\n",
              "[1] 207\n",
              "\n",
              "[[35]]$ganancia_test\n",
              "[1] 43540000\n",
              "\n",
              "\n",
              "[[36]]\n",
              "[[36]]$semilla\n",
              "[1] 343823\n",
              "\n",
              "[[36]]$testing\n",
              "[1] 49372\n",
              "\n",
              "[[36]]$testing_pos\n",
              "[1] 374\n",
              "\n",
              "[[36]]$envios\n",
              "[1] 4188\n",
              "\n",
              "[[36]]$aciertos\n",
              "[1] 216\n",
              "\n",
              "[[36]]$ganancia_test\n",
              "[1] 44520000\n",
              "\n",
              "\n",
              "[[37]]\n",
              "[[37]]$semilla\n",
              "[1] 258487\n",
              "\n",
              "[[37]]$testing\n",
              "[1] 49386\n",
              "\n",
              "[[37]]$testing_pos\n",
              "[1] 375\n",
              "\n",
              "[[37]]$envios\n",
              "[1] 3373\n",
              "\n",
              "[[37]]$aciertos\n",
              "[1] 212\n",
              "\n",
              "[[37]]$ganancia_test\n",
              "[1] 51070000\n",
              "\n",
              "\n",
              "[[38]]\n",
              "[[38]]$semilla\n",
              "[1] 572233\n",
              "\n",
              "[[38]]$testing\n",
              "[1] 49386\n",
              "\n",
              "[[38]]$testing_pos\n",
              "[1] 379\n",
              "\n",
              "[[38]]$envios\n",
              "[1] 3472\n",
              "\n",
              "[[38]]$aciertos\n",
              "[1] 219\n",
              "\n",
              "[[38]]$ganancia_test\n",
              "[1] 52880000\n",
              "\n",
              "\n",
              "[[39]]\n",
              "[[39]]$semilla\n",
              "[1] 405347\n",
              "\n",
              "[[39]]$testing\n",
              "[1] 49370\n",
              "\n",
              "[[39]]$testing_pos\n",
              "[1] 369\n",
              "\n",
              "[[39]]$envios\n",
              "[1] 3141\n",
              "\n",
              "[[39]]$aciertos\n",
              "[1] 199\n",
              "\n",
              "[[39]]$ganancia_test\n",
              "[1] 48190000\n",
              "\n",
              "\n",
              "[[40]]\n",
              "[[40]]$semilla\n",
              "[1] 650953\n",
              "\n",
              "[[40]]$testing\n",
              "[1] 49380\n",
              "\n",
              "[[40]]$testing_pos\n",
              "[1] 377\n",
              "\n",
              "[[40]]$envios\n",
              "[1] 3652\n",
              "\n",
              "[[40]]$aciertos\n",
              "[1] 209\n",
              "\n",
              "[[40]]$ganancia_test\n",
              "[1] 47080000\n",
              "\n",
              "\n",
              "[[41]]\n",
              "[[41]]$semilla\n",
              "[1] 377831\n",
              "\n",
              "[[41]]$testing\n",
              "[1] 49378\n",
              "\n",
              "[[41]]$testing_pos\n",
              "[1] 372\n",
              "\n",
              "[[41]]$envios\n",
              "[1] 3753\n",
              "\n",
              "[[41]]$aciertos\n",
              "[1] 206\n",
              "\n",
              "[[41]]$ganancia_test\n",
              "[1] 44870000\n",
              "\n",
              "\n",
              "[[42]]\n",
              "[[42]]$semilla\n",
              "[1] 913637\n",
              "\n",
              "[[42]]$testing\n",
              "[1] 49383\n",
              "\n",
              "[[42]]$testing_pos\n",
              "[1] 375\n",
              "\n",
              "[[42]]$envios\n",
              "[1] 3084\n",
              "\n",
              "[[42]]$aciertos\n",
              "[1] 201\n",
              "\n",
              "[[42]]$ganancia_test\n",
              "[1] 49560000\n",
              "\n",
              "\n",
              "[[43]]\n",
              "[[43]]$semilla\n",
              "[1] 517261\n",
              "\n",
              "[[43]]$testing\n",
              "[1] 49374\n",
              "\n",
              "[[43]]$testing_pos\n",
              "[1] 377\n",
              "\n",
              "[[43]]$envios\n",
              "[1] 3382\n",
              "\n",
              "[[43]]$aciertos\n",
              "[1] 212\n",
              "\n",
              "[[43]]$ganancia_test\n",
              "[1] 50980000\n",
              "\n",
              "\n",
              "[[44]]\n",
              "[[44]]$semilla\n",
              "[1] 828721\n",
              "\n",
              "[[44]]$testing\n",
              "[1] 49373\n",
              "\n",
              "[[44]]$testing_pos\n",
              "[1] 375\n",
              "\n",
              "[[44]]$envios\n",
              "[1] 3490\n",
              "\n",
              "[[44]]$aciertos\n",
              "[1] 219\n",
              "\n",
              "[[44]]$ganancia_test\n",
              "[1] 52700000\n",
              "\n",
              "\n",
              "[[45]]\n",
              "[[45]]$semilla\n",
              "[1] 688939\n",
              "\n",
              "[[45]]$testing\n",
              "[1] 49380\n",
              "\n",
              "[[45]]$testing_pos\n",
              "[1] 373\n",
              "\n",
              "[[45]]$envios\n",
              "[1] 2969\n",
              "\n",
              "[[45]]$aciertos\n",
              "[1] 201\n",
              "\n",
              "[[45]]$ganancia_test\n",
              "[1] 50710000\n",
              "\n",
              "\n",
              "[[46]]\n",
              "[[46]]$semilla\n",
              "[1] 762959\n",
              "\n",
              "[[46]]$testing\n",
              "[1] 49375\n",
              "\n",
              "[[46]]$testing_pos\n",
              "[1] 377\n",
              "\n",
              "[[46]]$envios\n",
              "[1] 3033\n",
              "\n",
              "[[46]]$aciertos\n",
              "[1] 189\n",
              "\n",
              "[[46]]$ganancia_test\n",
              "[1] 45270000\n",
              "\n",
              "\n",
              "[[47]]\n",
              "[[47]]$semilla\n",
              "[1] 979969\n",
              "\n",
              "[[47]]$testing\n",
              "[1] 49388\n",
              "\n",
              "[[47]]$testing_pos\n",
              "[1] 376\n",
              "\n",
              "[[47]]$envios\n",
              "[1] 3636\n",
              "\n",
              "[[47]]$aciertos\n",
              "[1] 208\n",
              "\n",
              "[[47]]$ganancia_test\n",
              "[1] 46840000\n",
              "\n",
              "\n",
              "[[48]]\n",
              "[[48]]$semilla\n",
              "[1] 966547\n",
              "\n",
              "[[48]]$testing\n",
              "[1] 49376\n",
              "\n",
              "[[48]]$testing_pos\n",
              "[1] 377\n",
              "\n",
              "[[48]]$envios\n",
              "[1] 3404\n",
              "\n",
              "[[48]]$aciertos\n",
              "[1] 201\n",
              "\n",
              "[[48]]$ganancia_test\n",
              "[1] 46360000\n",
              "\n",
              "\n",
              "[[49]]\n",
              "[[49]]$semilla\n",
              "[1] 319129\n",
              "\n",
              "[[49]]$testing\n",
              "[1] 49373\n",
              "\n",
              "[[49]]$testing_pos\n",
              "[1] 375\n",
              "\n",
              "[[49]]$envios\n",
              "[1] 3439\n",
              "\n",
              "[[49]]$aciertos\n",
              "[1] 208\n",
              "\n",
              "[[49]]$ganancia_test\n",
              "[1] 48810000\n",
              "\n",
              "\n",
              "[[50]]\n",
              "[[50]]$semilla\n",
              "[1] 695323\n",
              "\n",
              "[[50]]$testing\n",
              "[1] 49384\n",
              "\n",
              "[[50]]$testing_pos\n",
              "[1] 378\n",
              "\n",
              "[[50]]$envios\n",
              "[1] 3274\n",
              "\n",
              "[[50]]$aciertos\n",
              "[1] 210\n",
              "\n",
              "[[50]]$ganancia_test\n",
              "[1] 51260000\n",
              "\n"
            ]
          },
          "metadata": {}
        }
      ]
    },
    {
      "cell_type": "code",
      "source": [
        "# paso la lista a vector\n",
        "tb_salida <- rbindlist(salidas)\n",
        "print( tb_salida)"
      ],
      "metadata": {
        "id": "unGWiKRMGimU",
        "colab": {
          "base_uri": "https://localhost:8080/"
        },
        "outputId": "fdf326ac-e87f-403c-a899-762f2e89be31"
      },
      "execution_count": null,
      "outputs": [
        {
          "output_type": "stream",
          "name": "stdout",
          "text": [
            "    semilla testing testing_pos envios aciertos ganancia_test\n",
            "      <int>   <int>       <int>  <int>    <int>         <num>\n",
            " 1:  335641   49377         375   3660      219      51000000\n",
            " 2:  940949   49384         376   3032      186      44080000\n",
            " 3:  934117   49370         374   2952      193      47680000\n",
            " 4:  567011   49377         373   2992      193      47280000\n",
            " 5:  530429   49375         375   3508      219      52520000\n",
            " 6:  873913   49377         372   4011      210      43890000\n",
            " 7:  956587   49379         364   3409      203      47110000\n",
            " 8:  361213   49380         376   3312      197      45680000\n",
            " 9:  464521   49362         374   2916      192      47640000\n",
            "10:  498181   49380         377   3292      227      57880000\n",
            "11:  831163   49371         371   3406      203      47140000\n",
            "12:  637531   49375         368   3465      204      46950000\n",
            "13:  537347   49374         373   3127      202      49530000\n",
            "14:  976909   49390         372   3751      217      49290000\n",
            "15:  718691   49386         381   3867      208      44530000\n",
            "16:  621353   49375         374   4488      243      52320000\n",
            "17:  449783   49386         375   2816      181      44240000\n",
            "18:  786553   49381         378   3356      205      48440000\n",
            "19:  954157   49393         375   3530      218      51900000\n",
            "20:  253133   49382         376   3171      205      50290000\n",
            "21:  810923   49372         373   3922      231      53180000\n",
            "22:  691697   49368         373   3189      195      46110000\n",
            "23:  396577   49378         374   3018      192      46620000\n",
            "24:  863143   49384         376   2605      190      49950000\n",
            "25:  417883   49372         368   3551      213      49690000\n",
            "26:  566963   49386         372   4099      242      55810000\n",
            "27:  690509   49373         373   3168      206      50720000\n",
            "28:  461191   49384         372   3684      215      49160000\n",
            "29:  394619   49371         368   3521      196      43190000\n",
            "30:  274019   49372         372   3436      219      53240000\n",
            "31:  663239   49385         377   3316      198      46040000\n",
            "32:  816121   49387         378   3283      214      52770000\n",
            "33:  261431   49377         370   3960      217      47200000\n",
            "34:  167149   49366         372   3158      199      48020000\n",
            "35:  413779   49378         370   3926      207      43540000\n",
            "36:  343823   49372         374   4188      216      44520000\n",
            "37:  258487   49386         375   3373      212      51070000\n",
            "38:  572233   49386         379   3472      219      52880000\n",
            "39:  405347   49370         369   3141      199      48190000\n",
            "40:  650953   49380         377   3652      209      47080000\n",
            "41:  377831   49378         372   3753      206      44870000\n",
            "42:  913637   49383         375   3084      201      49560000\n",
            "43:  517261   49374         377   3382      212      50980000\n",
            "44:  828721   49373         375   3490      219      52700000\n",
            "45:  688939   49380         373   2969      201      50710000\n",
            "46:  762959   49375         377   3033      189      45270000\n",
            "47:  979969   49388         376   3636      208      46840000\n",
            "48:  966547   49376         377   3404      201      46360000\n",
            "49:  319129   49373         375   3439      208      48810000\n",
            "50:  695323   49384         378   3274      210      51260000\n",
            "    semilla testing testing_pos envios aciertos ganancia_test\n"
          ]
        }
      ]
    },
    {
      "cell_type": "code",
      "source": [
        "# calulo la salida\n",
        "for( i in seq(10, 50, 10) )\n",
        "{\n",
        "  cat( i, \"\\t\", tb_salida[ 1:i, mean(ganancia_test)], \"\\n\" )\n",
        "}\n"
      ],
      "metadata": {
        "id": "oGoadhBKGimV",
        "colab": {
          "base_uri": "https://localhost:8080/"
        },
        "outputId": "de20e82c-bd1e-4112-fc79-74ba497ce748"
      },
      "execution_count": null,
      "outputs": [
        {
          "output_type": "stream",
          "name": "stdout",
          "text": [
            "10 \t 48476000 \n",
            "20 \t 48469500 \n",
            "30 \t 48902000 \n",
            "40 \t 48709250 \n",
            "50 \t 48714600 \n"
          ]
        }
      ]
    },
    {
      "cell_type": "markdown",
      "source": [
        "### Acciones a realizar\n",
        "* Reportar la  los resultados en la planilla colaborativa hoja  **C2-nsem**\n",
        "* Se discutirá en clase la variabilidad de las distintas cantidades de semillas"
      ],
      "metadata": {
        "id": "dO9yQKt7GimV"
      }
    },
    {
      "cell_type": "markdown",
      "source": [
        "\n",
        "\n",
        "---\n",
        "\n"
      ],
      "metadata": {
        "id": "ziFKwIlBGimW"
      }
    },
    {
      "cell_type": "markdown",
      "source": [
        "# 5  DiezMil -Monte Carlo Cross Validation\n",
        "## Clase 02  Experimento 5"
      ],
      "metadata": {
        "id": "2jncHe-KJLUg"
      }
    },
    {
      "cell_type": "markdown",
      "source": [
        "Mostrar a los estudiantes el resultado de un experimento en donde se ha corrido una Monte Carlo Cross Validation utilizando diez mil semillas y relacionar la cantidad de semillas con el resultado del Teorema Central del Límite\n",
        "<br>Los resultados se muestran en esta misma guia y se comentan en clase,Bajo ningún concepto se solicitará a l@s estudiantes hacer este experimento en clase ya que lleva varias horas en correr.\n"
      ],
      "metadata": {
        "id": "vUzSGZGOJZq8"
      }
    },
    {
      "cell_type": "markdown",
      "source": [
        "Aqui usted NO debe correr absolutamente nada, el experimento ya fue corrido por la cátedra y le muestra los resultados."
      ],
      "metadata": {
        "id": "G0YGjTMxuTSg"
      }
    },
    {
      "cell_type": "markdown",
      "source": [
        "## 5.1\n",
        "Estos resultados han sido corridos por la cátedra.\n",
        "\n",
        "![Distribucion de las ganancias](https://storage.googleapis.com/open-courses/austral2025-af91/labo1r/C2_E5_distribucion.jpg)"
      ],
      "metadata": {
        "id": "7NRUb3WtJikc"
      }
    },
    {
      "cell_type": "markdown",
      "source": [
        "![salida](https://storage.googleapis.com/open-courses/austral2025-af91/labo1r/C2_E5_salida.jpg)"
      ],
      "metadata": {
        "id": "tZ4X8wdSKc7G"
      }
    },
    {
      "cell_type": "markdown",
      "source": [
        "![tabla](https://storage.googleapis.com/open-courses/austral2025-af91/labo1r/C2_E5_tabla.jpg)\n",
        "\n",
        " 2    ~    1,96  =  3605406.2 / 1836264.3\n",
        "\n",
        "Por el teorema central del límite, un aumento de 4 veces de la cantidad de registros que se promedian el desvio estandar disminuye 2 veces ,  raiz(4 ) = 2"
      ],
      "metadata": {
        "id": "EsL5ukNWKS71"
      }
    },
    {
      "cell_type": "markdown",
      "source": [
        "\n",
        "\n",
        "---\n",
        "\n"
      ],
      "metadata": {
        "id": "OTLq8TC4LR0c"
      }
    },
    {
      "cell_type": "markdown",
      "source": [
        "# 6 Comparando dos distintos  modelos\n",
        "## Clase 02  Experimento 6"
      ],
      "metadata": {
        "id": "sAS1bfL8LmBv"
      }
    },
    {
      "cell_type": "markdown",
      "source": [
        "## 6.1  Objetivos\n",
        "Presentar a los alumnos la dificultad que se presenta ante la comparación de dos modelos, uno posee un poder predictivo claramente mayor al otro.\n",
        "Comparación simple de media de ganancias, versus probabilidad que un modelo sea superior a otro."
      ],
      "metadata": {
        "id": "KzwdMJDZLmB9"
      }
    },
    {
      "cell_type": "markdown",
      "source": [
        "## 6.2 Introduccion\n",
        "Estos son los dos arboles de muy distinta profundidad.\n",
        "<br>¿Cuál de ellos es mejor? ¿Cuál elijo?\n",
        "\n",
        "| Hiperparámetro | Arbol 1 | Arbol 2 |\n",
        "| --- | --: |  ---: |\n",
        "| cp | -1 | -1 |\n",
        "|minsplit | 170 | 250 |\n",
        "|minbucket | 70 | 125 |\n",
        "|maxdepth | 7 | 20 |\n",
        "\n"
      ],
      "metadata": {
        "id": "DDyFNmJ9L_CW"
      }
    },
    {
      "cell_type": "markdown",
      "source": [
        "## 6.3 Codigo dos distintos modelos"
      ],
      "metadata": {
        "id": "bQfwNsVzNrtI"
      }
    },
    {
      "cell_type": "markdown",
      "source": [
        "Esta parte se debe correr con el runtime en lenguaje **R** Ir al menu, Runtime -> Change Runtime Tipe -> Runtime type -> R"
      ],
      "metadata": {
        "id": "Ku7qQgKjNruJ"
      }
    },
    {
      "cell_type": "markdown",
      "source": [
        "El tiempo de corrida es de alrededor de 40 minutos"
      ],
      "metadata": {
        "id": "6jCdS3NMuKei"
      }
    },
    {
      "cell_type": "markdown",
      "source": [
        "limpio el ambiente de R"
      ],
      "metadata": {
        "id": "Z1EUBeHyNruK"
      }
    },
    {
      "cell_type": "code",
      "source": [
        "# limpio la memoria\n",
        "rm(list=ls(all.names=TRUE)) # remove all objects\n",
        "gc(full=TRUE, verbose=FALSE) # garbage collection"
      ],
      "metadata": {
        "id": "GxbC4V3zNruM"
      },
      "execution_count": null,
      "outputs": []
    },
    {
      "cell_type": "markdown",
      "source": [
        "* Instalacion de la libreria  rpart.plot  para dibujar el arbol\n",
        "* invocacion de las librerias  **data.table** y  **rpart**"
      ],
      "metadata": {
        "id": "i2WkSCIhNruQ"
      }
    },
    {
      "cell_type": "code",
      "source": [
        "# cargo las librerias que necesito\n",
        "require(\"data.table\")\n",
        "require(\"rpart\")\n",
        "require(\"parallel\")\n",
        "\n",
        "if (!require(\"primes\")) install.packages(\"primes\")\n",
        "require(\"primes\")\n",
        "\n",
        "require(\"ggplot2\")"
      ],
      "metadata": {
        "id": "3bMsgZJWNruR"
      },
      "execution_count": null,
      "outputs": []
    },
    {
      "cell_type": "markdown",
      "source": [
        "###  Accion a Realizar\n",
        "PARAM$semilla_primigenia  debe reemplazarse por SU primer semilla"
      ],
      "metadata": {
        "id": "t1lTXrKaNruT"
      }
    },
    {
      "cell_type": "code",
      "source": [
        "PARAM <- list()\n",
        "PARAM$semilla_primigenia <- 102191\n",
        "PARAM$qsemillas <- 20\n",
        "PARAM$training_pct <- 70L     # entre 1 y 100\n"
      ],
      "metadata": {
        "id": "QFbPtTCMNruV"
      },
      "execution_count": null,
      "outputs": []
    },
    {
      "cell_type": "code",
      "source": [
        "# los dos arboles\n",
        "PARAM$rpart1 <- list (\n",
        "  \"cp\" = -1,\n",
        "  \"minsplit\" = 170,\n",
        "  \"minbucket\" = 70,\n",
        "  \"maxdepth\" = 7\n",
        ")\n",
        "\n",
        "\n",
        "PARAM$rpart2 <- list (\n",
        "  \"cp\" = -1,\n",
        "  \"minsplit\" = 250,\n",
        "  \"minbucket\" = 125,\n",
        "  \"maxdepth\" = 20\n",
        ")"
      ],
      "metadata": {
        "id": "GiBGk7WKQv2V"
      },
      "execution_count": null,
      "outputs": []
    },
    {
      "cell_type": "code",
      "source": [
        "# particionar agrega una columna llamada fold a un dataset\n",
        "#  que consiste en una particion estratificada segun agrupa\n",
        "\n",
        "# particionar( data=dataset, division=c(70,30),\n",
        "#  agrupa=clase_ternaria, seed=semilla)   crea una particion 70, 30\n",
        "\n",
        "particionar <- function(\n",
        "    data, division, agrupa = \"\",\n",
        "    campo = \"fold\", start = 1, seed = NA) {\n",
        "  if (!is.na(seed)) set.seed(seed)\n",
        "\n",
        "  bloque <- unlist(mapply(function(x, y) {\n",
        "    rep(y, x)\n",
        "  }, division, seq(from = start, length.out = length(division))))\n",
        "\n",
        "  data[, (campo) := sample(rep(bloque, ceiling(.N / length(bloque))))[1:.N],\n",
        "    by = agrupa\n",
        "  ]\n",
        "}\n"
      ],
      "metadata": {
        "id": "2BabfKg7NruX"
      },
      "execution_count": null,
      "outputs": []
    },
    {
      "cell_type": "code",
      "source": [
        "DosArbolesEstimarGanancia <- function(semilla, training_pct, param_rpart1, param_rpart2) {\n",
        "\n",
        "  # fuerzo impresion\n",
        "  print( paste( semilla, Sys.time()) )\n",
        "  flush.console()\n",
        "\n",
        "  # particiono estratificadamente el dataset\n",
        "  particionar(dataset,\n",
        "    division = c(training_pct, 100L -training_pct),\n",
        "    agrupa = \"clase_ternaria\",\n",
        "    seed = semilla # aqui se usa SU semilla\n",
        "  )\n",
        "\n",
        "  # genero el modelo\n",
        "  # predecir clase_ternaria a partir del resto\n",
        "  modelo1 <- rpart(\"clase_ternaria ~ .\",\n",
        "    data = dataset[fold == 1], # fold==1  es training,  el 70% de los datos\n",
        "    xval = 0,\n",
        "    control = param_rpart1\n",
        "  ) # aqui van los parametros del arbol\n",
        "\n",
        "  # aplico el modelo a los datos de testing\n",
        "  prediccion1 <- predict(modelo1, # el modelo que genere recien\n",
        "    dataset[fold == 2], # fold==2  es testing, el 30% de los datos\n",
        "    type = \"prob\"\n",
        "  ) # type= \"prob\"  es que devuelva la probabilidad\n",
        "\n",
        "\n",
        "  # calculo la ganancia en testing  qu es fold==2\n",
        "  ganancia_test1 <- dataset[\n",
        "    fold == 2,\n",
        "    sum(ifelse(prediccion1[, \"BAJA+2\"] > 0.025,\n",
        "      ifelse(clase_ternaria == \"BAJA+2\", 117000, -3000),\n",
        "      0\n",
        "    ))\n",
        "  ]\n",
        "\n",
        "  # escalo la ganancia como si fuera todo el dataset\n",
        "  ganancia_test_normalizada1 <- ganancia_test1 / (( 100 - training_pct ) / 100 )\n",
        "\n",
        "  modelo2 <- rpart(\"clase_ternaria ~ .\",\n",
        "    data = dataset[fold == 1], # fold==1  es training,  el 70% de los datos\n",
        "    xval = 0,\n",
        "    control = param_rpart2\n",
        "  ) # aqui van los parametros del arbol\n",
        "\n",
        "  # aplico el modelo a los datos de testing\n",
        "  prediccion2 <- predict(modelo2, # el modelo que genere recien\n",
        "    dataset[fold == 2], # fold==2  es testing, el 30% de los datos\n",
        "    type = \"prob\"\n",
        "  ) # type= \"prob\"  es que devuelva la probabilidad\n",
        "\n",
        "\n",
        "  # calculo la ganancia en testing  qu es fold==2\n",
        "  ganancia_test2 <- dataset[\n",
        "    fold == 2,\n",
        "    sum(ifelse(prediccion2[, \"BAJA+2\"] > 0.025,\n",
        "      ifelse(clase_ternaria == \"BAJA+2\", 117000, -3000),\n",
        "      0\n",
        "    ))\n",
        "  ]\n",
        "\n",
        "  # escalo la ganancia como si fuera todo el dataset\n",
        "  ganancia_test_normalizada2 <- ganancia_test2 / (( 100 - training_pct ) / 100 )\n",
        "\n",
        "  return(list(\n",
        "    \"semilla\" = semilla,\n",
        "    \"ganancia1\" = ganancia_test_normalizada1,\n",
        "    \"ganancia2\" = ganancia_test_normalizada2\n",
        "  ))\n",
        "}"
      ],
      "metadata": {
        "id": "YrGJgj4UNruZ"
      },
      "execution_count": null,
      "outputs": []
    },
    {
      "cell_type": "code",
      "source": [
        "# carpeta de trabajo\n",
        "setwd(\"/content/buckets/b1/exp\")\n",
        "experimento <- \"exp206\"\n",
        "dir.create(experimento, showWarnings=FALSE)\n",
        "setwd( paste0(\"/content/buckets/b1/exp/\", experimento ))"
      ],
      "metadata": {
        "id": "2C2yjgQVNrud"
      },
      "execution_count": null,
      "outputs": []
    },
    {
      "cell_type": "code",
      "source": [
        "# lectura del dataset\n",
        "dataset <- fread(\"/content/datasets/dataset_pequeno.csv\")\n",
        "\n",
        "# trabajo solo con los datos con clase, es decir 202107\n",
        "dataset <- dataset[clase_ternaria != \"\"]"
      ],
      "metadata": {
        "id": "oQeGcBnPNrug"
      },
      "execution_count": null,
      "outputs": []
    },
    {
      "cell_type": "code",
      "source": [
        "detectCores()"
      ],
      "metadata": {
        "id": "gXKI2eXO9Osx"
      },
      "execution_count": null,
      "outputs": []
    },
    {
      "cell_type": "code",
      "source": [
        "# genero numeros primos\n",
        "primos <- generate_primes(min = 100000, max = 1000000)\n",
        "set.seed(PARAM$semilla_primigenia) # inicializo\n",
        "\n",
        "# me quedo con PARAM$qsemillas   semillas\n",
        "PARAM$semillas <- sample(primos, PARAM$qsemillas )"
      ],
      "metadata": {
        "id": "tU8S7_5ANrui"
      },
      "execution_count": null,
      "outputs": []
    },
    {
      "cell_type": "code",
      "source": [
        "# demora interminables 60 minutos en correr en Google Colab\n",
        "Sys.time()\n",
        "\n",
        "salidas <- mcmapply( DosArbolesEstimarGanancia,\n",
        "  PARAM$semillas, # paso el vector de semillas\n",
        "  MoreArgs = list(PARAM$training_pct, PARAM$rpart1, PARAM$rpart2), # aqui paso el segundo parametro\n",
        "  SIMPLIFY = FALSE,\n",
        "  mc.cores = detectCores()\n",
        ")\n",
        "\n",
        "Sys.time()"
      ],
      "metadata": {
        "id": "mlF66CgxcHF3"
      },
      "execution_count": null,
      "outputs": []
    },
    {
      "cell_type": "code",
      "source": [
        "# paso la lista a vector\n",
        "tb_salida <- rbindlist(salidas)\n",
        "tb_salida"
      ],
      "metadata": {
        "id": "_g-_kccdNrum"
      },
      "execution_count": null,
      "outputs": []
    },
    {
      "cell_type": "code",
      "source": [
        "grafico <- ggplot( tb_salida, aes(x=ganancia1)) + geom_density(alpha=0.25, fill=\"green\", color=\"green\")  +\n",
        "             geom_density(data=tb_salida, aes(x=ganancia2), fill=\"purple\", color=\"purple\",  alpha=0.10)\n",
        "\n",
        "print(grafico)"
      ],
      "metadata": {
        "id": "-O0rg6btNrun"
      },
      "execution_count": null,
      "outputs": []
    },
    {
      "cell_type": "code",
      "source": [
        "# imprimo en un .pdf  que va a la carpeta del experimento\n",
        "pdf(\"densidad_dos.pdf\")\n",
        "print(grafico)\n",
        "dev.off()"
      ],
      "metadata": {
        "id": "uSqrazOyU_LC"
      },
      "execution_count": null,
      "outputs": []
    },
    {
      "cell_type": "code",
      "source": [
        "print( tb_salida[ , list( \"arbol1\" = mean( ganancia1),  \"arbol2\" = mean(ganancia2) ) ] )\n",
        "\n",
        "print( tb_salida[ , list( \"prob( m1 > m2)\" = sum(ganancia1 > ganancia2 )/ .N ) ]  )"
      ],
      "metadata": {
        "id": "LGv0LB_4R7US"
      },
      "execution_count": null,
      "outputs": []
    },
    {
      "cell_type": "markdown",
      "source": [
        "### Acciones a realizar\n",
        "* Reportar la  los resultados en la planilla colaborativa hoja  **C2-dosModelos**\n",
        "* ¿Todos los alumnos hubieran elegido el mismo modelo aun con 20 semillas?"
      ],
      "metadata": {
        "id": "F6lFJf1VTi8b"
      }
    },
    {
      "cell_type": "markdown",
      "source": [
        "\n",
        "\n",
        "---\n",
        "\n"
      ],
      "metadata": {
        "id": "aOpy-XBKTi8n"
      }
    },
    {
      "cell_type": "markdown",
      "source": [
        "# 7 Comparando dos buenos  modelos\n",
        "## Clase 02  Experimento 7"
      ],
      "metadata": {
        "id": "EdzjiJf-dsEK"
      }
    },
    {
      "cell_type": "markdown",
      "source": [
        "## 7.1  Objetivos\n",
        "Presentar a los alumnos la dificultad que surge en la comparación de dos muy distintos, pero ambos buenos, modelos predictivos, y el costo computacional asociado a esa comparación\n",
        "<br>Comparación simple de media de ganancias, versus probabilidad que un modelo sea superior a otro.\n",
        "<br>Limitaciones de la MonteCarlo Cross Validation\n",
        "<br>Existencia del Test de Wilcoxon"
      ],
      "metadata": {
        "id": "FcBjp5XxdsEt"
      }
    },
    {
      "cell_type": "markdown",
      "source": [
        "## 7.2 Introduccion\n",
        "Estos son los dos arboles de muy distinta profundidad.\n",
        "<br>¿Cuál de ellos es mejor? ¿Cuál elijo?\n",
        "\n",
        "| Hiperparámetro | Arbol 1 | Arbol 2 |\n",
        "| --- | --: |  ---: |\n",
        "| cp | -1 | -1 |\n",
        "|minsplit | 170 | 1900 |\n",
        "|minbucket | 70 | 800 |\n",
        "|maxdepth | 7 | 3 |\n",
        "\n"
      ],
      "metadata": {
        "id": "tYcOIcwCdsEu"
      }
    },
    {
      "cell_type": "markdown",
      "source": [
        "## 7.3 Dos buenos modelos"
      ],
      "metadata": {
        "id": "r0NDA7GgdsEu"
      }
    },
    {
      "cell_type": "markdown",
      "source": [
        "Esta parte se debe correr con el runtime en lenguaje **R** Ir al menu, Runtime -> Change Runtime Tipe -> Runtime type -> R"
      ],
      "metadata": {
        "id": "21SJmGd7dsEv"
      }
    },
    {
      "cell_type": "markdown",
      "source": [
        "El tiempo de corrida es de alrededor de 50 minutos"
      ],
      "metadata": {
        "id": "Ne0e08KUt87w"
      }
    },
    {
      "cell_type": "markdown",
      "source": [
        "limpio el ambiente de R"
      ],
      "metadata": {
        "id": "q02SEGNwdsEv"
      }
    },
    {
      "cell_type": "code",
      "source": [
        "# limpio la memoria\n",
        "rm(list=ls(all.names=TRUE)) # remove all objects\n",
        "gc(full=TRUE, verbose=FALSE) # garbage collection"
      ],
      "metadata": {
        "id": "6c2ZJstWdsEw"
      },
      "execution_count": null,
      "outputs": []
    },
    {
      "cell_type": "markdown",
      "source": [
        "* Instalacion de la libreria  rpart.plot  para dibujar el arbol\n",
        "* invocacion de las librerias  **data.table** y  **rpart**"
      ],
      "metadata": {
        "id": "62MIW0r1dsEx"
      }
    },
    {
      "cell_type": "code",
      "source": [
        "# cargo las librerias que necesito\n",
        "require(\"data.table\")\n",
        "require(\"rpart\")\n",
        "require(\"parallel\")\n",
        "\n",
        "if (!require(\"primes\")) install.packages(\"primes\")\n",
        "require(\"primes\")\n",
        "\n",
        "require(\"ggplot2\")"
      ],
      "metadata": {
        "id": "2Ke4n-N8dsEy"
      },
      "execution_count": null,
      "outputs": []
    },
    {
      "cell_type": "markdown",
      "source": [
        "###  Accion a Realizar\n",
        "PARAM$semilla_primigenia  debe reemplazarse por SU primer semilla"
      ],
      "metadata": {
        "id": "UHSoeqi4dsEz"
      }
    },
    {
      "cell_type": "code",
      "source": [
        "PARAM <- list()\n",
        "PARAM$semilla_primigenia <- 102191\n",
        "PARAM$qsemillas <- 50\n",
        "PARAM$training_pct <- 70L     # entre 1 y 100\n"
      ],
      "metadata": {
        "id": "f08_sqfAdsEz"
      },
      "execution_count": null,
      "outputs": []
    },
    {
      "cell_type": "code",
      "source": [
        "# los dos arboles\n",
        "PARAM$rpart1 <- list (\n",
        "  \"cp\" = -1,\n",
        "  \"minsplit\" = 170,\n",
        "  \"minbucket\" = 70,\n",
        "  \"maxdepth\" = 7\n",
        ")\n",
        "\n",
        "\n",
        "PARAM$rpart2 <- list (\n",
        "  \"cp\" = -1,\n",
        "  \"minsplit\" = 1900,\n",
        "  \"minbucket\" = 800,\n",
        "  \"maxdepth\" = 3\n",
        ")\n"
      ],
      "metadata": {
        "id": "L735D9rydsE0"
      },
      "execution_count": null,
      "outputs": []
    },
    {
      "cell_type": "code",
      "source": [
        "# particionar agrega una columna llamada fold a un dataset\n",
        "#  que consiste en una particion estratificada segun agrupa\n",
        "\n",
        "# particionar( data=dataset, division=c(70,30),\n",
        "#  agrupa=clase_ternaria, seed=semilla)   crea una particion 70, 30\n",
        "\n",
        "particionar <- function(\n",
        "    data, division, agrupa = \"\",\n",
        "    campo = \"fold\", start = 1, seed = NA) {\n",
        "  if (!is.na(seed)) set.seed(seed)\n",
        "\n",
        "  bloque <- unlist(mapply(function(x, y) {\n",
        "    rep(y, x)\n",
        "  }, division, seq(from = start, length.out = length(division))))\n",
        "\n",
        "  data[, (campo) := sample(rep(bloque, ceiling(.N / length(bloque))))[1:.N],\n",
        "    by = agrupa\n",
        "  ]\n",
        "}\n"
      ],
      "metadata": {
        "id": "O56epLUGdsE1"
      },
      "execution_count": null,
      "outputs": []
    },
    {
      "cell_type": "code",
      "source": [
        "DosArbolesEstimarGanancia <- function(semilla, training_pct, param_rpart1, param_rpart2) {\n",
        "  # fuerzo impresion\n",
        "  print( paste( semilla, Sys.time()) )\n",
        "  flush.console()\n",
        "\n",
        "  # particiono estratificadamente el dataset\n",
        "  particionar(dataset,\n",
        "    division = c(training_pct, 100L -training_pct),\n",
        "    agrupa = \"clase_ternaria\",\n",
        "    seed = semilla # aqui se usa SU semilla\n",
        "  )\n",
        "\n",
        "  # genero el modelo\n",
        "  # predecir clase_ternaria a partir del resto\n",
        "  modelo1 <- rpart(\"clase_ternaria ~ .\",\n",
        "    data = dataset[fold == 1], # fold==1  es training,  el 70% de los datos\n",
        "    xval = 0,\n",
        "    control = param_rpart1\n",
        "  ) # aqui van los parametros del arbol\n",
        "\n",
        "  # aplico el modelo a los datos de testing\n",
        "  prediccion1 <- predict(modelo1, # el modelo que genere recien\n",
        "    dataset[fold == 2], # fold==2  es testing, el 30% de los datos\n",
        "    type = \"prob\"\n",
        "  ) # type= \"prob\"  es que devuelva la probabilidad\n",
        "\n",
        "\n",
        "  # calculo la ganancia en testing  qu es fold==2\n",
        "  ganancia_test1 <- dataset[\n",
        "    fold == 2,\n",
        "    sum(ifelse(prediccion1[, \"BAJA+2\"] > 0.025,\n",
        "      ifelse(clase_ternaria == \"BAJA+2\", 117000, -3000),\n",
        "      0\n",
        "    ))\n",
        "  ]\n",
        "\n",
        "  # escalo la ganancia como si fuera todo el dataset\n",
        "  ganancia_test_normalizada1 <- ganancia_test1 / (( 100 - training_pct ) / 100 )\n",
        "\n",
        "  modelo2 <- rpart(\"clase_ternaria ~ .\",\n",
        "    data = dataset[fold == 1], # fold==1  es training,  el 70% de los datos\n",
        "    xval = 0,\n",
        "    control = param_rpart2\n",
        "  ) # aqui van los parametros del arbol\n",
        "\n",
        "  # aplico el modelo a los datos de testing\n",
        "  prediccion2 <- predict(modelo2, # el modelo que genere recien\n",
        "    dataset[fold == 2], # fold==2  es testing, el 30% de los datos\n",
        "    type = \"prob\"\n",
        "  ) # type= \"prob\"  es que devuelva la probabilidad\n",
        "\n",
        "\n",
        "  # calculo la ganancia en testing  qu es fold==2\n",
        "  ganancia_test2 <- dataset[\n",
        "    fold == 2,\n",
        "    sum(ifelse(prediccion2[, \"BAJA+2\"] > 0.025,\n",
        "      ifelse(clase_ternaria == \"BAJA+2\", 117000, -3000),\n",
        "      0\n",
        "    ))\n",
        "  ]\n",
        "\n",
        "  # escalo la ganancia como si fuera todo el dataset\n",
        "  ganancia_test_normalizada2 <- ganancia_test2 / (( 100 - training_pct ) / 100 )\n",
        "\n",
        "  return(list(\n",
        "    \"semilla\" = semilla,\n",
        "    \"ganancia1\" = ganancia_test_normalizada1,\n",
        "    \"ganancia2\" = ganancia_test_normalizada2\n",
        "  ))\n",
        "}"
      ],
      "metadata": {
        "id": "Bv_NorLhdsE1"
      },
      "execution_count": null,
      "outputs": []
    },
    {
      "cell_type": "code",
      "source": [
        "# carpeta de trabajo\n",
        "setwd(\"/content/buckets/b1/exp\")\n",
        "experimento <- \"exp206\"\n",
        "dir.create(experimento, showWarnings=FALSE)\n",
        "setwd( paste0(\"/content/buckets/b1/exp/\", experimento ))"
      ],
      "metadata": {
        "id": "N9GarblIdsE3"
      },
      "execution_count": null,
      "outputs": []
    },
    {
      "cell_type": "code",
      "source": [
        "# lectura del dataset\n",
        "dataset <- fread(\"/content/datasets/dataset_pequeno.csv\")\n",
        "\n",
        "# trabajo solo con los datos con clase, es decir 202107\n",
        "dataset <- dataset[clase_ternaria != \"\"]"
      ],
      "metadata": {
        "id": "Z05r3wdTdsE3"
      },
      "execution_count": null,
      "outputs": []
    },
    {
      "cell_type": "code",
      "source": [
        "# genero numeros primos\n",
        "primos <- generate_primes(min = 100000, max = 1000000)\n",
        "set.seed(PARAM$semilla_primigenia) # inicializo\n",
        "\n",
        "# me quedo con PARAM$qsemillas   semillas\n",
        "PARAM$semillas <- sample(primos, PARAM$qsemillas )"
      ],
      "metadata": {
        "id": "m8ODrVrndsE4"
      },
      "execution_count": null,
      "outputs": []
    },
    {
      "cell_type": "code",
      "source": [
        "# la funcion mcmapply  llama a la funcion DosArbolesEstimarGanancia\n",
        "#  tantas veces como valores tenga el vector  PARAM$semillas\n",
        "Sys.time()\n",
        "\n",
        "salidas <- mcmapply( DosArbolesEstimarGanancia,\n",
        "  PARAM$semillas, # paso el vector de semillas\n",
        "  MoreArgs = list(PARAM$training_pct, PARAM$rpart1, PARAM$rpart2), # aqui paso el segundo parametro\n",
        "  SIMPLIFY = FALSE,\n",
        "  mc.cores = detectCores()\n",
        ")\n",
        "\n",
        "Sys.time()"
      ],
      "metadata": {
        "id": "KQBhUXxJdsE5"
      },
      "execution_count": null,
      "outputs": []
    },
    {
      "cell_type": "code",
      "source": [
        "# paso la lista a vector\n",
        "tb_salida <- rbindlist(salidas)\n",
        "tb_salida"
      ],
      "metadata": {
        "id": "N0eS1CFFdsE5"
      },
      "execution_count": null,
      "outputs": []
    },
    {
      "cell_type": "code",
      "source": [
        "grafico <- ggplot( tb_salida, aes(x=ganancia1), fill=\"green\", color=\"green\") + geom_density(alpha=0.25)  +\n",
        "             geom_density(data=tb_salida, aes(x=ganancia2), fill=\"purple\", color=\"purple\",  alpha=0.10)\n",
        "\n",
        "print(grafico)"
      ],
      "metadata": {
        "id": "6vf28ujAdsE6"
      },
      "execution_count": null,
      "outputs": []
    },
    {
      "cell_type": "code",
      "source": [
        "# imprimo en un .pdf  que va a la carpeta del experimento\n",
        "pdf(\"densidad_dos.pdf\")\n",
        "print(grafico)\n",
        "dev.off()"
      ],
      "metadata": {
        "id": "TA9lLa6-dsE6"
      },
      "execution_count": null,
      "outputs": []
    },
    {
      "cell_type": "code",
      "source": [
        "# medias de las ganancias\n",
        "print( tb_salida[ , list( \"arbol1\" = mean( ganancia1),  \"arbol2\" = mean(ganancia2) ) ] )\n"
      ],
      "metadata": {
        "id": "xAOpyZTqdsE7"
      },
      "execution_count": null,
      "outputs": []
    },
    {
      "cell_type": "code",
      "source": [
        "# probabilidad que m1 sea mayor a m2\n",
        "print( tb_salida[ , list( \"prob( m1 > m2)\" = sum(ganancia1 > ganancia2 )/ .N ) ]  )"
      ],
      "metadata": {
        "id": "8rdPIcfzgob7"
      },
      "execution_count": null,
      "outputs": []
    },
    {
      "cell_type": "markdown",
      "source": [
        "### Acciones a realizar\n",
        "* Reportar la  los resultados en la planilla colaborativa hoja  **C2-dosBuenos**\n"
      ],
      "metadata": {
        "id": "nNNJWYRadsE7"
      }
    },
    {
      "cell_type": "markdown",
      "source": [
        "\n",
        "\n",
        "---\n",
        "\n"
      ],
      "metadata": {
        "id": "LTBEq6SEdsE8"
      }
    },
    {
      "cell_type": "markdown",
      "source": [],
      "metadata": {
        "id": "ebcTZX7Sg1Le"
      }
    },
    {
      "cell_type": "markdown",
      "source": [
        "# 8 Test de Wilcoxon\n",
        "## Clase 02  Experimento 8"
      ],
      "metadata": {
        "id": "RAtn4x6Bg1u1"
      }
    },
    {
      "cell_type": "markdown",
      "source": [],
      "metadata": {
        "id": "RWxjnSsVg_ol"
      }
    },
    {
      "cell_type": "markdown",
      "source": [
        "## 8.1  Objetivos\n",
        "\n",
        "¿Como calcular la cantidad mínima de semillas que hacen falta para tener cierta certeza que un modelo es superior a otro?"
      ],
      "metadata": {
        "id": "Gf0LF3ywhAEU"
      }
    },
    {
      "cell_type": "markdown",
      "source": [
        "## 8.2  Introduccion\n",
        "\n",
        "| Hiperparámetro | Arbol 1 | Arbol 2 |\n",
        "| --- | --: |  ---: |\n",
        "| cp | -1 | -1 |\n",
        "|minsplit | 170 | 250 |\n",
        "|minbucket | 70 | 125 |\n",
        "|maxdepth | 7 | 20 |\n",
        "\n",
        "<br>\n",
        "<br>\n",
        "\n",
        "\n",
        "| ordinal | semilla | ganancia1 | ganancia2 | p-value |\n",
        "| --- | --- |  --- |  --- |  --- |\n",
        "| 1 |378821 | 41,470,000 | 37,790,000 | 1.000 |\n",
        "| 2 | 964333  | 48,480,000  | 43,660,000 | 0.500 |\n",
        "| 3 | 187049 | 50,610,000 | 47,840,000 | 0.250 |\n",
        "| 4 | 205151 | 45,580,000 | 44,490,000 | 0.125 |\n",
        "| 5 | 813697 | 52,780,000 | 46,750,000 |  0.063 |\n",
        "| 6 | 344719 | 49,970,000 | 44,300,000 | 0.031 |\n",
        "|7 |127217  |52,810,000 | 42,840,000 |0.016 |\n",
        "| 8 | 464371 | 43,060,000 | 37,300,000 | 0.008 |\n",
        "| 9 | 645137 | 49,660,000 |43,730,000 | 0.004|\n",
        "\n",
        "\n"
      ],
      "metadata": {
        "id": "k4PJGTDViZne"
      }
    },
    {
      "cell_type": "markdown",
      "source": [
        "## 8.3 Codigo Test de Wilcoxon"
      ],
      "metadata": {
        "id": "gAeSRdWRhg61"
      }
    },
    {
      "cell_type": "code",
      "source": [
        "# 1 sola ganancia\n",
        "wilcox.test(\n",
        "  c(41470000),\n",
        "  c(37790000),\n",
        "  paired = TRUE\n",
        ")\n"
      ],
      "metadata": {
        "id": "6r5M0J0HdsE8"
      },
      "execution_count": null,
      "outputs": []
    },
    {
      "cell_type": "code",
      "source": [
        "# 2 ganancias\n",
        "wilcox.test(\n",
        "  c(41470000, 48480000),\n",
        "  c(37790000, 43660000),\n",
        "  paired = TRUE\n",
        ")\n"
      ],
      "metadata": {
        "id": "1pscqL9vLzYE"
      },
      "execution_count": null,
      "outputs": []
    },
    {
      "cell_type": "code",
      "source": [
        "# 3 ganancias\n",
        "wilcox.test(\n",
        "  c(41470000, 48480000, 50610000),\n",
        "  c(37790000, 43660000, 47840000),\n",
        "  paired = TRUE\n",
        ")"
      ],
      "metadata": {
        "id": "p3f_mtKwhSHA"
      },
      "execution_count": null,
      "outputs": []
    },
    {
      "cell_type": "code",
      "source": [
        "# 4 ganancias\n",
        "wilcox.test(\n",
        "  c(41470000, 48480000, 50610000, 45580000),\n",
        "  c(37790000, 43660000, 47840000, 44490000),\n",
        "  paired = TRUE\n",
        ")\n"
      ],
      "metadata": {
        "id": "-ijX69r9hT6Z"
      },
      "execution_count": null,
      "outputs": []
    },
    {
      "cell_type": "code",
      "source": [
        "# 5 ganancias\n",
        "wilcox.test(\n",
        "  c(41470000, 48480000, 50610000, 45580000, 52780000),\n",
        "  c(37790000, 43660000, 47840000, 44490000, 46750000),\n",
        "  paired = TRUE\n",
        ")"
      ],
      "metadata": {
        "id": "X9J_CHGehVfr"
      },
      "execution_count": null,
      "outputs": []
    },
    {
      "cell_type": "code",
      "source": [
        "# 6 ganancias\n",
        "wilcox.test(\n",
        "  c(41470000, 48480000, 50610000, 45580000, 52780000, 49970000),\n",
        "  c(37790000, 43660000, 47840000, 44490000, 46750000, 44300000),\n",
        "  paired = TRUE\n",
        ")"
      ],
      "metadata": {
        "id": "H3CNNonOhXp0"
      },
      "execution_count": null,
      "outputs": []
    },
    {
      "cell_type": "code",
      "source": [
        "# Finalmente el p-value es  0.03125  < 0.05\n",
        "# hicieron falta  SEIS semillas, seis ganancias, para\n",
        "#   afirmar que el modelo 1 es superior al modelo 2\n",
        "\n",
        "# 7 ganancias\n",
        "wilcox.test(\n",
        "  c(41470000, 48480000, 50610000, 45580000, 52780000, 49970000, 52810000),\n",
        "  c(37790000, 43660000, 47840000, 44490000, 46750000, 44300000, 42840000),\n",
        "  paired = TRUE\n",
        ")\n"
      ],
      "metadata": {
        "id": "NTW8kwY8hamz"
      },
      "execution_count": null,
      "outputs": []
    },
    {
      "cell_type": "code",
      "source": [
        "# 8 ganancias\n",
        "wilcox.test(\n",
        "  c(41470000, 48480000, 50610000, 45580000, 52780000, 49970000, 52810000, 43060000),\n",
        "  c(37790000, 43660000, 47840000, 44490000, 46750000, 44300000, 42840000, 37300000),\n",
        "  paired = TRUE\n",
        ")\n"
      ],
      "metadata": {
        "id": "Xks918w8hcgC"
      },
      "execution_count": null,
      "outputs": []
    },
    {
      "cell_type": "code",
      "source": [
        "# 9 ganancias\n",
        "wilcox.test(\n",
        "  c(41470000, 48480000, 50610000, 45580000, 52780000, 49970000, 52810000, 43060000, 49660000),\n",
        "  c(37790000, 43660000, 47840000, 44490000, 46750000, 44300000, 42840000, 37300000, 43730000),\n",
        "  paired = TRUE\n",
        ")"
      ],
      "metadata": {
        "id": "5x8L1PMGhdJR"
      },
      "execution_count": null,
      "outputs": []
    },
    {
      "cell_type": "markdown",
      "source": [
        "\n",
        "\n",
        "---\n",
        "\n"
      ],
      "metadata": {
        "id": "Qjay2WBIkhNm"
      }
    },
    {
      "cell_type": "markdown",
      "source": [
        "# 9 Comparando automaticamente modelos con test de Wilcoxon\n",
        "## Clase 02  Experimento 9"
      ],
      "metadata": {
        "id": "g2aqxlCIk3fk"
      }
    },
    {
      "cell_type": "markdown",
      "source": [],
      "metadata": {
        "id": "FhCY4sH8k3fw"
      }
    },
    {
      "cell_type": "markdown",
      "source": [
        "## 9.1  Objetivos\n",
        "\n",
        "Proveer un script que permita comparar dos arboles de decisión con la librería rpart utilizando la menor cantidad de cómputo que permita el Test de Wilxcoxon"
      ],
      "metadata": {
        "id": "a_ZVBKBHk3fx"
      }
    },
    {
      "cell_type": "markdown",
      "source": [
        "## 9.2  Introduccion\n",
        "\n",
        "| Hiperparámetro | Arbol 1 | Arbol 2 |\n",
        "| --- | --- |  --- |\n",
        "| cp | -1 | -1 |\n",
        "|minsplit | 1050 | 650 |\n",
        "|minbucket | 550 | 300 |\n",
        "|maxdepth |67 | 6 |\n",
        "\n",
        "\n"
      ],
      "metadata": {
        "id": "qCd56L0Ik3fx"
      }
    },
    {
      "cell_type": "markdown",
      "source": [
        "## 9.3 Codigo comparacion automatica Wilcoxon"
      ],
      "metadata": {
        "id": "NBtQsG3vk3fx"
      }
    },
    {
      "cell_type": "markdown",
      "source": [
        "Esta parte se debe correr con el runtime en lenguaje **R** Ir al menu, Runtime -> Change Runtime Tipe -> Runtime type -> R"
      ],
      "metadata": {
        "id": "-ARzDPORlpG6"
      }
    },
    {
      "cell_type": "markdown",
      "source": [
        "limpio el ambiente de R"
      ],
      "metadata": {
        "id": "-Sy-sLMXlpHI"
      }
    },
    {
      "cell_type": "code",
      "source": [
        "# limpio la memoria\n",
        "rm(list=ls(all.names=TRUE)) # remove all objects\n",
        "gc(full=TRUE, verbose=FALSE) # garbage collection"
      ],
      "metadata": {
        "id": "ZpST7lcHlpHI"
      },
      "execution_count": null,
      "outputs": []
    },
    {
      "cell_type": "markdown",
      "source": [
        "* Instalacion de la libreria  rpart.plot  para dibujar el arbol\n",
        "* invocacion de las librerias  **data.table** y  **rpart**"
      ],
      "metadata": {
        "id": "jHhAx3cvlpHJ"
      }
    },
    {
      "cell_type": "code",
      "source": [
        "# cargo las librerias que necesito\n",
        "require(\"data.table\")\n",
        "require(\"rpart\")\n",
        "require(\"parallel\")\n",
        "\n",
        "if (!require(\"primes\")) install.packages(\"primes\")\n",
        "require(\"primes\")\n",
        "\n",
        "require(\"ggplot2\")"
      ],
      "metadata": {
        "id": "cbPnXeeqlpHJ"
      },
      "execution_count": null,
      "outputs": []
    },
    {
      "cell_type": "markdown",
      "source": [
        "###  Accion a Realizar\n",
        "PARAM$semilla_primigenia  debe reemplazarse por SU primer semilla"
      ],
      "metadata": {
        "id": "_GQk_NEUlpHK"
      }
    },
    {
      "cell_type": "code",
      "source": [
        "PARAM <- list()\n",
        "PARAM$semilla_primigenia <- 102191\n",
        "PARAM$qsemillas_tope <- 50\n",
        "PARAM$training_pct <- 70L     # entre 1 y 100\n"
      ],
      "metadata": {
        "id": "Do801PIHlpHK"
      },
      "execution_count": null,
      "outputs": []
    },
    {
      "cell_type": "code",
      "source": [
        "# los dos arboles\n",
        "PARAM$rpart1 <- list (\n",
        "  \"cp\" = -1,\n",
        "  \"minsplit\" = 800,\n",
        "  \"minbucket\" = 400,\n",
        "  \"maxdepth\" = 7\n",
        ")\n",
        "\n",
        "\n",
        "PARAM$rpart2 <- list (\n",
        "  \"cp\" = -1,\n",
        "  \"minsplit\" = 650,\n",
        "  \"minbucket\" = 300,\n",
        "  \"maxdepth\" = 6\n",
        ")\n"
      ],
      "metadata": {
        "id": "KlC7gTc7lpHK"
      },
      "execution_count": null,
      "outputs": []
    },
    {
      "cell_type": "code",
      "source": [
        "# particionar agrega una columna llamada fold a un dataset\n",
        "#  que consiste en una particion estratificada segun agrupa\n",
        "\n",
        "# particionar( data=dataset, division=c(70,30),\n",
        "#  agrupa=clase_ternaria, seed=semilla)   crea una particion 70, 30\n",
        "\n",
        "particionar <- function(\n",
        "    data, division, agrupa = \"\",\n",
        "    campo = \"fold\", start = 1, seed = NA) {\n",
        "  if (!is.na(seed)) set.seed(seed)\n",
        "\n",
        "  bloque <- unlist(mapply(function(x, y) {\n",
        "    rep(y, x)\n",
        "  }, division, seq(from = start, length.out = length(division))))\n",
        "\n",
        "  data[, (campo) := sample(rep(bloque, ceiling(.N / length(bloque))))[1:.N],\n",
        "    by = agrupa\n",
        "  ]\n",
        "}\n"
      ],
      "metadata": {
        "id": "I7hOkZrxlpHL"
      },
      "execution_count": null,
      "outputs": []
    },
    {
      "cell_type": "code",
      "source": [
        "DosArbolesEstimarGanancia <- function(semilla, training_pct, param_rpart1, param_rpart2) {\n",
        "  # particiono estratificadamente el dataset\n",
        "  particionar(dataset,\n",
        "    division = c(training_pct, 100L -training_pct),\n",
        "    agrupa = \"clase_ternaria\",\n",
        "    seed = semilla # aqui se usa SU semilla\n",
        "  )\n",
        "\n",
        "  # genero el modelo\n",
        "  # predecir clase_ternaria a partir del resto\n",
        "  modelo1 <- rpart(\"clase_ternaria ~ .\",\n",
        "    data = dataset[fold == 1], # fold==1  es training,  el 70% de los datos\n",
        "    xval = 0,\n",
        "    control = param_rpart1\n",
        "  ) # aqui van los parametros del arbol\n",
        "\n",
        "  # aplico el modelo a los datos de testing\n",
        "  prediccion1 <- predict(modelo1, # el modelo que genere recien\n",
        "    dataset[fold == 2], # fold==2  es testing, el 30% de los datos\n",
        "    type = \"prob\"\n",
        "  ) # type= \"prob\"  es que devuelva la probabilidad\n",
        "\n",
        "\n",
        "  # calculo la ganancia en testing  qu es fold==2\n",
        "  ganancia_test1 <- dataset[\n",
        "    fold == 2,\n",
        "    sum(ifelse(prediccion1[, \"BAJA+2\"] > 0.025,\n",
        "      ifelse(clase_ternaria == \"BAJA+2\", 117000, -3000),\n",
        "      0\n",
        "    ))\n",
        "  ]\n",
        "\n",
        "  # escalo la ganancia como si fuera todo el dataset\n",
        "  ganancia_test_normalizada1 <- ganancia_test1 / (( 100 - training_pct ) / 100 )\n",
        "\n",
        "  modelo2 <- rpart(\"clase_ternaria ~ .\",\n",
        "    data = dataset[fold == 1], # fold==1  es training,  el 70% de los datos\n",
        "    xval = 0,\n",
        "    control = param_rpart2\n",
        "  ) # aqui van los parametros del arbol\n",
        "\n",
        "  # aplico el modelo a los datos de testing\n",
        "  prediccion2 <- predict(modelo2, # el modelo que genere recien\n",
        "    dataset[fold == 2], # fold==2  es testing, el 30% de los datos\n",
        "    type = \"prob\"\n",
        "  ) # type= \"prob\"  es que devuelva la probabilidad\n",
        "\n",
        "\n",
        "  # calculo la ganancia en testing  qu es fold==2\n",
        "  ganancia_test2 <- dataset[\n",
        "    fold == 2,\n",
        "    sum(ifelse(prediccion2[, \"BAJA+2\"] > 0.025,\n",
        "      ifelse(clase_ternaria == \"BAJA+2\", 117000, -3000),\n",
        "      0\n",
        "    ))\n",
        "  ]\n",
        "\n",
        "  # escalo la ganancia como si fuera todo el dataset\n",
        "  ganancia_test_normalizada2 <- ganancia_test2 / (( 100 - training_pct ) / 100 )\n",
        "\n",
        "  return(list(\n",
        "    \"semilla\" = semilla,\n",
        "    \"ganancia1\" = ganancia_test_normalizada1,\n",
        "    \"ganancia2\" = ganancia_test_normalizada2\n",
        "  ))\n",
        "}"
      ],
      "metadata": {
        "id": "vFpBSFBYlpHL"
      },
      "execution_count": null,
      "outputs": []
    },
    {
      "cell_type": "code",
      "source": [
        "# 1  ->  el modelo 1 es mejor\n",
        "# 2  ->  el modelo 2 es mejor\n",
        "# 0  ->  No se pudo determinar con el tope de qsemillas_tope\n",
        "\n",
        "\n",
        "MejorArbol <- function( qsemillas_tope, training_pct, param_rpart1, param_rpart2) {\n",
        "\n",
        "  # genero numeros primos\n",
        "  primos <- generate_primes(min = 100000, max = 1000000)\n",
        "  set.seed(PARAM$semilla_primigenia) # inicializo\n",
        "  # me quedo con PARAM$qsemillas   semillas\n",
        "  semillas <- sample(primos, qsemillas_tope )\n",
        "\n",
        "  pvalue <- 1.0\n",
        "  isem <- 1\n",
        "  vgan1 <- c() # almaceno ganancias del modelo1\n",
        "  vgan2 <- c() # almaceno ganancias del modelo2\n",
        "\n",
        "  while( (isem <= qsemillas_tope)  & (pvalue > 0.05) ) {\n",
        "\n",
        "    res <- DosArbolesEstimarGanancia(\n",
        "       semillas[ isem ],\n",
        "       training_pct,\n",
        "       param_rpart1,\n",
        "       param_rpart2\n",
        "    )\n",
        "\n",
        "    vgan1 <- c( vgan1, res$ganancia1 )\n",
        "    vgan2 <- c( vgan2, res$ganancia2 )\n",
        "\n",
        "    wt <- wilcox.test( vgan1, vgan2, paired=TRUE )\n",
        "    pvalue <- wt$p.value\n",
        "\n",
        "    cat( isem, res$ganancia1, res$ganancia2, pvalue, \"\\n\" )\n",
        "    flush.console()\n",
        "    isem <- isem + 1\n",
        "  }\n",
        "\n",
        "  out <- 0\n",
        "\n",
        "  if( pvalue < 0.05 & mean(vgan1) > mean(vgan2)  )  out <- 1\n",
        "  if( pvalue < 0.05 & mean(vgan1) < mean(vgan2)  )  out <- 2\n",
        "\n",
        "\n",
        "  return( list( \"out\" = out,\n",
        "    \"qsemillas\" = length(vgan1),\n",
        "    \"m1\" = mean( vgan1 ),\n",
        "    \"m2\" = mean( vgan2 )\n",
        "   ) )\n",
        "}\n"
      ],
      "metadata": {
        "id": "Cp8RnA_NmE8g"
      },
      "execution_count": null,
      "outputs": []
    },
    {
      "cell_type": "code",
      "source": [
        "# carpeta de trabajo\n",
        "setwd(\"/content/buckets/b1/exp\")\n",
        "experimento <- \"exp209\"\n",
        "dir.create(experimento, showWarnings=FALSE)\n",
        "setwd( paste0(\"/content/buckets/b1/exp/\", experimento ))"
      ],
      "metadata": {
        "id": "r1motpfOlpHM"
      },
      "execution_count": null,
      "outputs": []
    },
    {
      "cell_type": "code",
      "source": [
        "# lectura del dataset\n",
        "dataset <- fread(\"/content/datasets/dataset_pequeno.csv\")\n",
        "\n",
        "# trabajo solo con los datos con clase, es decir 202107\n",
        "dataset <- dataset[clase_ternaria != \"\"]"
      ],
      "metadata": {
        "id": "hT0LaKWumTSu"
      },
      "execution_count": null,
      "outputs": []
    },
    {
      "cell_type": "code",
      "source": [
        "Sys.time()\n",
        "\n",
        "comparacion <- MejorArbol(\n",
        "   PARAM$qsemillas_tope,\n",
        "   PARAM$training_pct,\n",
        "   PARAM$rpart1,\n",
        "   PARAM$rpart2\n",
        " )\n",
        "\n",
        "\n",
        "print( comparacion )\n",
        "\n",
        "Sys.time()"
      ],
      "metadata": {
        "id": "wsk0F77ambVW"
      },
      "execution_count": null,
      "outputs": []
    },
    {
      "cell_type": "markdown",
      "source": [
        "### Acciones a realizar\n",
        "* Reportar la  los resultados en la planilla colaborativa hoja  **C2-Wilcox**\n"
      ],
      "metadata": {
        "id": "d2br1bgJlpHQ"
      }
    },
    {
      "cell_type": "code",
      "source": [],
      "metadata": {
        "id": "ZBtwPhIQD6p0"
      },
      "execution_count": null,
      "outputs": []
    },
    {
      "cell_type": "markdown",
      "source": [
        "\n",
        "\n",
        "---\n",
        "\n"
      ],
      "metadata": {
        "id": "x7SebtV2lpHQ"
      }
    }
  ]
}